{
  "nbformat": 4,
  "nbformat_minor": 0,
  "metadata": {
    "colab": {
      "provenance": [],
      "collapsed_sections": [],
      "include_colab_link": true
    },
    "kernelspec": {
      "name": "python3",
      "display_name": "Python 3"
    },
    "language_info": {
      "name": "python"
    }
  },
  "cells": [
    {
      "cell_type": "markdown",
      "metadata": {
        "id": "view-in-github",
        "colab_type": "text"
      },
      "source": [
        "<a href=\"https://colab.research.google.com/github/alfie-agustin/Analisis-predictivo/blob/main/Car_Price.ipynb\" target=\"_parent\"><img src=\"https://colab.research.google.com/assets/colab-badge.svg\" alt=\"Open In Colab\"/></a>"
      ]
    },
    {
      "cell_type": "markdown",
      "source": [
        "#Falta\n",
        "\n",
        " - Como ordenar la exposicion\n",
        " - arrancar la explicacion\n",
        " - Analisis outliers\n",
        " - optimizar modelos\n"
      ],
      "metadata": {
        "id": "2mibb-jilqmR"
      }
    },
    {
      "cell_type": "markdown",
      "source": [
        "***Hipotesis:***\n",
        "\n",
        "1) La marca va a influenciar al precio\n",
        "\n",
        "2) El tamaño de motor y caballos (cuanto mas) mas va a subir el precio\n",
        "\n",
        "3) el tamaño del auto va a influenciar en el precio\n",
        "\n",
        "4) el tipo de nafta va a influenciar en el precio\n",
        "\n",
        "\n",
        "\n",
        "\n",
        "\n",
        "\n"
      ],
      "metadata": {
        "id": "4W5eZi1CnKB-"
      }
    },
    {
      "cell_type": "code",
      "execution_count": 153,
      "metadata": {
        "id": "dhKux--jvO7S"
      },
      "outputs": [],
      "source": [
        "import pandas as pd\n",
        "import matplotlib.pyplot as plt\n",
        "import seaborn as sns\n",
        "import numpy as np\n",
        "import os as os\n",
        "import scipy.stats as stats"
      ]
    },
    {
      "cell_type": "code",
      "source": [
        "from google.colab import drive\n",
        "drive.mount('/content/gdrive')"
      ],
      "metadata": {
        "id": "BL1gArsKvS-S",
        "colab": {
          "base_uri": "https://localhost:8080/"
        },
        "outputId": "b439da6c-4dab-48a7-e3ac-ec451a65e410"
      },
      "execution_count": 154,
      "outputs": [
        {
          "output_type": "stream",
          "name": "stdout",
          "text": [
            "Drive already mounted at /content/gdrive; to attempt to forcibly remount, call drive.mount(\"/content/gdrive\", force_remount=True).\n"
          ]
        }
      ]
    },
    {
      "cell_type": "code",
      "source": [
        "df = pd.read_csv('gdrive/My Drive/2022/Analisis predictivo/pricepred/CarPrice_Assignment.csv')\n",
        "df"
      ],
      "metadata": {
        "id": "FlWAR5ZCvUdm",
        "colab": {
          "base_uri": "https://localhost:8080/",
          "height": 574
        },
        "outputId": "9cb3cdff-969d-4994-8df3-9ea1528cbe55"
      },
      "execution_count": 155,
      "outputs": [
        {
          "output_type": "execute_result",
          "data": {
            "text/plain": [
              "     car_ID  symboling                   CarName fueltype aspiration  \\\n",
              "0         1          3        alfa-romero giulia      gas        std   \n",
              "1         2          3       alfa-romero stelvio      gas        std   \n",
              "2         3          1  alfa-romero Quadrifoglio      gas        std   \n",
              "3         4          2               audi 100 ls      gas        std   \n",
              "4         5          2                audi 100ls      gas        std   \n",
              "..      ...        ...                       ...      ...        ...   \n",
              "200     201         -1           volvo 145e (sw)      gas        std   \n",
              "201     202         -1               volvo 144ea      gas      turbo   \n",
              "202     203         -1               volvo 244dl      gas        std   \n",
              "203     204         -1                 volvo 246   diesel      turbo   \n",
              "204     205         -1               volvo 264gl      gas      turbo   \n",
              "\n",
              "    doornumber      carbody drivewheel enginelocation  wheelbase  ...  \\\n",
              "0          two  convertible        rwd          front       88.6  ...   \n",
              "1          two  convertible        rwd          front       88.6  ...   \n",
              "2          two    hatchback        rwd          front       94.5  ...   \n",
              "3         four        sedan        fwd          front       99.8  ...   \n",
              "4         four        sedan        4wd          front       99.4  ...   \n",
              "..         ...          ...        ...            ...        ...  ...   \n",
              "200       four        sedan        rwd          front      109.1  ...   \n",
              "201       four        sedan        rwd          front      109.1  ...   \n",
              "202       four        sedan        rwd          front      109.1  ...   \n",
              "203       four        sedan        rwd          front      109.1  ...   \n",
              "204       four        sedan        rwd          front      109.1  ...   \n",
              "\n",
              "     enginesize  fuelsystem  boreratio  stroke compressionratio horsepower  \\\n",
              "0           130        mpfi       3.47    2.68              9.0        111   \n",
              "1           130        mpfi       3.47    2.68              9.0        111   \n",
              "2           152        mpfi       2.68    3.47              9.0        154   \n",
              "3           109        mpfi       3.19    3.40             10.0        102   \n",
              "4           136        mpfi       3.19    3.40              8.0        115   \n",
              "..          ...         ...        ...     ...              ...        ...   \n",
              "200         141        mpfi       3.78    3.15              9.5        114   \n",
              "201         141        mpfi       3.78    3.15              8.7        160   \n",
              "202         173        mpfi       3.58    2.87              8.8        134   \n",
              "203         145         idi       3.01    3.40             23.0        106   \n",
              "204         141        mpfi       3.78    3.15              9.5        114   \n",
              "\n",
              "     peakrpm citympg  highwaympg    price  \n",
              "0       5000      21          27  13495.0  \n",
              "1       5000      21          27  16500.0  \n",
              "2       5000      19          26  16500.0  \n",
              "3       5500      24          30  13950.0  \n",
              "4       5500      18          22  17450.0  \n",
              "..       ...     ...         ...      ...  \n",
              "200     5400      23          28  16845.0  \n",
              "201     5300      19          25  19045.0  \n",
              "202     5500      18          23  21485.0  \n",
              "203     4800      26          27  22470.0  \n",
              "204     5400      19          25  22625.0  \n",
              "\n",
              "[205 rows x 26 columns]"
            ],
            "text/html": [
              "\n",
              "  <div id=\"df-3696c716-abc7-49cd-9c09-5872f775e6df\">\n",
              "    <div class=\"colab-df-container\">\n",
              "      <div>\n",
              "<style scoped>\n",
              "    .dataframe tbody tr th:only-of-type {\n",
              "        vertical-align: middle;\n",
              "    }\n",
              "\n",
              "    .dataframe tbody tr th {\n",
              "        vertical-align: top;\n",
              "    }\n",
              "\n",
              "    .dataframe thead th {\n",
              "        text-align: right;\n",
              "    }\n",
              "</style>\n",
              "<table border=\"1\" class=\"dataframe\">\n",
              "  <thead>\n",
              "    <tr style=\"text-align: right;\">\n",
              "      <th></th>\n",
              "      <th>car_ID</th>\n",
              "      <th>symboling</th>\n",
              "      <th>CarName</th>\n",
              "      <th>fueltype</th>\n",
              "      <th>aspiration</th>\n",
              "      <th>doornumber</th>\n",
              "      <th>carbody</th>\n",
              "      <th>drivewheel</th>\n",
              "      <th>enginelocation</th>\n",
              "      <th>wheelbase</th>\n",
              "      <th>...</th>\n",
              "      <th>enginesize</th>\n",
              "      <th>fuelsystem</th>\n",
              "      <th>boreratio</th>\n",
              "      <th>stroke</th>\n",
              "      <th>compressionratio</th>\n",
              "      <th>horsepower</th>\n",
              "      <th>peakrpm</th>\n",
              "      <th>citympg</th>\n",
              "      <th>highwaympg</th>\n",
              "      <th>price</th>\n",
              "    </tr>\n",
              "  </thead>\n",
              "  <tbody>\n",
              "    <tr>\n",
              "      <th>0</th>\n",
              "      <td>1</td>\n",
              "      <td>3</td>\n",
              "      <td>alfa-romero giulia</td>\n",
              "      <td>gas</td>\n",
              "      <td>std</td>\n",
              "      <td>two</td>\n",
              "      <td>convertible</td>\n",
              "      <td>rwd</td>\n",
              "      <td>front</td>\n",
              "      <td>88.6</td>\n",
              "      <td>...</td>\n",
              "      <td>130</td>\n",
              "      <td>mpfi</td>\n",
              "      <td>3.47</td>\n",
              "      <td>2.68</td>\n",
              "      <td>9.0</td>\n",
              "      <td>111</td>\n",
              "      <td>5000</td>\n",
              "      <td>21</td>\n",
              "      <td>27</td>\n",
              "      <td>13495.0</td>\n",
              "    </tr>\n",
              "    <tr>\n",
              "      <th>1</th>\n",
              "      <td>2</td>\n",
              "      <td>3</td>\n",
              "      <td>alfa-romero stelvio</td>\n",
              "      <td>gas</td>\n",
              "      <td>std</td>\n",
              "      <td>two</td>\n",
              "      <td>convertible</td>\n",
              "      <td>rwd</td>\n",
              "      <td>front</td>\n",
              "      <td>88.6</td>\n",
              "      <td>...</td>\n",
              "      <td>130</td>\n",
              "      <td>mpfi</td>\n",
              "      <td>3.47</td>\n",
              "      <td>2.68</td>\n",
              "      <td>9.0</td>\n",
              "      <td>111</td>\n",
              "      <td>5000</td>\n",
              "      <td>21</td>\n",
              "      <td>27</td>\n",
              "      <td>16500.0</td>\n",
              "    </tr>\n",
              "    <tr>\n",
              "      <th>2</th>\n",
              "      <td>3</td>\n",
              "      <td>1</td>\n",
              "      <td>alfa-romero Quadrifoglio</td>\n",
              "      <td>gas</td>\n",
              "      <td>std</td>\n",
              "      <td>two</td>\n",
              "      <td>hatchback</td>\n",
              "      <td>rwd</td>\n",
              "      <td>front</td>\n",
              "      <td>94.5</td>\n",
              "      <td>...</td>\n",
              "      <td>152</td>\n",
              "      <td>mpfi</td>\n",
              "      <td>2.68</td>\n",
              "      <td>3.47</td>\n",
              "      <td>9.0</td>\n",
              "      <td>154</td>\n",
              "      <td>5000</td>\n",
              "      <td>19</td>\n",
              "      <td>26</td>\n",
              "      <td>16500.0</td>\n",
              "    </tr>\n",
              "    <tr>\n",
              "      <th>3</th>\n",
              "      <td>4</td>\n",
              "      <td>2</td>\n",
              "      <td>audi 100 ls</td>\n",
              "      <td>gas</td>\n",
              "      <td>std</td>\n",
              "      <td>four</td>\n",
              "      <td>sedan</td>\n",
              "      <td>fwd</td>\n",
              "      <td>front</td>\n",
              "      <td>99.8</td>\n",
              "      <td>...</td>\n",
              "      <td>109</td>\n",
              "      <td>mpfi</td>\n",
              "      <td>3.19</td>\n",
              "      <td>3.40</td>\n",
              "      <td>10.0</td>\n",
              "      <td>102</td>\n",
              "      <td>5500</td>\n",
              "      <td>24</td>\n",
              "      <td>30</td>\n",
              "      <td>13950.0</td>\n",
              "    </tr>\n",
              "    <tr>\n",
              "      <th>4</th>\n",
              "      <td>5</td>\n",
              "      <td>2</td>\n",
              "      <td>audi 100ls</td>\n",
              "      <td>gas</td>\n",
              "      <td>std</td>\n",
              "      <td>four</td>\n",
              "      <td>sedan</td>\n",
              "      <td>4wd</td>\n",
              "      <td>front</td>\n",
              "      <td>99.4</td>\n",
              "      <td>...</td>\n",
              "      <td>136</td>\n",
              "      <td>mpfi</td>\n",
              "      <td>3.19</td>\n",
              "      <td>3.40</td>\n",
              "      <td>8.0</td>\n",
              "      <td>115</td>\n",
              "      <td>5500</td>\n",
              "      <td>18</td>\n",
              "      <td>22</td>\n",
              "      <td>17450.0</td>\n",
              "    </tr>\n",
              "    <tr>\n",
              "      <th>...</th>\n",
              "      <td>...</td>\n",
              "      <td>...</td>\n",
              "      <td>...</td>\n",
              "      <td>...</td>\n",
              "      <td>...</td>\n",
              "      <td>...</td>\n",
              "      <td>...</td>\n",
              "      <td>...</td>\n",
              "      <td>...</td>\n",
              "      <td>...</td>\n",
              "      <td>...</td>\n",
              "      <td>...</td>\n",
              "      <td>...</td>\n",
              "      <td>...</td>\n",
              "      <td>...</td>\n",
              "      <td>...</td>\n",
              "      <td>...</td>\n",
              "      <td>...</td>\n",
              "      <td>...</td>\n",
              "      <td>...</td>\n",
              "      <td>...</td>\n",
              "    </tr>\n",
              "    <tr>\n",
              "      <th>200</th>\n",
              "      <td>201</td>\n",
              "      <td>-1</td>\n",
              "      <td>volvo 145e (sw)</td>\n",
              "      <td>gas</td>\n",
              "      <td>std</td>\n",
              "      <td>four</td>\n",
              "      <td>sedan</td>\n",
              "      <td>rwd</td>\n",
              "      <td>front</td>\n",
              "      <td>109.1</td>\n",
              "      <td>...</td>\n",
              "      <td>141</td>\n",
              "      <td>mpfi</td>\n",
              "      <td>3.78</td>\n",
              "      <td>3.15</td>\n",
              "      <td>9.5</td>\n",
              "      <td>114</td>\n",
              "      <td>5400</td>\n",
              "      <td>23</td>\n",
              "      <td>28</td>\n",
              "      <td>16845.0</td>\n",
              "    </tr>\n",
              "    <tr>\n",
              "      <th>201</th>\n",
              "      <td>202</td>\n",
              "      <td>-1</td>\n",
              "      <td>volvo 144ea</td>\n",
              "      <td>gas</td>\n",
              "      <td>turbo</td>\n",
              "      <td>four</td>\n",
              "      <td>sedan</td>\n",
              "      <td>rwd</td>\n",
              "      <td>front</td>\n",
              "      <td>109.1</td>\n",
              "      <td>...</td>\n",
              "      <td>141</td>\n",
              "      <td>mpfi</td>\n",
              "      <td>3.78</td>\n",
              "      <td>3.15</td>\n",
              "      <td>8.7</td>\n",
              "      <td>160</td>\n",
              "      <td>5300</td>\n",
              "      <td>19</td>\n",
              "      <td>25</td>\n",
              "      <td>19045.0</td>\n",
              "    </tr>\n",
              "    <tr>\n",
              "      <th>202</th>\n",
              "      <td>203</td>\n",
              "      <td>-1</td>\n",
              "      <td>volvo 244dl</td>\n",
              "      <td>gas</td>\n",
              "      <td>std</td>\n",
              "      <td>four</td>\n",
              "      <td>sedan</td>\n",
              "      <td>rwd</td>\n",
              "      <td>front</td>\n",
              "      <td>109.1</td>\n",
              "      <td>...</td>\n",
              "      <td>173</td>\n",
              "      <td>mpfi</td>\n",
              "      <td>3.58</td>\n",
              "      <td>2.87</td>\n",
              "      <td>8.8</td>\n",
              "      <td>134</td>\n",
              "      <td>5500</td>\n",
              "      <td>18</td>\n",
              "      <td>23</td>\n",
              "      <td>21485.0</td>\n",
              "    </tr>\n",
              "    <tr>\n",
              "      <th>203</th>\n",
              "      <td>204</td>\n",
              "      <td>-1</td>\n",
              "      <td>volvo 246</td>\n",
              "      <td>diesel</td>\n",
              "      <td>turbo</td>\n",
              "      <td>four</td>\n",
              "      <td>sedan</td>\n",
              "      <td>rwd</td>\n",
              "      <td>front</td>\n",
              "      <td>109.1</td>\n",
              "      <td>...</td>\n",
              "      <td>145</td>\n",
              "      <td>idi</td>\n",
              "      <td>3.01</td>\n",
              "      <td>3.40</td>\n",
              "      <td>23.0</td>\n",
              "      <td>106</td>\n",
              "      <td>4800</td>\n",
              "      <td>26</td>\n",
              "      <td>27</td>\n",
              "      <td>22470.0</td>\n",
              "    </tr>\n",
              "    <tr>\n",
              "      <th>204</th>\n",
              "      <td>205</td>\n",
              "      <td>-1</td>\n",
              "      <td>volvo 264gl</td>\n",
              "      <td>gas</td>\n",
              "      <td>turbo</td>\n",
              "      <td>four</td>\n",
              "      <td>sedan</td>\n",
              "      <td>rwd</td>\n",
              "      <td>front</td>\n",
              "      <td>109.1</td>\n",
              "      <td>...</td>\n",
              "      <td>141</td>\n",
              "      <td>mpfi</td>\n",
              "      <td>3.78</td>\n",
              "      <td>3.15</td>\n",
              "      <td>9.5</td>\n",
              "      <td>114</td>\n",
              "      <td>5400</td>\n",
              "      <td>19</td>\n",
              "      <td>25</td>\n",
              "      <td>22625.0</td>\n",
              "    </tr>\n",
              "  </tbody>\n",
              "</table>\n",
              "<p>205 rows × 26 columns</p>\n",
              "</div>\n",
              "      <button class=\"colab-df-convert\" onclick=\"convertToInteractive('df-3696c716-abc7-49cd-9c09-5872f775e6df')\"\n",
              "              title=\"Convert this dataframe to an interactive table.\"\n",
              "              style=\"display:none;\">\n",
              "        \n",
              "  <svg xmlns=\"http://www.w3.org/2000/svg\" height=\"24px\"viewBox=\"0 0 24 24\"\n",
              "       width=\"24px\">\n",
              "    <path d=\"M0 0h24v24H0V0z\" fill=\"none\"/>\n",
              "    <path d=\"M18.56 5.44l.94 2.06.94-2.06 2.06-.94-2.06-.94-.94-2.06-.94 2.06-2.06.94zm-11 1L8.5 8.5l.94-2.06 2.06-.94-2.06-.94L8.5 2.5l-.94 2.06-2.06.94zm10 10l.94 2.06.94-2.06 2.06-.94-2.06-.94-.94-2.06-.94 2.06-2.06.94z\"/><path d=\"M17.41 7.96l-1.37-1.37c-.4-.4-.92-.59-1.43-.59-.52 0-1.04.2-1.43.59L10.3 9.45l-7.72 7.72c-.78.78-.78 2.05 0 2.83L4 21.41c.39.39.9.59 1.41.59.51 0 1.02-.2 1.41-.59l7.78-7.78 2.81-2.81c.8-.78.8-2.07 0-2.86zM5.41 20L4 18.59l7.72-7.72 1.47 1.35L5.41 20z\"/>\n",
              "  </svg>\n",
              "      </button>\n",
              "      \n",
              "  <style>\n",
              "    .colab-df-container {\n",
              "      display:flex;\n",
              "      flex-wrap:wrap;\n",
              "      gap: 12px;\n",
              "    }\n",
              "\n",
              "    .colab-df-convert {\n",
              "      background-color: #E8F0FE;\n",
              "      border: none;\n",
              "      border-radius: 50%;\n",
              "      cursor: pointer;\n",
              "      display: none;\n",
              "      fill: #1967D2;\n",
              "      height: 32px;\n",
              "      padding: 0 0 0 0;\n",
              "      width: 32px;\n",
              "    }\n",
              "\n",
              "    .colab-df-convert:hover {\n",
              "      background-color: #E2EBFA;\n",
              "      box-shadow: 0px 1px 2px rgba(60, 64, 67, 0.3), 0px 1px 3px 1px rgba(60, 64, 67, 0.15);\n",
              "      fill: #174EA6;\n",
              "    }\n",
              "\n",
              "    [theme=dark] .colab-df-convert {\n",
              "      background-color: #3B4455;\n",
              "      fill: #D2E3FC;\n",
              "    }\n",
              "\n",
              "    [theme=dark] .colab-df-convert:hover {\n",
              "      background-color: #434B5C;\n",
              "      box-shadow: 0px 1px 3px 1px rgba(0, 0, 0, 0.15);\n",
              "      filter: drop-shadow(0px 1px 2px rgba(0, 0, 0, 0.3));\n",
              "      fill: #FFFFFF;\n",
              "    }\n",
              "  </style>\n",
              "\n",
              "      <script>\n",
              "        const buttonEl =\n",
              "          document.querySelector('#df-3696c716-abc7-49cd-9c09-5872f775e6df button.colab-df-convert');\n",
              "        buttonEl.style.display =\n",
              "          google.colab.kernel.accessAllowed ? 'block' : 'none';\n",
              "\n",
              "        async function convertToInteractive(key) {\n",
              "          const element = document.querySelector('#df-3696c716-abc7-49cd-9c09-5872f775e6df');\n",
              "          const dataTable =\n",
              "            await google.colab.kernel.invokeFunction('convertToInteractive',\n",
              "                                                     [key], {});\n",
              "          if (!dataTable) return;\n",
              "\n",
              "          const docLinkHtml = 'Like what you see? Visit the ' +\n",
              "            '<a target=\"_blank\" href=https://colab.research.google.com/notebooks/data_table.ipynb>data table notebook</a>'\n",
              "            + ' to learn more about interactive tables.';\n",
              "          element.innerHTML = '';\n",
              "          dataTable['output_type'] = 'display_data';\n",
              "          await google.colab.output.renderOutput(dataTable, element);\n",
              "          const docLink = document.createElement('div');\n",
              "          docLink.innerHTML = docLinkHtml;\n",
              "          element.appendChild(docLink);\n",
              "        }\n",
              "      </script>\n",
              "    </div>\n",
              "  </div>\n",
              "  "
            ]
          },
          "metadata": {},
          "execution_count": 155
        }
      ]
    },
    {
      "cell_type": "code",
      "source": [
        "import random\n",
        "random.seed(8)"
      ],
      "metadata": {
        "id": "fsDuz12LPaJ2"
      },
      "execution_count": 156,
      "outputs": []
    },
    {
      "cell_type": "code",
      "source": [
        "df.dtypes\n"
      ],
      "metadata": {
        "id": "QhNowkPbxb83",
        "colab": {
          "base_uri": "https://localhost:8080/"
        },
        "outputId": "7843df14-ee86-43e9-dcb6-fa3b98fc3f70"
      },
      "execution_count": 157,
      "outputs": [
        {
          "output_type": "execute_result",
          "data": {
            "text/plain": [
              "car_ID                int64\n",
              "symboling             int64\n",
              "CarName              object\n",
              "fueltype             object\n",
              "aspiration           object\n",
              "doornumber           object\n",
              "carbody              object\n",
              "drivewheel           object\n",
              "enginelocation       object\n",
              "wheelbase           float64\n",
              "carlength           float64\n",
              "carwidth            float64\n",
              "carheight           float64\n",
              "curbweight            int64\n",
              "enginetype           object\n",
              "cylindernumber       object\n",
              "enginesize            int64\n",
              "fuelsystem           object\n",
              "boreratio           float64\n",
              "stroke              float64\n",
              "compressionratio    float64\n",
              "horsepower            int64\n",
              "peakrpm               int64\n",
              "citympg               int64\n",
              "highwaympg            int64\n",
              "price               float64\n",
              "dtype: object"
            ]
          },
          "metadata": {},
          "execution_count": 157
        }
      ]
    },
    {
      "cell_type": "code",
      "source": [
        "df.describe()"
      ],
      "metadata": {
        "colab": {
          "base_uri": "https://localhost:8080/",
          "height": 364
        },
        "id": "hkGldQN9xi4i",
        "outputId": "20f93e7b-c933-4548-aa0b-f2d409ee91c3"
      },
      "execution_count": 158,
      "outputs": [
        {
          "output_type": "execute_result",
          "data": {
            "text/plain": [
              "           car_ID   symboling   wheelbase   carlength    carwidth   carheight  \\\n",
              "count  205.000000  205.000000  205.000000  205.000000  205.000000  205.000000   \n",
              "mean   103.000000    0.834146   98.756585  174.049268   65.907805   53.724878   \n",
              "std     59.322565    1.245307    6.021776   12.337289    2.145204    2.443522   \n",
              "min      1.000000   -2.000000   86.600000  141.100000   60.300000   47.800000   \n",
              "25%     52.000000    0.000000   94.500000  166.300000   64.100000   52.000000   \n",
              "50%    103.000000    1.000000   97.000000  173.200000   65.500000   54.100000   \n",
              "75%    154.000000    2.000000  102.400000  183.100000   66.900000   55.500000   \n",
              "max    205.000000    3.000000  120.900000  208.100000   72.300000   59.800000   \n",
              "\n",
              "        curbweight  enginesize   boreratio      stroke  compressionratio  \\\n",
              "count   205.000000  205.000000  205.000000  205.000000        205.000000   \n",
              "mean   2555.565854  126.907317    3.329756    3.255415         10.142537   \n",
              "std     520.680204   41.642693    0.270844    0.313597          3.972040   \n",
              "min    1488.000000   61.000000    2.540000    2.070000          7.000000   \n",
              "25%    2145.000000   97.000000    3.150000    3.110000          8.600000   \n",
              "50%    2414.000000  120.000000    3.310000    3.290000          9.000000   \n",
              "75%    2935.000000  141.000000    3.580000    3.410000          9.400000   \n",
              "max    4066.000000  326.000000    3.940000    4.170000         23.000000   \n",
              "\n",
              "       horsepower      peakrpm     citympg  highwaympg         price  \n",
              "count  205.000000   205.000000  205.000000  205.000000    205.000000  \n",
              "mean   104.117073  5125.121951   25.219512   30.751220  13276.710571  \n",
              "std     39.544167   476.985643    6.542142    6.886443   7988.852332  \n",
              "min     48.000000  4150.000000   13.000000   16.000000   5118.000000  \n",
              "25%     70.000000  4800.000000   19.000000   25.000000   7788.000000  \n",
              "50%     95.000000  5200.000000   24.000000   30.000000  10295.000000  \n",
              "75%    116.000000  5500.000000   30.000000   34.000000  16503.000000  \n",
              "max    288.000000  6600.000000   49.000000   54.000000  45400.000000  "
            ],
            "text/html": [
              "\n",
              "  <div id=\"df-cd3a43cc-6125-4127-807c-73ffbd5a12f6\">\n",
              "    <div class=\"colab-df-container\">\n",
              "      <div>\n",
              "<style scoped>\n",
              "    .dataframe tbody tr th:only-of-type {\n",
              "        vertical-align: middle;\n",
              "    }\n",
              "\n",
              "    .dataframe tbody tr th {\n",
              "        vertical-align: top;\n",
              "    }\n",
              "\n",
              "    .dataframe thead th {\n",
              "        text-align: right;\n",
              "    }\n",
              "</style>\n",
              "<table border=\"1\" class=\"dataframe\">\n",
              "  <thead>\n",
              "    <tr style=\"text-align: right;\">\n",
              "      <th></th>\n",
              "      <th>car_ID</th>\n",
              "      <th>symboling</th>\n",
              "      <th>wheelbase</th>\n",
              "      <th>carlength</th>\n",
              "      <th>carwidth</th>\n",
              "      <th>carheight</th>\n",
              "      <th>curbweight</th>\n",
              "      <th>enginesize</th>\n",
              "      <th>boreratio</th>\n",
              "      <th>stroke</th>\n",
              "      <th>compressionratio</th>\n",
              "      <th>horsepower</th>\n",
              "      <th>peakrpm</th>\n",
              "      <th>citympg</th>\n",
              "      <th>highwaympg</th>\n",
              "      <th>price</th>\n",
              "    </tr>\n",
              "  </thead>\n",
              "  <tbody>\n",
              "    <tr>\n",
              "      <th>count</th>\n",
              "      <td>205.000000</td>\n",
              "      <td>205.000000</td>\n",
              "      <td>205.000000</td>\n",
              "      <td>205.000000</td>\n",
              "      <td>205.000000</td>\n",
              "      <td>205.000000</td>\n",
              "      <td>205.000000</td>\n",
              "      <td>205.000000</td>\n",
              "      <td>205.000000</td>\n",
              "      <td>205.000000</td>\n",
              "      <td>205.000000</td>\n",
              "      <td>205.000000</td>\n",
              "      <td>205.000000</td>\n",
              "      <td>205.000000</td>\n",
              "      <td>205.000000</td>\n",
              "      <td>205.000000</td>\n",
              "    </tr>\n",
              "    <tr>\n",
              "      <th>mean</th>\n",
              "      <td>103.000000</td>\n",
              "      <td>0.834146</td>\n",
              "      <td>98.756585</td>\n",
              "      <td>174.049268</td>\n",
              "      <td>65.907805</td>\n",
              "      <td>53.724878</td>\n",
              "      <td>2555.565854</td>\n",
              "      <td>126.907317</td>\n",
              "      <td>3.329756</td>\n",
              "      <td>3.255415</td>\n",
              "      <td>10.142537</td>\n",
              "      <td>104.117073</td>\n",
              "      <td>5125.121951</td>\n",
              "      <td>25.219512</td>\n",
              "      <td>30.751220</td>\n",
              "      <td>13276.710571</td>\n",
              "    </tr>\n",
              "    <tr>\n",
              "      <th>std</th>\n",
              "      <td>59.322565</td>\n",
              "      <td>1.245307</td>\n",
              "      <td>6.021776</td>\n",
              "      <td>12.337289</td>\n",
              "      <td>2.145204</td>\n",
              "      <td>2.443522</td>\n",
              "      <td>520.680204</td>\n",
              "      <td>41.642693</td>\n",
              "      <td>0.270844</td>\n",
              "      <td>0.313597</td>\n",
              "      <td>3.972040</td>\n",
              "      <td>39.544167</td>\n",
              "      <td>476.985643</td>\n",
              "      <td>6.542142</td>\n",
              "      <td>6.886443</td>\n",
              "      <td>7988.852332</td>\n",
              "    </tr>\n",
              "    <tr>\n",
              "      <th>min</th>\n",
              "      <td>1.000000</td>\n",
              "      <td>-2.000000</td>\n",
              "      <td>86.600000</td>\n",
              "      <td>141.100000</td>\n",
              "      <td>60.300000</td>\n",
              "      <td>47.800000</td>\n",
              "      <td>1488.000000</td>\n",
              "      <td>61.000000</td>\n",
              "      <td>2.540000</td>\n",
              "      <td>2.070000</td>\n",
              "      <td>7.000000</td>\n",
              "      <td>48.000000</td>\n",
              "      <td>4150.000000</td>\n",
              "      <td>13.000000</td>\n",
              "      <td>16.000000</td>\n",
              "      <td>5118.000000</td>\n",
              "    </tr>\n",
              "    <tr>\n",
              "      <th>25%</th>\n",
              "      <td>52.000000</td>\n",
              "      <td>0.000000</td>\n",
              "      <td>94.500000</td>\n",
              "      <td>166.300000</td>\n",
              "      <td>64.100000</td>\n",
              "      <td>52.000000</td>\n",
              "      <td>2145.000000</td>\n",
              "      <td>97.000000</td>\n",
              "      <td>3.150000</td>\n",
              "      <td>3.110000</td>\n",
              "      <td>8.600000</td>\n",
              "      <td>70.000000</td>\n",
              "      <td>4800.000000</td>\n",
              "      <td>19.000000</td>\n",
              "      <td>25.000000</td>\n",
              "      <td>7788.000000</td>\n",
              "    </tr>\n",
              "    <tr>\n",
              "      <th>50%</th>\n",
              "      <td>103.000000</td>\n",
              "      <td>1.000000</td>\n",
              "      <td>97.000000</td>\n",
              "      <td>173.200000</td>\n",
              "      <td>65.500000</td>\n",
              "      <td>54.100000</td>\n",
              "      <td>2414.000000</td>\n",
              "      <td>120.000000</td>\n",
              "      <td>3.310000</td>\n",
              "      <td>3.290000</td>\n",
              "      <td>9.000000</td>\n",
              "      <td>95.000000</td>\n",
              "      <td>5200.000000</td>\n",
              "      <td>24.000000</td>\n",
              "      <td>30.000000</td>\n",
              "      <td>10295.000000</td>\n",
              "    </tr>\n",
              "    <tr>\n",
              "      <th>75%</th>\n",
              "      <td>154.000000</td>\n",
              "      <td>2.000000</td>\n",
              "      <td>102.400000</td>\n",
              "      <td>183.100000</td>\n",
              "      <td>66.900000</td>\n",
              "      <td>55.500000</td>\n",
              "      <td>2935.000000</td>\n",
              "      <td>141.000000</td>\n",
              "      <td>3.580000</td>\n",
              "      <td>3.410000</td>\n",
              "      <td>9.400000</td>\n",
              "      <td>116.000000</td>\n",
              "      <td>5500.000000</td>\n",
              "      <td>30.000000</td>\n",
              "      <td>34.000000</td>\n",
              "      <td>16503.000000</td>\n",
              "    </tr>\n",
              "    <tr>\n",
              "      <th>max</th>\n",
              "      <td>205.000000</td>\n",
              "      <td>3.000000</td>\n",
              "      <td>120.900000</td>\n",
              "      <td>208.100000</td>\n",
              "      <td>72.300000</td>\n",
              "      <td>59.800000</td>\n",
              "      <td>4066.000000</td>\n",
              "      <td>326.000000</td>\n",
              "      <td>3.940000</td>\n",
              "      <td>4.170000</td>\n",
              "      <td>23.000000</td>\n",
              "      <td>288.000000</td>\n",
              "      <td>6600.000000</td>\n",
              "      <td>49.000000</td>\n",
              "      <td>54.000000</td>\n",
              "      <td>45400.000000</td>\n",
              "    </tr>\n",
              "  </tbody>\n",
              "</table>\n",
              "</div>\n",
              "      <button class=\"colab-df-convert\" onclick=\"convertToInteractive('df-cd3a43cc-6125-4127-807c-73ffbd5a12f6')\"\n",
              "              title=\"Convert this dataframe to an interactive table.\"\n",
              "              style=\"display:none;\">\n",
              "        \n",
              "  <svg xmlns=\"http://www.w3.org/2000/svg\" height=\"24px\"viewBox=\"0 0 24 24\"\n",
              "       width=\"24px\">\n",
              "    <path d=\"M0 0h24v24H0V0z\" fill=\"none\"/>\n",
              "    <path d=\"M18.56 5.44l.94 2.06.94-2.06 2.06-.94-2.06-.94-.94-2.06-.94 2.06-2.06.94zm-11 1L8.5 8.5l.94-2.06 2.06-.94-2.06-.94L8.5 2.5l-.94 2.06-2.06.94zm10 10l.94 2.06.94-2.06 2.06-.94-2.06-.94-.94-2.06-.94 2.06-2.06.94z\"/><path d=\"M17.41 7.96l-1.37-1.37c-.4-.4-.92-.59-1.43-.59-.52 0-1.04.2-1.43.59L10.3 9.45l-7.72 7.72c-.78.78-.78 2.05 0 2.83L4 21.41c.39.39.9.59 1.41.59.51 0 1.02-.2 1.41-.59l7.78-7.78 2.81-2.81c.8-.78.8-2.07 0-2.86zM5.41 20L4 18.59l7.72-7.72 1.47 1.35L5.41 20z\"/>\n",
              "  </svg>\n",
              "      </button>\n",
              "      \n",
              "  <style>\n",
              "    .colab-df-container {\n",
              "      display:flex;\n",
              "      flex-wrap:wrap;\n",
              "      gap: 12px;\n",
              "    }\n",
              "\n",
              "    .colab-df-convert {\n",
              "      background-color: #E8F0FE;\n",
              "      border: none;\n",
              "      border-radius: 50%;\n",
              "      cursor: pointer;\n",
              "      display: none;\n",
              "      fill: #1967D2;\n",
              "      height: 32px;\n",
              "      padding: 0 0 0 0;\n",
              "      width: 32px;\n",
              "    }\n",
              "\n",
              "    .colab-df-convert:hover {\n",
              "      background-color: #E2EBFA;\n",
              "      box-shadow: 0px 1px 2px rgba(60, 64, 67, 0.3), 0px 1px 3px 1px rgba(60, 64, 67, 0.15);\n",
              "      fill: #174EA6;\n",
              "    }\n",
              "\n",
              "    [theme=dark] .colab-df-convert {\n",
              "      background-color: #3B4455;\n",
              "      fill: #D2E3FC;\n",
              "    }\n",
              "\n",
              "    [theme=dark] .colab-df-convert:hover {\n",
              "      background-color: #434B5C;\n",
              "      box-shadow: 0px 1px 3px 1px rgba(0, 0, 0, 0.15);\n",
              "      filter: drop-shadow(0px 1px 2px rgba(0, 0, 0, 0.3));\n",
              "      fill: #FFFFFF;\n",
              "    }\n",
              "  </style>\n",
              "\n",
              "      <script>\n",
              "        const buttonEl =\n",
              "          document.querySelector('#df-cd3a43cc-6125-4127-807c-73ffbd5a12f6 button.colab-df-convert');\n",
              "        buttonEl.style.display =\n",
              "          google.colab.kernel.accessAllowed ? 'block' : 'none';\n",
              "\n",
              "        async function convertToInteractive(key) {\n",
              "          const element = document.querySelector('#df-cd3a43cc-6125-4127-807c-73ffbd5a12f6');\n",
              "          const dataTable =\n",
              "            await google.colab.kernel.invokeFunction('convertToInteractive',\n",
              "                                                     [key], {});\n",
              "          if (!dataTable) return;\n",
              "\n",
              "          const docLinkHtml = 'Like what you see? Visit the ' +\n",
              "            '<a target=\"_blank\" href=https://colab.research.google.com/notebooks/data_table.ipynb>data table notebook</a>'\n",
              "            + ' to learn more about interactive tables.';\n",
              "          element.innerHTML = '';\n",
              "          dataTable['output_type'] = 'display_data';\n",
              "          await google.colab.output.renderOutput(dataTable, element);\n",
              "          const docLink = document.createElement('div');\n",
              "          docLink.innerHTML = docLinkHtml;\n",
              "          element.appendChild(docLink);\n",
              "        }\n",
              "      </script>\n",
              "    </div>\n",
              "  </div>\n",
              "  "
            ]
          },
          "metadata": {},
          "execution_count": 158
        }
      ]
    },
    {
      "cell_type": "code",
      "source": [
        "df.isnull().values.any()"
      ],
      "metadata": {
        "colab": {
          "base_uri": "https://localhost:8080/"
        },
        "id": "d0s8m083yKpI",
        "outputId": "01b42fd7-ba08-4cac-dec8-1ba30bfe4d19"
      },
      "execution_count": 159,
      "outputs": [
        {
          "output_type": "execute_result",
          "data": {
            "text/plain": [
              "False"
            ]
          },
          "metadata": {},
          "execution_count": 159
        }
      ]
    },
    {
      "cell_type": "code",
      "source": [
        "df[['Marca','Modelo']] = df.CarName.apply(lambda x: pd.Series(str(x).split(\" \", 1)))"
      ],
      "metadata": {
        "id": "3t89722ipsh8"
      },
      "execution_count": 160,
      "outputs": []
    },
    {
      "cell_type": "code",
      "source": [
        "df.head()"
      ],
      "metadata": {
        "colab": {
          "base_uri": "https://localhost:8080/",
          "height": 352
        },
        "id": "IjzSXg2opu97",
        "outputId": "e67989d5-2d18-4ada-d495-51d9fbbc47a1"
      },
      "execution_count": 161,
      "outputs": [
        {
          "output_type": "execute_result",
          "data": {
            "text/plain": [
              "   car_ID  symboling                   CarName fueltype aspiration doornumber  \\\n",
              "0       1          3        alfa-romero giulia      gas        std        two   \n",
              "1       2          3       alfa-romero stelvio      gas        std        two   \n",
              "2       3          1  alfa-romero Quadrifoglio      gas        std        two   \n",
              "3       4          2               audi 100 ls      gas        std       four   \n",
              "4       5          2                audi 100ls      gas        std       four   \n",
              "\n",
              "       carbody drivewheel enginelocation  wheelbase  ...  boreratio  stroke  \\\n",
              "0  convertible        rwd          front       88.6  ...       3.47    2.68   \n",
              "1  convertible        rwd          front       88.6  ...       3.47    2.68   \n",
              "2    hatchback        rwd          front       94.5  ...       2.68    3.47   \n",
              "3        sedan        fwd          front       99.8  ...       3.19    3.40   \n",
              "4        sedan        4wd          front       99.4  ...       3.19    3.40   \n",
              "\n",
              "   compressionratio  horsepower peakrpm citympg  highwaympg    price  \\\n",
              "0               9.0         111    5000      21          27  13495.0   \n",
              "1               9.0         111    5000      21          27  16500.0   \n",
              "2               9.0         154    5000      19          26  16500.0   \n",
              "3              10.0         102    5500      24          30  13950.0   \n",
              "4               8.0         115    5500      18          22  17450.0   \n",
              "\n",
              "         Marca        Modelo  \n",
              "0  alfa-romero        giulia  \n",
              "1  alfa-romero       stelvio  \n",
              "2  alfa-romero  Quadrifoglio  \n",
              "3         audi        100 ls  \n",
              "4         audi         100ls  \n",
              "\n",
              "[5 rows x 28 columns]"
            ],
            "text/html": [
              "\n",
              "  <div id=\"df-532affa1-2ca1-4689-b92d-d09024b3e5d0\">\n",
              "    <div class=\"colab-df-container\">\n",
              "      <div>\n",
              "<style scoped>\n",
              "    .dataframe tbody tr th:only-of-type {\n",
              "        vertical-align: middle;\n",
              "    }\n",
              "\n",
              "    .dataframe tbody tr th {\n",
              "        vertical-align: top;\n",
              "    }\n",
              "\n",
              "    .dataframe thead th {\n",
              "        text-align: right;\n",
              "    }\n",
              "</style>\n",
              "<table border=\"1\" class=\"dataframe\">\n",
              "  <thead>\n",
              "    <tr style=\"text-align: right;\">\n",
              "      <th></th>\n",
              "      <th>car_ID</th>\n",
              "      <th>symboling</th>\n",
              "      <th>CarName</th>\n",
              "      <th>fueltype</th>\n",
              "      <th>aspiration</th>\n",
              "      <th>doornumber</th>\n",
              "      <th>carbody</th>\n",
              "      <th>drivewheel</th>\n",
              "      <th>enginelocation</th>\n",
              "      <th>wheelbase</th>\n",
              "      <th>...</th>\n",
              "      <th>boreratio</th>\n",
              "      <th>stroke</th>\n",
              "      <th>compressionratio</th>\n",
              "      <th>horsepower</th>\n",
              "      <th>peakrpm</th>\n",
              "      <th>citympg</th>\n",
              "      <th>highwaympg</th>\n",
              "      <th>price</th>\n",
              "      <th>Marca</th>\n",
              "      <th>Modelo</th>\n",
              "    </tr>\n",
              "  </thead>\n",
              "  <tbody>\n",
              "    <tr>\n",
              "      <th>0</th>\n",
              "      <td>1</td>\n",
              "      <td>3</td>\n",
              "      <td>alfa-romero giulia</td>\n",
              "      <td>gas</td>\n",
              "      <td>std</td>\n",
              "      <td>two</td>\n",
              "      <td>convertible</td>\n",
              "      <td>rwd</td>\n",
              "      <td>front</td>\n",
              "      <td>88.6</td>\n",
              "      <td>...</td>\n",
              "      <td>3.47</td>\n",
              "      <td>2.68</td>\n",
              "      <td>9.0</td>\n",
              "      <td>111</td>\n",
              "      <td>5000</td>\n",
              "      <td>21</td>\n",
              "      <td>27</td>\n",
              "      <td>13495.0</td>\n",
              "      <td>alfa-romero</td>\n",
              "      <td>giulia</td>\n",
              "    </tr>\n",
              "    <tr>\n",
              "      <th>1</th>\n",
              "      <td>2</td>\n",
              "      <td>3</td>\n",
              "      <td>alfa-romero stelvio</td>\n",
              "      <td>gas</td>\n",
              "      <td>std</td>\n",
              "      <td>two</td>\n",
              "      <td>convertible</td>\n",
              "      <td>rwd</td>\n",
              "      <td>front</td>\n",
              "      <td>88.6</td>\n",
              "      <td>...</td>\n",
              "      <td>3.47</td>\n",
              "      <td>2.68</td>\n",
              "      <td>9.0</td>\n",
              "      <td>111</td>\n",
              "      <td>5000</td>\n",
              "      <td>21</td>\n",
              "      <td>27</td>\n",
              "      <td>16500.0</td>\n",
              "      <td>alfa-romero</td>\n",
              "      <td>stelvio</td>\n",
              "    </tr>\n",
              "    <tr>\n",
              "      <th>2</th>\n",
              "      <td>3</td>\n",
              "      <td>1</td>\n",
              "      <td>alfa-romero Quadrifoglio</td>\n",
              "      <td>gas</td>\n",
              "      <td>std</td>\n",
              "      <td>two</td>\n",
              "      <td>hatchback</td>\n",
              "      <td>rwd</td>\n",
              "      <td>front</td>\n",
              "      <td>94.5</td>\n",
              "      <td>...</td>\n",
              "      <td>2.68</td>\n",
              "      <td>3.47</td>\n",
              "      <td>9.0</td>\n",
              "      <td>154</td>\n",
              "      <td>5000</td>\n",
              "      <td>19</td>\n",
              "      <td>26</td>\n",
              "      <td>16500.0</td>\n",
              "      <td>alfa-romero</td>\n",
              "      <td>Quadrifoglio</td>\n",
              "    </tr>\n",
              "    <tr>\n",
              "      <th>3</th>\n",
              "      <td>4</td>\n",
              "      <td>2</td>\n",
              "      <td>audi 100 ls</td>\n",
              "      <td>gas</td>\n",
              "      <td>std</td>\n",
              "      <td>four</td>\n",
              "      <td>sedan</td>\n",
              "      <td>fwd</td>\n",
              "      <td>front</td>\n",
              "      <td>99.8</td>\n",
              "      <td>...</td>\n",
              "      <td>3.19</td>\n",
              "      <td>3.40</td>\n",
              "      <td>10.0</td>\n",
              "      <td>102</td>\n",
              "      <td>5500</td>\n",
              "      <td>24</td>\n",
              "      <td>30</td>\n",
              "      <td>13950.0</td>\n",
              "      <td>audi</td>\n",
              "      <td>100 ls</td>\n",
              "    </tr>\n",
              "    <tr>\n",
              "      <th>4</th>\n",
              "      <td>5</td>\n",
              "      <td>2</td>\n",
              "      <td>audi 100ls</td>\n",
              "      <td>gas</td>\n",
              "      <td>std</td>\n",
              "      <td>four</td>\n",
              "      <td>sedan</td>\n",
              "      <td>4wd</td>\n",
              "      <td>front</td>\n",
              "      <td>99.4</td>\n",
              "      <td>...</td>\n",
              "      <td>3.19</td>\n",
              "      <td>3.40</td>\n",
              "      <td>8.0</td>\n",
              "      <td>115</td>\n",
              "      <td>5500</td>\n",
              "      <td>18</td>\n",
              "      <td>22</td>\n",
              "      <td>17450.0</td>\n",
              "      <td>audi</td>\n",
              "      <td>100ls</td>\n",
              "    </tr>\n",
              "  </tbody>\n",
              "</table>\n",
              "<p>5 rows × 28 columns</p>\n",
              "</div>\n",
              "      <button class=\"colab-df-convert\" onclick=\"convertToInteractive('df-532affa1-2ca1-4689-b92d-d09024b3e5d0')\"\n",
              "              title=\"Convert this dataframe to an interactive table.\"\n",
              "              style=\"display:none;\">\n",
              "        \n",
              "  <svg xmlns=\"http://www.w3.org/2000/svg\" height=\"24px\"viewBox=\"0 0 24 24\"\n",
              "       width=\"24px\">\n",
              "    <path d=\"M0 0h24v24H0V0z\" fill=\"none\"/>\n",
              "    <path d=\"M18.56 5.44l.94 2.06.94-2.06 2.06-.94-2.06-.94-.94-2.06-.94 2.06-2.06.94zm-11 1L8.5 8.5l.94-2.06 2.06-.94-2.06-.94L8.5 2.5l-.94 2.06-2.06.94zm10 10l.94 2.06.94-2.06 2.06-.94-2.06-.94-.94-2.06-.94 2.06-2.06.94z\"/><path d=\"M17.41 7.96l-1.37-1.37c-.4-.4-.92-.59-1.43-.59-.52 0-1.04.2-1.43.59L10.3 9.45l-7.72 7.72c-.78.78-.78 2.05 0 2.83L4 21.41c.39.39.9.59 1.41.59.51 0 1.02-.2 1.41-.59l7.78-7.78 2.81-2.81c.8-.78.8-2.07 0-2.86zM5.41 20L4 18.59l7.72-7.72 1.47 1.35L5.41 20z\"/>\n",
              "  </svg>\n",
              "      </button>\n",
              "      \n",
              "  <style>\n",
              "    .colab-df-container {\n",
              "      display:flex;\n",
              "      flex-wrap:wrap;\n",
              "      gap: 12px;\n",
              "    }\n",
              "\n",
              "    .colab-df-convert {\n",
              "      background-color: #E8F0FE;\n",
              "      border: none;\n",
              "      border-radius: 50%;\n",
              "      cursor: pointer;\n",
              "      display: none;\n",
              "      fill: #1967D2;\n",
              "      height: 32px;\n",
              "      padding: 0 0 0 0;\n",
              "      width: 32px;\n",
              "    }\n",
              "\n",
              "    .colab-df-convert:hover {\n",
              "      background-color: #E2EBFA;\n",
              "      box-shadow: 0px 1px 2px rgba(60, 64, 67, 0.3), 0px 1px 3px 1px rgba(60, 64, 67, 0.15);\n",
              "      fill: #174EA6;\n",
              "    }\n",
              "\n",
              "    [theme=dark] .colab-df-convert {\n",
              "      background-color: #3B4455;\n",
              "      fill: #D2E3FC;\n",
              "    }\n",
              "\n",
              "    [theme=dark] .colab-df-convert:hover {\n",
              "      background-color: #434B5C;\n",
              "      box-shadow: 0px 1px 3px 1px rgba(0, 0, 0, 0.15);\n",
              "      filter: drop-shadow(0px 1px 2px rgba(0, 0, 0, 0.3));\n",
              "      fill: #FFFFFF;\n",
              "    }\n",
              "  </style>\n",
              "\n",
              "      <script>\n",
              "        const buttonEl =\n",
              "          document.querySelector('#df-532affa1-2ca1-4689-b92d-d09024b3e5d0 button.colab-df-convert');\n",
              "        buttonEl.style.display =\n",
              "          google.colab.kernel.accessAllowed ? 'block' : 'none';\n",
              "\n",
              "        async function convertToInteractive(key) {\n",
              "          const element = document.querySelector('#df-532affa1-2ca1-4689-b92d-d09024b3e5d0');\n",
              "          const dataTable =\n",
              "            await google.colab.kernel.invokeFunction('convertToInteractive',\n",
              "                                                     [key], {});\n",
              "          if (!dataTable) return;\n",
              "\n",
              "          const docLinkHtml = 'Like what you see? Visit the ' +\n",
              "            '<a target=\"_blank\" href=https://colab.research.google.com/notebooks/data_table.ipynb>data table notebook</a>'\n",
              "            + ' to learn more about interactive tables.';\n",
              "          element.innerHTML = '';\n",
              "          dataTable['output_type'] = 'display_data';\n",
              "          await google.colab.output.renderOutput(dataTable, element);\n",
              "          const docLink = document.createElement('div');\n",
              "          docLink.innerHTML = docLinkHtml;\n",
              "          element.appendChild(docLink);\n",
              "        }\n",
              "      </script>\n",
              "    </div>\n",
              "  </div>\n",
              "  "
            ]
          },
          "metadata": {},
          "execution_count": 161
        }
      ]
    },
    {
      "cell_type": "code",
      "source": [
        "df.info"
      ],
      "metadata": {
        "colab": {
          "base_uri": "https://localhost:8080/"
        },
        "id": "Cc-AF1rc1vZC",
        "outputId": "380b67fe-4768-4408-ccab-f015605b813e"
      },
      "execution_count": 162,
      "outputs": [
        {
          "output_type": "execute_result",
          "data": {
            "text/plain": [
              "<bound method DataFrame.info of      car_ID  symboling                   CarName fueltype aspiration  \\\n",
              "0         1          3        alfa-romero giulia      gas        std   \n",
              "1         2          3       alfa-romero stelvio      gas        std   \n",
              "2         3          1  alfa-romero Quadrifoglio      gas        std   \n",
              "3         4          2               audi 100 ls      gas        std   \n",
              "4         5          2                audi 100ls      gas        std   \n",
              "..      ...        ...                       ...      ...        ...   \n",
              "200     201         -1           volvo 145e (sw)      gas        std   \n",
              "201     202         -1               volvo 144ea      gas      turbo   \n",
              "202     203         -1               volvo 244dl      gas        std   \n",
              "203     204         -1                 volvo 246   diesel      turbo   \n",
              "204     205         -1               volvo 264gl      gas      turbo   \n",
              "\n",
              "    doornumber      carbody drivewheel enginelocation  wheelbase  ...  \\\n",
              "0          two  convertible        rwd          front       88.6  ...   \n",
              "1          two  convertible        rwd          front       88.6  ...   \n",
              "2          two    hatchback        rwd          front       94.5  ...   \n",
              "3         four        sedan        fwd          front       99.8  ...   \n",
              "4         four        sedan        4wd          front       99.4  ...   \n",
              "..         ...          ...        ...            ...        ...  ...   \n",
              "200       four        sedan        rwd          front      109.1  ...   \n",
              "201       four        sedan        rwd          front      109.1  ...   \n",
              "202       four        sedan        rwd          front      109.1  ...   \n",
              "203       four        sedan        rwd          front      109.1  ...   \n",
              "204       four        sedan        rwd          front      109.1  ...   \n",
              "\n",
              "     boreratio  stroke  compressionratio  horsepower peakrpm citympg  \\\n",
              "0         3.47    2.68               9.0         111    5000      21   \n",
              "1         3.47    2.68               9.0         111    5000      21   \n",
              "2         2.68    3.47               9.0         154    5000      19   \n",
              "3         3.19    3.40              10.0         102    5500      24   \n",
              "4         3.19    3.40               8.0         115    5500      18   \n",
              "..         ...     ...               ...         ...     ...     ...   \n",
              "200       3.78    3.15               9.5         114    5400      23   \n",
              "201       3.78    3.15               8.7         160    5300      19   \n",
              "202       3.58    2.87               8.8         134    5500      18   \n",
              "203       3.01    3.40              23.0         106    4800      26   \n",
              "204       3.78    3.15               9.5         114    5400      19   \n",
              "\n",
              "     highwaympg    price        Marca        Modelo  \n",
              "0            27  13495.0  alfa-romero        giulia  \n",
              "1            27  16500.0  alfa-romero       stelvio  \n",
              "2            26  16500.0  alfa-romero  Quadrifoglio  \n",
              "3            30  13950.0         audi        100 ls  \n",
              "4            22  17450.0         audi         100ls  \n",
              "..          ...      ...          ...           ...  \n",
              "200          28  16845.0        volvo     145e (sw)  \n",
              "201          25  19045.0        volvo         144ea  \n",
              "202          23  21485.0        volvo         244dl  \n",
              "203          27  22470.0        volvo           246  \n",
              "204          25  22625.0        volvo         264gl  \n",
              "\n",
              "[205 rows x 28 columns]>"
            ]
          },
          "metadata": {},
          "execution_count": 162
        }
      ]
    },
    {
      "cell_type": "code",
      "source": [
        "df.describe"
      ],
      "metadata": {
        "colab": {
          "base_uri": "https://localhost:8080/"
        },
        "id": "rJqEra7eGBId",
        "outputId": "0417a574-a9b6-4732-8ace-3cf380a35425"
      },
      "execution_count": 163,
      "outputs": [
        {
          "output_type": "execute_result",
          "data": {
            "text/plain": [
              "<bound method NDFrame.describe of      car_ID  symboling                   CarName fueltype aspiration  \\\n",
              "0         1          3        alfa-romero giulia      gas        std   \n",
              "1         2          3       alfa-romero stelvio      gas        std   \n",
              "2         3          1  alfa-romero Quadrifoglio      gas        std   \n",
              "3         4          2               audi 100 ls      gas        std   \n",
              "4         5          2                audi 100ls      gas        std   \n",
              "..      ...        ...                       ...      ...        ...   \n",
              "200     201         -1           volvo 145e (sw)      gas        std   \n",
              "201     202         -1               volvo 144ea      gas      turbo   \n",
              "202     203         -1               volvo 244dl      gas        std   \n",
              "203     204         -1                 volvo 246   diesel      turbo   \n",
              "204     205         -1               volvo 264gl      gas      turbo   \n",
              "\n",
              "    doornumber      carbody drivewheel enginelocation  wheelbase  ...  \\\n",
              "0          two  convertible        rwd          front       88.6  ...   \n",
              "1          two  convertible        rwd          front       88.6  ...   \n",
              "2          two    hatchback        rwd          front       94.5  ...   \n",
              "3         four        sedan        fwd          front       99.8  ...   \n",
              "4         four        sedan        4wd          front       99.4  ...   \n",
              "..         ...          ...        ...            ...        ...  ...   \n",
              "200       four        sedan        rwd          front      109.1  ...   \n",
              "201       four        sedan        rwd          front      109.1  ...   \n",
              "202       four        sedan        rwd          front      109.1  ...   \n",
              "203       four        sedan        rwd          front      109.1  ...   \n",
              "204       four        sedan        rwd          front      109.1  ...   \n",
              "\n",
              "     boreratio  stroke  compressionratio  horsepower peakrpm citympg  \\\n",
              "0         3.47    2.68               9.0         111    5000      21   \n",
              "1         3.47    2.68               9.0         111    5000      21   \n",
              "2         2.68    3.47               9.0         154    5000      19   \n",
              "3         3.19    3.40              10.0         102    5500      24   \n",
              "4         3.19    3.40               8.0         115    5500      18   \n",
              "..         ...     ...               ...         ...     ...     ...   \n",
              "200       3.78    3.15               9.5         114    5400      23   \n",
              "201       3.78    3.15               8.7         160    5300      19   \n",
              "202       3.58    2.87               8.8         134    5500      18   \n",
              "203       3.01    3.40              23.0         106    4800      26   \n",
              "204       3.78    3.15               9.5         114    5400      19   \n",
              "\n",
              "     highwaympg    price        Marca        Modelo  \n",
              "0            27  13495.0  alfa-romero        giulia  \n",
              "1            27  16500.0  alfa-romero       stelvio  \n",
              "2            26  16500.0  alfa-romero  Quadrifoglio  \n",
              "3            30  13950.0         audi        100 ls  \n",
              "4            22  17450.0         audi         100ls  \n",
              "..          ...      ...          ...           ...  \n",
              "200          28  16845.0        volvo     145e (sw)  \n",
              "201          25  19045.0        volvo         144ea  \n",
              "202          23  21485.0        volvo         244dl  \n",
              "203          27  22470.0        volvo           246  \n",
              "204          25  22625.0        volvo         264gl  \n",
              "\n",
              "[205 rows x 28 columns]>"
            ]
          },
          "metadata": {},
          "execution_count": 163
        }
      ]
    },
    {
      "cell_type": "code",
      "source": [
        "df.Marca.unique()\n",
        "\n"
      ],
      "metadata": {
        "colab": {
          "base_uri": "https://localhost:8080/"
        },
        "id": "9U8DGnZZyihO",
        "outputId": "08d9b3aa-9274-4aaa-cdba-d62f77a3740d"
      },
      "execution_count": 164,
      "outputs": [
        {
          "output_type": "execute_result",
          "data": {
            "text/plain": [
              "array(['alfa-romero', 'audi', 'bmw', 'chevrolet', 'dodge', 'honda',\n",
              "       'isuzu', 'jaguar', 'maxda', 'mazda', 'buick', 'mercury',\n",
              "       'mitsubishi', 'Nissan', 'nissan', 'peugeot', 'plymouth', 'porsche',\n",
              "       'porcshce', 'renault', 'saab', 'subaru', 'toyota', 'toyouta',\n",
              "       'vokswagen', 'volkswagen', 'vw', 'volvo'], dtype=object)"
            ]
          },
          "metadata": {},
          "execution_count": 164
        }
      ]
    },
    {
      "cell_type": "code",
      "source": [
        "df.loc[df['Marca'] == \"Nissan\", 'Marca'] = 'nissan'\n",
        "df.loc[df['Marca'] == \"maxda\", 'Marca'] = 'mazda'\n",
        "df.loc[df['Marca'] == \"vokswagen\", 'Marca'] = 'volkswagen'\n",
        "df.loc[df['Marca'] == \"vw\", 'Marca'] = 'volkswagen'\n",
        "df.loc[df['Marca'] == \"porcshce\", 'Marca'] = 'porsche'\n",
        "df.loc[df['Marca'] == \"toyouta\", 'Marca'] = 'toyota'\n"
      ],
      "metadata": {
        "id": "8N-XzpBY2jTd"
      },
      "execution_count": 165,
      "outputs": []
    },
    {
      "cell_type": "code",
      "source": [
        "df.Marca.unique()\n"
      ],
      "metadata": {
        "colab": {
          "base_uri": "https://localhost:8080/"
        },
        "id": "uY3cJRb90m9-",
        "outputId": "1c968771-1b78-4df4-b3ad-eca25969ee5f"
      },
      "execution_count": 166,
      "outputs": [
        {
          "output_type": "execute_result",
          "data": {
            "text/plain": [
              "array(['alfa-romero', 'audi', 'bmw', 'chevrolet', 'dodge', 'honda',\n",
              "       'isuzu', 'jaguar', 'mazda', 'buick', 'mercury', 'mitsubishi',\n",
              "       'nissan', 'peugeot', 'plymouth', 'porsche', 'renault', 'saab',\n",
              "       'subaru', 'toyota', 'volkswagen', 'volvo'], dtype=object)"
            ]
          },
          "metadata": {},
          "execution_count": 166
        }
      ]
    },
    {
      "cell_type": "markdown",
      "source": [
        "#Dummisar variable"
      ],
      "metadata": {
        "id": "L4iN-bdqM76q"
      }
    },
    {
      "cell_type": "code",
      "source": [
        "import numpy as np\n",
        "import pandas as pd\n",
        "\n",
        "df['nissan'] = np.where(df['Marca']=='nissan', 1, 0)\n",
        "df['mazda'] = np.where(df['Marca']=='mazda', 1, 0)\n",
        "df['volkswagen'] = np.where(df['Marca']=='volkswagen', 1, 0)\n",
        "df['porsche'] = np.where(df['Marca']=='porsche', 1, 0)\n",
        "df['toyota'] = np.where(df['Marca']=='toyota', 1, 0)\n",
        "df['alfa-romeo'] = np.where(df['Marca']=='alfa-romero', 1, 0)\n",
        "df['audi'] = np.where(df['Marca']=='audi', 1, 0)\n",
        "df['bmw'] = np.where(df['Marca']=='bmw', 1, 0)\n",
        "df['chevrolet'] = np.where(df['Marca']=='chevrolet', 1, 0)\n",
        "df['dodge'] = np.where(df['Marca']=='dodge', 1, 0)\n",
        "df['honda'] = np.where(df['Marca']=='honda', 1, 0)\n",
        "df['isuzu'] = np.where(df['Marca']=='isuzu', 1, 0)\n",
        "df['jaguar'] = np.where(df['Marca']=='jaguar', 1, 0)\n",
        "df['buick'] = np.where(df['Marca']=='buick', 1, 0)\n",
        "df['mercury'] = np.where(df['Marca']=='mercury', 1, 0)\n",
        "df['mitsubishi'] = np.where(df['Marca']=='mitsubishi', 1, 0)\n",
        "df['peugot'] = np.where(df['Marca']=='peugot', 1, 0)\n",
        "df['plymouth'] = np.where(df['Marca']=='plymouth', 1, 0)\n",
        "df['renault'] = np.where(df['Marca']=='renault', 1, 0)\n",
        "df['saab'] = np.where(df['Marca']=='saab', 1, 0)\n",
        "df['subaru'] = np.where(df['Marca']=='subaru', 1, 0)\n",
        "df['volvo'] = np.where(df['Marca']=='volvo', 1, 0)\n",
        "\n",
        "\n",
        "df.drop(columns=['Marca'],axis=1,inplace=True)"
      ],
      "metadata": {
        "id": "NiIIH6cmE6yA"
      },
      "execution_count": 167,
      "outputs": []
    },
    {
      "cell_type": "code",
      "source": [
        "df.carbody.unique()"
      ],
      "metadata": {
        "colab": {
          "base_uri": "https://localhost:8080/"
        },
        "id": "m8fjlWECL_Ns",
        "outputId": "92f9b0c7-8f40-413f-b5ea-9335c1713172"
      },
      "execution_count": 168,
      "outputs": [
        {
          "output_type": "execute_result",
          "data": {
            "text/plain": [
              "array(['convertible', 'hatchback', 'sedan', 'wagon', 'hardtop'],\n",
              "      dtype=object)"
            ]
          },
          "metadata": {},
          "execution_count": 168
        }
      ]
    },
    {
      "cell_type": "code",
      "source": [
        "df['convertible'] = np.where(df['carbody']=='convertible', 1, 0)\n",
        "df['hatchback'] = np.where(df['carbody']=='hatchback', 1, 0)\n",
        "df['sedan'] = np.where(df['carbody']=='sedan', 1, 0)\n",
        "df['wagon'] = np.where(df['carbody']=='wagon', 1, 0)\n",
        "df['hardtop'] = np.where(df['carbody']=='hardtop', 1, 0)\n",
        "\n",
        "\n",
        "df.drop(columns=['carbody'],axis=1,inplace=True)"
      ],
      "metadata": {
        "id": "80UOKElzNKUR"
      },
      "execution_count": 169,
      "outputs": []
    },
    {
      "cell_type": "code",
      "source": [
        "df.drivewheel.unique()"
      ],
      "metadata": {
        "colab": {
          "base_uri": "https://localhost:8080/"
        },
        "id": "LqsbVJb6MKL7",
        "outputId": "f9473e63-bc6b-4ba1-a773-6b31d334cc64"
      },
      "execution_count": 170,
      "outputs": [
        {
          "output_type": "execute_result",
          "data": {
            "text/plain": [
              "array(['rwd', 'fwd', '4wd'], dtype=object)"
            ]
          },
          "metadata": {},
          "execution_count": 170
        }
      ]
    },
    {
      "cell_type": "code",
      "source": [
        "df['rwd'] = np.where(df['drivewheel']=='rwd', 1, 0)\n",
        "df['fwd'] = np.where(df['drivewheel']=='fwd', 1, 0)\n",
        "df['4wd'] = np.where(df['drivewheel']=='4wd', 1, 0)\n",
        "\n",
        "\n",
        "df.drop(columns=['drivewheel'],axis=1,inplace=True)"
      ],
      "metadata": {
        "id": "iAn3k0M9NvTX"
      },
      "execution_count": 171,
      "outputs": []
    },
    {
      "cell_type": "code",
      "source": [
        "df.doornumber.unique()"
      ],
      "metadata": {
        "colab": {
          "base_uri": "https://localhost:8080/"
        },
        "id": "JLC-PMqyMSSJ",
        "outputId": "09990c8e-a4c3-47a2-b91a-ebfb2a1b5f22"
      },
      "execution_count": 172,
      "outputs": [
        {
          "output_type": "execute_result",
          "data": {
            "text/plain": [
              "array(['two', 'four'], dtype=object)"
            ]
          },
          "metadata": {},
          "execution_count": 172
        }
      ]
    },
    {
      "cell_type": "code",
      "source": [
        "df['two'] = np.where(df['doornumber']=='two', 1, 0)\n",
        "df['four'] = np.where(df['doornumber']=='four', 1, 0)\n",
        "\n",
        "df.drop(columns=['doornumber'],axis=1,inplace=True)"
      ],
      "metadata": {
        "id": "1Uj6pPUVN-yl"
      },
      "execution_count": 173,
      "outputs": []
    },
    {
      "cell_type": "code",
      "source": [
        "df.enginelocation.unique()"
      ],
      "metadata": {
        "colab": {
          "base_uri": "https://localhost:8080/"
        },
        "id": "fS37PpdNMVGD",
        "outputId": "a11b089f-1703-4200-b2ec-132e3d9150db"
      },
      "execution_count": 174,
      "outputs": [
        {
          "output_type": "execute_result",
          "data": {
            "text/plain": [
              "array(['front', 'rear'], dtype=object)"
            ]
          },
          "metadata": {},
          "execution_count": 174
        }
      ]
    },
    {
      "cell_type": "code",
      "source": [
        "df['front'] = np.where(df['enginelocation']=='front', 1, 0)\n",
        "df['rear'] = np.where(df['enginelocation']=='rear', 1, 0)\n",
        "\n",
        "df.drop(columns=['enginelocation'],axis=1,inplace=True)"
      ],
      "metadata": {
        "id": "uGUE0NvrOKrd"
      },
      "execution_count": 175,
      "outputs": []
    },
    {
      "cell_type": "markdown",
      "source": [
        "#DISTRIBUCION DE VARIABLES"
      ],
      "metadata": {
        "id": "TNWSLmZyF2Yc"
      }
    },
    {
      "cell_type": "code",
      "source": [
        "fig, axs = plt.subplots(2,3, figsize=(22, 10))\n",
        "\n",
        "sns.histplot(data=df, x=\"price\", ax=axs[0,0],multiple=\"stack\")\n",
        "sns.histplot(data=df, x=\"carwidth\",  ax=axs[0,1],multiple=\"stack\")\n",
        "sns.histplot(data=df, x=\"curbweight\",  ax=axs[1,0],multiple=\"stack\")\n",
        "sns.histplot(data=df, x=\"enginesize\", ax=axs[1,1],multiple=\"stack\")\n",
        "sns.histplot(data=df, x=\"horsepower\", ax=axs[1,2],multiple=\"stack\")\n",
        "plt.show()"
      ],
      "metadata": {
        "colab": {
          "base_uri": "https://localhost:8080/",
          "height": 610
        },
        "id": "LFSf2n16F18W",
        "outputId": "632afad6-bba1-46f0-b667-4412ca18a7b8"
      },
      "execution_count": 176,
      "outputs": [
        {
          "output_type": "display_data",
          "data": {
            "text/plain": [
              "<Figure size 1584x720 with 6 Axes>"
            ],
            "image/png": "[encoded data removed]"
          },
          "metadata": {
            "needs_background": "light"
          }
        }
      ]
    },
    {
      "cell_type": "markdown",
      "source": [
        "#TEST DE NORMALIDAD PARA VARIABLE RESPUESTA\n"
      ],
      "metadata": {
        "id": "OQ72ohTBIdjj"
      }
    },
    {
      "cell_type": "code",
      "source": [
        "sns.distplot(df.price) "
      ],
      "metadata": {
        "colab": {
          "base_uri": "https://localhost:8080/",
          "height": 353
        },
        "id": "JKPOXa01IdR8",
        "outputId": "017d8c90-b25a-4de3-a870-4d04761298c8"
      },
      "execution_count": 177,
      "outputs": [
        {
          "output_type": "stream",
          "name": "stderr",
          "text": [
            "/usr/local/lib/python3.7/dist-packages/seaborn/distributions.py:2619: FutureWarning: `distplot` is a deprecated function and will be removed in a future version. Please adapt your code to use either `displot` (a figure-level function with similar flexibility) or `histplot` (an axes-level function for histograms).\n",
            "  warnings.warn(msg, FutureWarning)\n"
          ]
        },
        {
          "output_type": "execute_result",
          "data": {
            "text/plain": [
              "<matplotlib.axes._subplots.AxesSubplot at 0x7fe5c54c7b90>"
            ]
          },
          "metadata": {},
          "execution_count": 177
        },
        {
          "output_type": "display_data",
          "data": {
            "text/plain": [
              "<Figure size 432x288 with 1 Axes>"
            ],
            "image/png": "[encoded data removed]"
          },
          "metadata": {
            "needs_background": "light"
          }
        }
      ]
    },
    {
      "cell_type": "code",
      "source": [
        "from scipy.stats import shapiro\n",
        "\n",
        "stat, p = shapiro(df.price)\n",
        "\n",
        "print('stat: ', stat)\n",
        "print('p value:', p)\n",
        "\n",
        "if p > 0.05:\n",
        "  print('probability gaussin')\n",
        "else:\n",
        "  print('probability not gaussian')  \n",
        "\n"
      ],
      "metadata": {
        "colab": {
          "base_uri": "https://localhost:8080/"
        },
        "id": "wtCf-o0OJccV",
        "outputId": "9ad5b903-dfc0-440a-cfba-4b38a7f30061"
      },
      "execution_count": 178,
      "outputs": [
        {
          "output_type": "stream",
          "name": "stdout",
          "text": [
            "stat:  0.8006654381752014\n",
            "p value: 1.8491777441833604e-15\n",
            "probability not gaussian\n"
          ]
        }
      ]
    },
    {
      "cell_type": "markdown",
      "source": [
        "***CORRELACIONES***\n"
      ],
      "metadata": {
        "id": "tYlkUNLi6n-0"
      }
    },
    {
      "cell_type": "code",
      "source": [
        "mask = np.triu(np.ones_like(df.corr(), dtype=bool))\n",
        "sns.heatmap(df.corr(), vmin = -1, vmax = +1, annot = False\n",
        "            , cmap = 'coolwarm', mask = mask)\n",
        "\n",
        "#se puede ver una posible relacioin entre el precio con el ancho del auto, el peso, el tamaño de motor y los caballos de fuerza"
      ],
      "metadata": {
        "colab": {
          "base_uri": "https://localhost:8080/",
          "height": 363
        },
        "id": "YmI13Yas5gWg",
        "outputId": "bb133fbe-a002-41a3-c038-35c7edd20a30"
      },
      "execution_count": 179,
      "outputs": [
        {
          "output_type": "execute_result",
          "data": {
            "text/plain": [
              "<matplotlib.axes._subplots.AxesSubplot at 0x7fe5c541c210>"
            ]
          },
          "metadata": {},
          "execution_count": 179
        },
        {
          "output_type": "display_data",
          "data": {
            "text/plain": [
              "<Figure size 432x288 with 2 Axes>"
            ],
            "image/png": "[encoded data removed]"
          },
          "metadata": {
            "needs_background": "light"
          }
        }
      ]
    },
    {
      "cell_type": "code",
      "source": [
        "fig, axs = plt.subplots(2,3, figsize=(22, 10))\n",
        "\n",
        "# Ponerle las correlaciones como titulos \n",
        "\n",
        "sns.regplot(x = df.carwidth, y = df.price, ax=axs[0,0], )\n",
        "sns.regplot(x = df.curbweight, y = df.price, ax=axs[0,1])\n",
        "sns.regplot(x = df.enginesize, y = df.horsepower, ax=axs[0, 2])\n",
        "\n",
        "sns.regplot(x = df.enginesize, y = df.price, ax = axs[1,0])\n",
        "sns.regplot(x = df.horsepower, y = df.price, ax = axs[1,1])\n",
        "plt.show()"
      ],
      "metadata": {
        "colab": {
          "base_uri": "https://localhost:8080/",
          "height": 609
        },
        "id": "OkTRKlMlNkGj",
        "outputId": "3c3f19d7-35c4-456c-e968-6b95784a08bf"
      },
      "execution_count": 180,
      "outputs": [
        {
          "output_type": "display_data",
          "data": {
            "text/plain": [
              "<Figure size 1584x720 with 6 Axes>"
            ],
            "image/png": "[encoded data removed]"
          },
          "metadata": {
            "needs_background": "light"
          }
        }
      ]
    },
    {
      "cell_type": "markdown",
      "source": [
        "***SCATTER PLOTS PARA ENTENDER MEJOR EL TIPO DE CORR***"
      ],
      "metadata": {
        "id": "ZKFiABTL81Vw"
      }
    },
    {
      "cell_type": "code",
      "source": [
        "#ANALISIS OUTLIERS\n",
        "\n",
        "fig, axs = plt.subplots(2,3, figsize=(22, 10))\n",
        "\n",
        "\n",
        "\n",
        "sns.boxplot(x=df.price, ax=axs[0,0]) \n",
        "sns.boxplot(x=df.carwidth, ax=axs[0,2])\n",
        "sns.boxplot(x=df.curbweight, ax=axs[0,1])\n",
        "sns.boxplot(x=df.enginesize, ax = axs[1,0])\n",
        "sns.boxplot(x=df.horsepower, ax = axs[1,1])\n",
        "plt.show()\n",
        "\n",
        "\n"
      ],
      "metadata": {
        "colab": {
          "base_uri": "https://localhost:8080/",
          "height": 606
        },
        "id": "E6rUSYwr_Kc8",
        "outputId": "f39f8cfb-5093-4b78-8d4a-a3edb1a6b13b"
      },
      "execution_count": 181,
      "outputs": [
        {
          "output_type": "display_data",
          "data": {
            "text/plain": [
              "<Figure size 1584x720 with 6 Axes>"
            ],
            "image/png": "[encoded data removed]"
          },
          "metadata": {
            "needs_background": "light"
          }
        }
      ]
    },
    {
      "cell_type": "markdown",
      "source": [
        "CATEGORICAS VS PRECIO, H"
      ],
      "metadata": {
        "id": "R6-X7EtP_-mc"
      }
    },
    {
      "cell_type": "code",
      "source": [
        "plt.bar(df.fueltype, df.price, )\n",
        "\n",
        "#los autos que usan diesel valen un 25% menos"
      ],
      "metadata": {
        "colab": {
          "base_uri": "https://localhost:8080/",
          "height": 283
        },
        "id": "RVWFxDON_Kow",
        "outputId": "17b2fc66-52b2-42cd-dc4b-023c93a8ae59"
      },
      "execution_count": 182,
      "outputs": [
        {
          "output_type": "execute_result",
          "data": {
            "text/plain": [
              "<BarContainer object of 205 artists>"
            ]
          },
          "metadata": {},
          "execution_count": 182
        },
        {
          "output_type": "display_data",
          "data": {
            "text/plain": [
              "<Figure size 432x288 with 1 Axes>"
            ],
            "image/png": "[encoded data removed]"
          },
          "metadata": {
            "needs_background": "light"
          }
        }
      ]
    },
    {
      "cell_type": "code",
      "source": [
        "plt.bar(df.cylindernumber, df.price)\n",
        "# no se ve una relacion constante"
      ],
      "metadata": {
        "colab": {
          "base_uri": "https://localhost:8080/",
          "height": 283
        },
        "id": "QqTBKKHsClE2",
        "outputId": "cdf10897-dc88-420c-dc9b-1302dff6e230"
      },
      "execution_count": 183,
      "outputs": [
        {
          "output_type": "execute_result",
          "data": {
            "text/plain": [
              "<BarContainer object of 205 artists>"
            ]
          },
          "metadata": {},
          "execution_count": 183
        },
        {
          "output_type": "display_data",
          "data": {
            "text/plain": [
              "<Figure size 432x288 with 1 Axes>"
            ],
            "image/png": "[encoded data removed]"
          },
          "metadata": {
            "needs_background": "light"
          }
        }
      ]
    },
    {
      "cell_type": "code",
      "source": [
        "#info = df[[\"Marca\", \"price\"]].groupby(\"Marca\").agg([\"mean\", \"count\"]) \n",
        "#info\n",
        "# ver como ordenar por el mean y despues hacer un grafico del head, hacer rango precio ystat stuff para explicar q la marca influye (ej comparacion toyota con buick (mayor ventas va mayor precio prom))"
      ],
      "metadata": {
        "id": "AXwt4SxXZcrf"
      },
      "execution_count": 212,
      "outputs": []
    },
    {
      "cell_type": "markdown",
      "source": [
        "# RETOCAR!!!! Grafico tela de araña para top 3 modelos mas vendidos \n",
        "- podria hacer una funcoin que vaya por todos los auto\n",
        "- agarrar cada auto de cada marca (el mas caro y el mas barato) y graficar las telas de araña una al lado dee la orta\n",
        "\n",
        "\n",
        "info_tela_araña = df.groupby(\"Marca\")\n",
        "\n",
        "info_tela_araña[\"Marca\"] # hay que imprimirlo, y por marca (Dentro dl top 5), \n",
        "\n",
        "hacer el grafico  hacer un max min de cada marca\n"
      ],
      "metadata": {
        "id": "59r9UbpTcdMO"
      }
    },
    {
      "cell_type": "markdown",
      "source": [
        "- deberia hacer las listas angulos y porcentajes para el auto mas caro y mas barato de cada marca o almenos top 3/5\n",
        "\n",
        "- Porcentaje:\n",
        "    - porcenentaaje d influencia de cada variable sobre el total de las variables, es decir, los autos tienen x variabls numericas, esas variables representan un 100% del auto, cada variable tine un % que la representa sobre el total\n",
        "    - angulos:\n",
        "\n",
        "    Variables_01=sql01[\"Variable\"]\n",
        "\n",
        "    Porcentaje_01=sql01[\"P\"] #llama a la funcion de group by de las listas, esa la armo yo con un group by como el de arriab (bien hecho)\n",
        "\n",
        "    n_01=len(Variables_01) #cantidad de variaablees creo\n",
        "\n",
        "    Angulos_01=[i/n_01 * 2 * np.pi for i in range(n_01)] #funcion para conseguir el angulo"
      ],
      "metadata": {
        "id": "Mf9-ch8vJG_3"
      }
    },
    {
      "cell_type": "markdown",
      "source": [
        "fig=figure(figsize=(20,10), dpi=120)\n",
        "\n",
        "ax1=plt.subplot(1, 2, 1 , polar=True)\n",
        "\n",
        "plt.polar(Angulos_01, Porcentaje_01, c='magenta', linewidth=2)\n",
        "\n",
        "ax1.fill(Angulos_01, Porcentaje_01, 'magenta', alpha=0.1)\n",
        "\n",
        "ax1.set_ylim (0, 58)\n",
        "\n",
        "plt.xticks(Angulos_01[:-1], Variables_01, color='black', size=16)\n",
        "\n",
        "plt.title(\"Insertar modelo\", fontsize=20)\n",
        "\n",
        "\n",
        "ax2=plt.subplot(1, 2, 2 , polar=True)\n",
        "\n",
        "plt.polar(Angulos_02, Porcentaje_02, c='magenta', linewidth=2)\n",
        "\n",
        "ax2.fill(Angulos_02, Porcentaje_02, 'magenta', alpha=0.1)\n",
        "\n",
        "ax2.set_ylim (0, 35)\n",
        "\n",
        "plt.xticks(Angulos_02[:-1], Variables_02, color='black', size=16)\n",
        "\n",
        "plt.title(\"Insertar modelo\", fontsize=20)\n",
        "\n",
        "plt.suptitle(\"01. Viajeros_Full \\n\\n \" ,fontsize=40)\n",
        "\n",
        "plt.savefig(\"Potencia_Viajera_Galicia_01.png\", dpi=500) --> no me sirve a mi\n",
        "\n",
        "plt.show()"
      ],
      "metadata": {
        "id": "C4IMAMGcR0Pk"
      }
    },
    {
      "cell_type": "markdown",
      "source": [
        "#Regresion lineal\n"
      ],
      "metadata": {
        "id": "erEcFdcBiWqh"
      }
    },
    {
      "cell_type": "code",
      "source": [
        "df_regresion = df[[\n",
        "\"wheelbase\",\n",
        "\"carlength\",\n",
        "\"carwidth\",\n",
        "\"carheight\",\n",
        "\"curbweight\",\n",
        "\"enginesize\",\n",
        "\"boreratio\",\n",
        "\"stroke\",\n",
        "\"compressionratio\",\n",
        "\"horsepower\",\n",
        "\"peakrpm\",\n",
        "\"citympg\",\n",
        "\"highwaympg\",\n",
        "'alfa-romeo', 'audi', 'bmw', 'chevrolet', 'dodge', 'honda',\n",
        "       'isuzu', 'jaguar', 'mazda', 'buick', 'mercury', 'mitsubishi',\n",
        "       'nissan', 'peugot', 'plymouth', 'porsche', 'renault', 'saab',\n",
        "       'subaru', 'toyota', 'volkswagen', 'volvo', 'convertible', 'hatchback', 'sedan', 'wagon', 'hardtop','rwd', 'fwd', '4wd','two', 'four', 'front', 'rear',\n",
        "\"price\"]]"
      ],
      "metadata": {
        "id": "baV5cNLdkn7E"
      },
      "execution_count": 188,
      "outputs": []
    },
    {
      "cell_type": "code",
      "source": [
        "from sklearn.model_selection import train_test_split\n",
        "\n",
        "x = df_regresion.drop(columns = ['price']).copy()\n",
        "y = df_regresion['price']\n",
        "\n",
        "x_train, x_test, y_train, y_test = train_test_split(x,y, test_size=0.20 )\n",
        "\n",
        "print(x_train.shape), print(y_train.shape)\n",
        "print(x_test.shape), print(y_test.shape)"
      ],
      "metadata": {
        "id": "19-7cOjviWJb",
        "colab": {
          "base_uri": "https://localhost:8080/"
        },
        "outputId": "5e699120-8655-40af-bbb6-054cec6198f7"
      },
      "execution_count": 189,
      "outputs": [
        {
          "output_type": "stream",
          "name": "stdout",
          "text": [
            "(164, 47)\n",
            "(164,)\n",
            "(41, 47)\n",
            "(41,)\n"
          ]
        },
        {
          "output_type": "execute_result",
          "data": {
            "text/plain": [
              "(None, None)"
            ]
          },
          "metadata": {},
          "execution_count": 189
        }
      ]
    },
    {
      "cell_type": "code",
      "source": [
        "from sklearn import linear_model\n",
        "\n",
        "regresion = linear_model.LinearRegression()\n",
        "\n",
        "regresion.fit(x_train, y_train)"
      ],
      "metadata": {
        "colab": {
          "base_uri": "https://localhost:8080/"
        },
        "id": "SlwId2Knj8BM",
        "outputId": "238cd3b2-1573-4e38-bc91-db596f55257e"
      },
      "execution_count": 190,
      "outputs": [
        {
          "output_type": "execute_result",
          "data": {
            "text/plain": [
              "LinearRegression()"
            ]
          },
          "metadata": {},
          "execution_count": 190
        }
      ]
    },
    {
      "cell_type": "code",
      "source": [
        "pred = regresion.predict(x_test)"
      ],
      "metadata": {
        "id": "fqVa3JZikxhc"
      },
      "execution_count": 191,
      "outputs": []
    },
    {
      "cell_type": "code",
      "source": [
        "from sklearn import metrics\n",
        "R2_regre = metrics.r2_score(y_test1, pred_arbol)\n",
        "MSE_regre = metrics.mean_squared_error(y_test1, pred_arbol)\n",
        "\n",
        "print(\"R2: \", R2_regre)\n",
        "print(\"MSE: \", MSE_regre)\n",
        "#meterle mas metricas y compaarar"
      ],
      "metadata": {
        "colab": {
          "base_uri": "https://localhost:8080/"
        },
        "id": "un5Lr-_Fk7N0",
        "outputId": "61926a21-a9fd-4ae7-ae71-b204318740c8"
      },
      "execution_count": 192,
      "outputs": [
        {
          "output_type": "stream",
          "name": "stdout",
          "text": [
            "R2:  0.9553224647763444\n",
            "MSE:  2323247.93902439\n"
          ]
        }
      ]
    },
    {
      "cell_type": "code",
      "source": [
        "sns.regplot(x = y_test, y = pred).set(title = \"y_test vs y_pred\")"
      ],
      "metadata": {
        "colab": {
          "base_uri": "https://localhost:8080/",
          "height": 313
        },
        "id": "U7HOMHlqI2Ia",
        "outputId": "e7182a0a-94c0-40c4-b19f-2f3aa88d01af"
      },
      "execution_count": 193,
      "outputs": [
        {
          "output_type": "execute_result",
          "data": {
            "text/plain": [
              "[Text(0.5, 1.0, 'y_test vs y_pred')]"
            ]
          },
          "metadata": {},
          "execution_count": 193
        },
        {
          "output_type": "display_data",
          "data": {
            "text/plain": [
              "<Figure size 432x288 with 1 Axes>"
            ],
            "image/png": "[encoded data removed]"
          },
          "metadata": {
            "needs_background": "light"
          }
        }
      ]
    },
    {
      "cell_type": "markdown",
      "source": [
        "#Arbol regresion\n",
        "\n",
        "https://scikit-learn.org/stable/modules/generated/sklearn.tree.DecisionTreeRegressor.html\n",
        "\n",
        "- hay que optimizarlo, meterle max depth y la bola, igual 0,9 esta bastane bien"
      ],
      "metadata": {
        "id": "Co9fDeA2j3Rc"
      }
    },
    {
      "cell_type": "code",
      "source": [
        "!pip install sklearn"
      ],
      "metadata": {
        "colab": {
          "base_uri": "https://localhost:8080/"
        },
        "id": "_TiaP7nEgrqe",
        "outputId": "7d949a36-f00a-4008-cd1c-1a8487b1d70e"
      },
      "execution_count": 194,
      "outputs": [
        {
          "output_type": "stream",
          "name": "stdout",
          "text": [
            "Looking in indexes: https://pypi.org/simple, https://us-python.pkg.dev/colab-wheels/public/simple/\n",
            "Requirement already satisfied: sklearn in /usr/local/lib/python3.7/dist-packages (0.0)\n",
            "Requirement already satisfied: scikit-learn in /usr/local/lib/python3.7/dist-packages (from sklearn) (1.0.2)\n",
            "Requirement already satisfied: threadpoolctl>=2.0.0 in /usr/local/lib/python3.7/dist-packages (from scikit-learn->sklearn) (3.1.0)\n",
            "Requirement already satisfied: joblib>=0.11 in /usr/local/lib/python3.7/dist-packages (from scikit-learn->sklearn) (1.1.0)\n",
            "Requirement already satisfied: numpy>=1.14.6 in /usr/local/lib/python3.7/dist-packages (from scikit-learn->sklearn) (1.21.6)\n",
            "Requirement already satisfied: scipy>=1.1.0 in /usr/local/lib/python3.7/dist-packages (from scikit-learn->sklearn) (1.7.3)\n"
          ]
        }
      ]
    },
    {
      "cell_type": "code",
      "source": [
        "base_arbol = df[[\n",
        "\"wheelbase\",\n",
        "\"carlength\",\n",
        "\"carwidth\",\n",
        "\"carheight\",\n",
        "\"curbweight\",\n",
        "\"enginesize\",\n",
        "\"boreratio\",\n",
        "\"stroke\",\n",
        "\"compressionratio\",\n",
        "\"horsepower\",\n",
        "\"peakrpm\",\n",
        "\"citympg\",\n",
        "\"highwaympg\",\n",
        "'alfa-romeo', 'audi', 'bmw', 'chevrolet', 'dodge', 'honda',\n",
        "       'isuzu', 'jaguar', 'mazda', 'buick', 'mercury', 'mitsubishi',\n",
        "       'nissan', 'peugot', 'plymouth', 'porsche', 'renault', 'saab',\n",
        "       'subaru', 'toyota', 'volkswagen', 'volvo', 'convertible', 'hatchback', 'sedan', 'wagon', 'hardtop','rwd', 'fwd', '4wd','two', 'four', 'front', 'rear',\n",
        "\"price\"]]"
      ],
      "metadata": {
        "id": "T_ERocughBeR"
      },
      "execution_count": 204,
      "outputs": []
    },
    {
      "cell_type": "code",
      "source": [
        "x1 = base_arbol.drop(columns = ['price']).copy()\n",
        "y1 = base_arbol['price']\n",
        "\n",
        "x_train1, x_test1, y_train1, y_test1 = train_test_split(x1,y1, test_size=0.20 )\n",
        "\n",
        "print(x_train1.shape), print(y_train1.shape)\n",
        "print(x_test1.shape), print(y_test1.shape)"
      ],
      "metadata": {
        "colab": {
          "base_uri": "https://localhost:8080/"
        },
        "id": "rbgCd6MUiSSv",
        "outputId": "5d0846ae-7aa7-4ba1-b065-513b5dd11da1"
      },
      "execution_count": 205,
      "outputs": [
        {
          "output_type": "stream",
          "name": "stdout",
          "text": [
            "(164, 47)\n",
            "(164,)\n",
            "(41, 47)\n",
            "(41,)\n"
          ]
        },
        {
          "output_type": "execute_result",
          "data": {
            "text/plain": [
              "(None, None)"
            ]
          },
          "metadata": {},
          "execution_count": 205
        }
      ]
    },
    {
      "cell_type": "code",
      "source": [
        "x_train1.dtypes"
      ],
      "metadata": {
        "colab": {
          "base_uri": "https://localhost:8080/"
        },
        "id": "ENYKQPpxjER7",
        "outputId": "f420d619-b860-432e-fcd2-e503786daa80"
      },
      "execution_count": 206,
      "outputs": [
        {
          "output_type": "execute_result",
          "data": {
            "text/plain": [
              "wheelbase           float64\n",
              "carlength           float64\n",
              "carwidth            float64\n",
              "carheight           float64\n",
              "curbweight            int64\n",
              "enginesize            int64\n",
              "boreratio           float64\n",
              "stroke              float64\n",
              "compressionratio    float64\n",
              "horsepower            int64\n",
              "peakrpm               int64\n",
              "citympg               int64\n",
              "highwaympg            int64\n",
              "alfa-romeo            int64\n",
              "audi                  int64\n",
              "bmw                   int64\n",
              "chevrolet             int64\n",
              "dodge                 int64\n",
              "honda                 int64\n",
              "isuzu                 int64\n",
              "jaguar                int64\n",
              "mazda                 int64\n",
              "buick                 int64\n",
              "mercury               int64\n",
              "mitsubishi            int64\n",
              "nissan                int64\n",
              "peugot                int64\n",
              "plymouth              int64\n",
              "porsche               int64\n",
              "renault               int64\n",
              "saab                  int64\n",
              "subaru                int64\n",
              "toyota                int64\n",
              "volkswagen            int64\n",
              "volvo                 int64\n",
              "convertible           int64\n",
              "hatchback             int64\n",
              "sedan                 int64\n",
              "wagon                 int64\n",
              "hardtop               int64\n",
              "rwd                   int64\n",
              "fwd                   int64\n",
              "4wd                   int64\n",
              "two                   int64\n",
              "four                  int64\n",
              "front                 int64\n",
              "rear                  int64\n",
              "dtype: object"
            ]
          },
          "metadata": {},
          "execution_count": 206
        }
      ]
    },
    {
      "cell_type": "code",
      "source": [
        "from sklearn.tree import DecisionTreeRegressor\n",
        "from sklearn import tree\n",
        "\n",
        "#como lo pongo una seed?\n",
        "arbol = DecisionTreeRegressor()\n",
        "arbol.fit(x_train1, y_train1)\n",
        "\n",
        "tree.plot_tree(arbol)"
      ],
      "metadata": {
        "colab": {
          "base_uri": "https://localhost:8080/",
          "height": 1000
        },
        "id": "ssUkDBQcgDPR",
        "outputId": "1dd523c2-ecc9-4603-a5f7-d5f142781574"
      },
      "execution_count": 207,
      "outputs": [
        {
          "output_type": "execute_result",
          "data": {
            "text/plain": [
              "[Text(0.7469202898550724, 0.9666666666666667, 'X[5] <= 182.0\\nsquared_error = 55379800.881\\nsamples = 164\\nvalue = 12940.224'),\n",
              " Text(0.5489130434782609, 0.9, 'X[4] <= 2701.0\\nsquared_error = 20857265.703\\nsamples = 152\\nvalue = 11306.126'),\n",
              " Text(0.30289855072463767, 0.8333333333333334, 'X[4] <= 2332.5\\nsquared_error = 6720511.313\\nsamples = 104\\nvalue = 8866.904'),\n",
              " Text(0.14057971014492754, 0.7666666666666667, 'X[11] <= 29.5\\nsquared_error = 1702225.334\\nsamples = 64\\nvalue = 7425.547'),\n",
              " Text(0.050724637681159424, 0.7, 'X[12] <= 29.5\\nsquared_error = 1040607.886\\nsamples = 22\\nvalue = 8624.5'),\n",
              " Text(0.017391304347826087, 0.6333333333333333, 'X[2] <= 64.1\\nsquared_error = 927728.667\\nsamples = 3\\nvalue = 10291.0'),\n",
              " Text(0.011594202898550725, 0.5666666666666667, 'X[4] <= 2243.0\\nsquared_error = 116281.0\\nsamples = 2\\nvalue = 9639.0'),\n",
              " Text(0.005797101449275362, 0.5, 'squared_error = 0.0\\nsamples = 1\\nvalue = 9980.0'),\n",
              " Text(0.017391304347826087, 0.5, 'squared_error = 0.0\\nsamples = 1\\nvalue = 9298.0'),\n",
              " Text(0.02318840579710145, 0.5666666666666667, 'squared_error = 0.0\\nsamples = 1\\nvalue = 11595.0'),\n",
              " Text(0.08405797101449275, 0.6333333333333333, 'X[4] <= 2295.0\\nsquared_error = 550683.917\\nsamples = 19\\nvalue = 8361.368'),\n",
              " Text(0.05217391304347826, 0.5666666666666667, 'X[12] <= 32.5\\nsquared_error = 318226.408\\nsamples = 14\\nvalue = 8066.143'),\n",
              " Text(0.028985507246376812, 0.5, 'X[6] <= 3.335\\nsquared_error = 106769.917\\nsamples = 6\\nvalue = 7669.5'),\n",
              " Text(0.017391304347826087, 0.43333333333333335, 'X[24] <= 0.5\\nsquared_error = 12143.188\\nsamples = 4\\nvalue = 7875.25'),\n",
              " Text(0.011594202898550725, 0.36666666666666664, 'X[8] <= 8.3\\nsquared_error = 773.556\\nsamples = 3\\nvalue = 7937.333'),\n",
              " Text(0.005797101449275362, 0.3, 'squared_error = 0.0\\nsamples = 2\\nvalue = 7957.0'),\n",
              " Text(0.017391304347826087, 0.3, 'squared_error = 0.0\\nsamples = 1\\nvalue = 7898.0'),\n",
              " Text(0.02318840579710145, 0.36666666666666664, 'squared_error = 0.0\\nsamples = 1\\nvalue = 7689.0'),\n",
              " Text(0.04057971014492753, 0.43333333333333335, 'X[36] <= 0.5\\nsquared_error = 42025.0\\nsamples = 2\\nvalue = 7258.0'),\n",
              " Text(0.034782608695652174, 0.36666666666666664, 'squared_error = 0.0\\nsamples = 1\\nvalue = 7463.0'),\n",
              " Text(0.0463768115942029, 0.36666666666666664, 'squared_error = 0.0\\nsamples = 1\\nvalue = 7053.0'),\n",
              " Text(0.07536231884057971, 0.5, 'X[1] <= 168.1\\nsquared_error = 270328.984\\nsamples = 8\\nvalue = 8363.625'),\n",
              " Text(0.06376811594202898, 0.43333333333333335, 'X[37] <= 0.5\\nsquared_error = 305742.25\\nsamples = 4\\nvalue = 8651.5'),\n",
              " Text(0.057971014492753624, 0.36666666666666664, 'X[4] <= 2262.5\\nsquared_error = 244170.889\\nsamples = 3\\nvalue = 8449.333'),\n",
              " Text(0.05217391304347826, 0.3, 'X[18] <= 0.5\\nsquared_error = 53592.25\\nsamples = 2\\nvalue = 8126.5'),\n",
              " Text(0.0463768115942029, 0.23333333333333334, 'squared_error = 0.0\\nsamples = 1\\nvalue = 8358.0'),\n",
              " Text(0.057971014492753624, 0.23333333333333334, 'squared_error = 0.0\\nsamples = 1\\nvalue = 7895.0'),\n",
              " Text(0.06376811594202898, 0.3, 'squared_error = 0.0\\nsamples = 1\\nvalue = 9095.0'),\n",
              " Text(0.06956521739130435, 0.36666666666666664, 'squared_error = 0.0\\nsamples = 1\\nvalue = 9258.0'),\n",
              " Text(0.08695652173913043, 0.43333333333333335, 'X[4] <= 2242.0\\nsquared_error = 69171.688\\nsamples = 4\\nvalue = 8075.75'),\n",
              " Text(0.08115942028985507, 0.36666666666666664, 'X[7] <= 2.835\\nsquared_error = 14108.667\\nsamples = 3\\nvalue = 7936.0'),\n",
              " Text(0.07536231884057971, 0.3, 'squared_error = 0.0\\nsamples = 1\\nvalue = 7775.0'),\n",
              " Text(0.08695652173913043, 0.3, 'X[9] <= 77.5\\nsquared_error = 1722.25\\nsamples = 2\\nvalue = 8016.5'),\n",
              " Text(0.08115942028985507, 0.23333333333333334, 'squared_error = 0.0\\nsamples = 1\\nvalue = 8058.0'),\n",
              " Text(0.0927536231884058, 0.23333333333333334, 'squared_error = 0.0\\nsamples = 1\\nvalue = 7975.0'),\n",
              " Text(0.0927536231884058, 0.36666666666666664, 'squared_error = 0.0\\nsamples = 1\\nvalue = 8495.0'),\n",
              " Text(0.11594202898550725, 0.5666666666666667, 'X[4] <= 2313.0\\nsquared_error = 274202.4\\nsamples = 5\\nvalue = 9188.0'),\n",
              " Text(0.10434782608695652, 0.5, 'X[3] <= 55.2\\nsquared_error = 49729.0\\nsamples = 2\\nvalue = 9772.0'),\n",
              " Text(0.09855072463768116, 0.43333333333333335, 'squared_error = 0.0\\nsamples = 1\\nvalue = 9549.0'),\n",
              " Text(0.11014492753623188, 0.43333333333333335, 'squared_error = 0.0\\nsamples = 1\\nvalue = 9995.0'),\n",
              " Text(0.12753623188405797, 0.5, 'X[7] <= 3.465\\nsquared_error = 44900.222\\nsamples = 3\\nvalue = 8798.667'),\n",
              " Text(0.12173913043478261, 0.43333333333333335, 'squared_error = 0.0\\nsamples = 1\\nvalue = 8499.0'),\n",
              " Text(0.13333333333333333, 0.43333333333333335, 'X[11] <= 28.0\\nsquared_error = 0.25\\nsamples = 2\\nvalue = 8948.5'),\n",
              " Text(0.12753623188405797, 0.36666666666666664, 'squared_error = 0.0\\nsamples = 1\\nvalue = 8949.0'),\n",
              " Text(0.1391304347826087, 0.36666666666666664, 'squared_error = 0.0\\nsamples = 1\\nvalue = 8948.0'),\n",
              " Text(0.23043478260869565, 0.7, 'X[36] <= 0.5\\nsquared_error = 901403.666\\nsamples = 42\\nvalue = 6797.524'),\n",
              " Text(0.186231884057971, 0.6333333333333333, 'X[19] <= 0.5\\nsquared_error = 590446.384\\nsamples = 21\\nvalue = 7348.857'),\n",
              " Text(0.18043478260869567, 0.5666666666666667, 'X[4] <= 1947.5\\nsquared_error = 366684.028\\nsamples = 19\\nvalue = 7183.842'),\n",
              " Text(0.16231884057971013, 0.5, 'X[7] <= 3.22\\nsquared_error = 289176.889\\nsamples = 3\\nvalue = 6256.333'),\n",
              " Text(0.1565217391304348, 0.43333333333333335, 'X[4] <= 1927.0\\nsquared_error = 3600.0\\nsamples = 2\\nvalue = 6635.0'),\n",
              " Text(0.15072463768115943, 0.36666666666666664, 'squared_error = 0.0\\nsamples = 1\\nvalue = 6575.0'),\n",
              " Text(0.16231884057971013, 0.36666666666666664, 'squared_error = 0.0\\nsamples = 1\\nvalue = 6695.0'),\n",
              " Text(0.1681159420289855, 0.43333333333333335, 'squared_error = 0.0\\nsamples = 1\\nvalue = 5499.0'),\n",
              " Text(0.19855072463768117, 0.5, 'X[39] <= 0.5\\nsquared_error = 189671.562\\nsamples = 16\\nvalue = 7357.75'),\n",
              " Text(0.1927536231884058, 0.43333333333333335, 'X[0] <= 97.25\\nsquared_error = 145830.889\\nsamples = 15\\nvalue = 7298.333'),\n",
              " Text(0.17391304347826086, 0.36666666666666664, 'X[5] <= 90.5\\nsquared_error = 105308.225\\nsamples = 13\\nvalue = 7208.077'),\n",
              " Text(0.1536231884057971, 0.3, 'X[3] <= 50.7\\nsquared_error = 186864.222\\nsamples = 3\\nvalue = 6997.667'),\n",
              " Text(0.14782608695652175, 0.23333333333333334, 'squared_error = 210222.25\\nsamples = 2\\nvalue = 7150.5'),\n",
              " Text(0.15942028985507245, 0.23333333333333334, 'squared_error = 0.0\\nsamples = 1\\nvalue = 6692.0'),\n",
              " Text(0.19420289855072465, 0.3, 'X[12] <= 37.5\\nsquared_error = 63575.16\\nsamples = 10\\nvalue = 7271.2'),\n",
              " Text(0.17101449275362318, 0.23333333333333334, 'X[8] <= 9.1\\nsquared_error = 27242.472\\nsamples = 6\\nvalue = 7145.167'),\n",
              " Text(0.15942028985507245, 0.16666666666666666, 'X[4] <= 2180.5\\nsquared_error = 100.0\\nsamples = 2\\nvalue = 6928.0'),\n",
              " Text(0.1536231884057971, 0.1, 'squared_error = 0.0\\nsamples = 1\\nvalue = 6938.0'),\n",
              " Text(0.16521739130434782, 0.1, 'squared_error = 0.0\\nsamples = 1\\nvalue = 6918.0'),\n",
              " Text(0.1826086956521739, 0.16666666666666666, 'X[9] <= 79.0\\nsquared_error = 5442.688\\nsamples = 4\\nvalue = 7253.75'),\n",
              " Text(0.17681159420289855, 0.1, 'X[5] <= 94.5\\nsquared_error = 3.556\\nsamples = 3\\nvalue = 7296.333'),\n",
              " Text(0.17101449275362318, 0.03333333333333333, 'squared_error = 0.0\\nsamples = 2\\nvalue = 7295.0'),\n",
              " Text(0.1826086956521739, 0.03333333333333333, 'squared_error = 0.0\\nsamples = 1\\nvalue = 7299.0'),\n",
              " Text(0.18840579710144928, 0.1, 'squared_error = 0.0\\nsamples = 1\\nvalue = 7126.0'),\n",
              " Text(0.21739130434782608, 0.23333333333333334, 'X[3] <= 53.55\\nsquared_error = 58507.688\\nsamples = 4\\nvalue = 7460.25'),\n",
              " Text(0.20579710144927535, 0.16666666666666666, 'X[27] <= 0.5\\nsquared_error = 4160.25\\nsamples = 2\\nvalue = 7673.5'),\n",
              " Text(0.2, 0.1, 'squared_error = 0.0\\nsamples = 1\\nvalue = 7738.0'),\n",
              " Text(0.21159420289855072, 0.1, 'squared_error = 0.0\\nsamples = 1\\nvalue = 7609.0'),\n",
              " Text(0.2289855072463768, 0.16666666666666666, 'X[0] <= 93.8\\nsquared_error = 21904.0\\nsamples = 2\\nvalue = 7247.0'),\n",
              " Text(0.22318840579710145, 0.1, 'squared_error = 0.0\\nsamples = 1\\nvalue = 7395.0'),\n",
              " Text(0.23478260869565218, 0.1, 'squared_error = 0.0\\nsamples = 1\\nvalue = 7099.0'),\n",
              " Text(0.21159420289855072, 0.36666666666666664, 'X[44] <= 0.5\\nsquared_error = 12100.0\\nsamples = 2\\nvalue = 7885.0'),\n",
              " Text(0.20579710144927535, 0.3, 'squared_error = 0.0\\nsamples = 1\\nvalue = 7775.0'),\n",
              " Text(0.21739130434782608, 0.3, 'squared_error = 0.0\\nsamples = 1\\nvalue = 7995.0'),\n",
              " Text(0.20434782608695654, 0.43333333333333335, 'squared_error = 0.0\\nsamples = 1\\nvalue = 8249.0'),\n",
              " Text(0.19202898550724637, 0.5666666666666667, 'squared_error = 0.0\\nsamples = 2\\nvalue = 8916.5'),\n",
              " Text(0.2746376811594203, 0.6333333333333333, 'X[7] <= 3.26\\nsquared_error = 604424.059\\nsamples = 21\\nvalue = 6246.19'),\n",
              " Text(0.2391304347826087, 0.5666666666666667, 'X[2] <= 63.5\\nsquared_error = 325670.996\\nsamples = 15\\nvalue = 5906.067'),\n",
              " Text(0.22318840579710145, 0.5, 'X[3] <= 53.45\\nsquared_error = 272.25\\nsamples = 2\\nvalue = 5134.5'),\n",
              " Text(0.21739130434782608, 0.43333333333333335, 'squared_error = 0.0\\nsamples = 1\\nvalue = 5151.0'),\n",
              " Text(0.2289855072463768, 0.43333333333333335, 'squared_error = 0.0\\nsamples = 1\\nvalue = 5118.0'),\n",
              " Text(0.25507246376811593, 0.5, 'X[12] <= 38.5\\nsquared_error = 270055.101\\nsamples = 13\\nvalue = 6024.769'),\n",
              " Text(0.24057971014492754, 0.43333333333333335, 'X[12] <= 34.5\\nsquared_error = 211401.188\\nsamples = 8\\nvalue = 6268.25'),\n",
              " Text(0.23478260869565218, 0.36666666666666664, 'squared_error = 0.0\\nsamples = 1\\nvalue = 5195.0'),\n",
              " Text(0.2463768115942029, 0.36666666666666664, 'X[4] <= 1902.5\\nsquared_error = 53541.673\\nsamples = 7\\nvalue = 6421.571'),\n",
              " Text(0.23478260869565218, 0.3, 'X[3] <= 52.45\\nsquared_error = 19881.0\\nsamples = 2\\nvalue = 6236.0'),\n",
              " Text(0.2289855072463768, 0.23333333333333334, 'squared_error = 0.0\\nsamples = 1\\nvalue = 6377.0'),\n",
              " Text(0.24057971014492754, 0.23333333333333334, 'squared_error = 0.0\\nsamples = 1\\nvalue = 6095.0'),\n",
              " Text(0.2579710144927536, 0.3, 'X[1] <= 158.9\\nsquared_error = 47721.36\\nsamples = 5\\nvalue = 6495.8'),\n",
              " Text(0.25217391304347825, 0.23333333333333334, 'X[4] <= 1974.0\\nsquared_error = 31676.5\\nsamples = 4\\nvalue = 6421.0'),\n",
              " Text(0.2463768115942029, 0.16666666666666666, 'squared_error = 0.0\\nsamples = 1\\nvalue = 6189.0'),\n",
              " Text(0.2579710144927536, 0.16666666666666666, 'X[7] <= 3.13\\nsquared_error = 18313.556\\nsamples = 3\\nvalue = 6498.333'),\n",
              " Text(0.25217391304347825, 0.1, 'X[44] <= 0.5\\nsquared_error = 5625.0\\nsamples = 2\\nvalue = 6413.0'),\n",
              " Text(0.2463768115942029, 0.03333333333333333, 'squared_error = 0.0\\nsamples = 1\\nvalue = 6338.0'),\n",
              " Text(0.2579710144927536, 0.03333333333333333, 'squared_error = 0.0\\nsamples = 1\\nvalue = 6488.0'),\n",
              " Text(0.263768115942029, 0.1, 'squared_error = 0.0\\nsamples = 1\\nvalue = 6669.0'),\n",
              " Text(0.263768115942029, 0.23333333333333334, 'squared_error = 0.0\\nsamples = 1\\nvalue = 6795.0'),\n",
              " Text(0.26956521739130435, 0.43333333333333335, 'X[1] <= 156.6\\nsquared_error = 117284.56\\nsamples = 5\\nvalue = 5635.2'),\n",
              " Text(0.263768115942029, 0.36666666666666664, 'squared_error = 0.0\\nsamples = 1\\nvalue = 6295.0'),\n",
              " Text(0.2753623188405797, 0.36666666666666664, 'X[5] <= 91.0\\nsquared_error = 10563.188\\nsamples = 4\\nvalue = 5470.25'),\n",
              " Text(0.26956521739130435, 0.3, 'squared_error = 0.0\\nsamples = 2\\nvalue = 5572.0'),\n",
              " Text(0.2811594202898551, 0.3, 'X[3] <= 52.65\\nsquared_error = 420.25\\nsamples = 2\\nvalue = 5368.5'),\n",
              " Text(0.2753623188405797, 0.23333333333333334, 'squared_error = 0.0\\nsamples = 1\\nvalue = 5389.0'),\n",
              " Text(0.28695652173913044, 0.23333333333333334, 'squared_error = 0.0\\nsamples = 1\\nvalue = 5348.0'),\n",
              " Text(0.3101449275362319, 0.5666666666666667, 'X[5] <= 94.5\\nsquared_error = 289069.917\\nsamples = 6\\nvalue = 7096.5'),\n",
              " Text(0.2985507246376812, 0.5, 'X[4] <= 1948.0\\nsquared_error = 69233.0\\nsamples = 4\\nvalue = 6748.0'),\n",
              " Text(0.2927536231884058, 0.43333333333333335, 'X[4] <= 1766.0\\nsquared_error = 27794.667\\nsamples = 3\\nvalue = 6621.0'),\n",
              " Text(0.28695652173913044, 0.36666666666666664, 'squared_error = 0.0\\nsamples = 1\\nvalue = 6479.0'),\n",
              " Text(0.2985507246376812, 0.36666666666666664, 'X[2] <= 63.95\\nsquared_error = 26569.0\\nsamples = 2\\nvalue = 6692.0'),\n",
              " Text(0.2927536231884058, 0.3, 'squared_error = 0.0\\nsamples = 1\\nvalue = 6855.0'),\n",
              " Text(0.30434782608695654, 0.3, 'squared_error = 0.0\\nsamples = 1\\nvalue = 6529.0'),\n",
              " Text(0.30434782608695654, 0.43333333333333335, 'squared_error = 0.0\\nsamples = 1\\nvalue = 7129.0'),\n",
              " Text(0.3217391304347826, 0.5, 'X[12] <= 42.0\\nsquared_error = 30.25\\nsamples = 2\\nvalue = 7793.5'),\n",
              " Text(0.3159420289855073, 0.43333333333333335, 'squared_error = 0.0\\nsamples = 1\\nvalue = 7799.0'),\n",
              " Text(0.32753623188405795, 0.43333333333333335, 'squared_error = 0.0\\nsamples = 1\\nvalue = 7788.0'),\n",
              " Text(0.4652173913043478, 0.7666666666666667, 'X[9] <= 97.5\\nsquared_error = 6107327.619\\nsamples = 40\\nvalue = 11173.075'),\n",
              " Text(0.40144927536231884, 0.7, 'X[1] <= 175.0\\nsquared_error = 2625794.198\\nsamples = 22\\nvalue = 9776.727'),\n",
              " Text(0.3710144927536232, 0.6333333333333333, 'X[0] <= 96.95\\nsquared_error = 1057417.734\\nsamples = 8\\nvalue = 8376.375'),\n",
              " Text(0.3565217391304348, 0.5666666666666667, 'X[4] <= 2385.0\\nsquared_error = 377523.0\\nsamples = 4\\nvalue = 7494.0'),\n",
              " Text(0.34492753623188405, 0.5, 'X[2] <= 63.6\\nsquared_error = 10404.0\\nsamples = 2\\nvalue = 6887.0'),\n",
              " Text(0.3391304347826087, 0.43333333333333335, 'squared_error = 0.0\\nsamples = 1\\nvalue = 6785.0'),\n",
              " Text(0.3507246376811594, 0.43333333333333335, 'squared_error = 0.0\\nsamples = 1\\nvalue = 6989.0'),\n",
              " Text(0.3681159420289855, 0.5, 'X[9] <= 85.0\\nsquared_error = 7744.0\\nsamples = 2\\nvalue = 8101.0'),\n",
              " Text(0.36231884057971014, 0.43333333333333335, 'squared_error = 0.0\\nsamples = 1\\nvalue = 8013.0'),\n",
              " Text(0.3739130434782609, 0.43333333333333335, 'squared_error = 0.0\\nsamples = 1\\nvalue = 8189.0'),\n",
              " Text(0.3855072463768116, 0.5666666666666667, 'X[4] <= 2362.5\\nsquared_error = 180141.188\\nsamples = 4\\nvalue = 9258.75'),\n",
              " Text(0.37971014492753624, 0.5, 'squared_error = 0.0\\nsamples = 1\\nvalue = 9960.0'),\n",
              " Text(0.391304347826087, 0.5, 'X[2] <= 65.0\\nsquared_error = 21632.0\\nsamples = 3\\nvalue = 9025.0'),\n",
              " Text(0.3855072463768116, 0.43333333333333335, 'squared_error = 0.0\\nsamples = 2\\nvalue = 8921.0'),\n",
              " Text(0.39710144927536234, 0.43333333333333335, 'squared_error = 0.0\\nsamples = 1\\nvalue = 9233.0'),\n",
              " Text(0.4318840579710145, 0.6333333333333333, 'X[5] <= 109.5\\nsquared_error = 1761123.495\\nsamples = 14\\nvalue = 10576.929'),\n",
              " Text(0.40869565217391307, 0.5666666666666667, 'X[8] <= 16.0\\nsquared_error = 604506.25\\nsamples = 2\\nvalue = 13067.5'),\n",
              " Text(0.4028985507246377, 0.5, 'squared_error = 0.0\\nsamples = 1\\nvalue = 12290.0'),\n",
              " Text(0.4144927536231884, 0.5, 'squared_error = 0.0\\nsamples = 1\\nvalue = 13845.0'),\n",
              " Text(0.45507246376811594, 0.5666666666666667, 'X[11] <= 26.5\\nsquared_error = 747764.639\\nsamples = 12\\nvalue = 10161.833'),\n",
              " Text(0.4260869565217391, 0.5, 'X[4] <= 2417.5\\nsquared_error = 843958.333\\nsamples = 6\\nvalue = 9670.0'),\n",
              " Text(0.4144927536231884, 0.43333333333333335, 'X[44] <= 0.5\\nsquared_error = 571666.667\\nsamples = 3\\nvalue = 9195.0'),\n",
              " Text(0.40869565217391307, 0.36666666666666664, 'squared_error = 0.0\\nsamples = 1\\nvalue = 8845.0'),\n",
              " Text(0.42028985507246375, 0.36666666666666664, 'squared_error = 765625.0\\nsamples = 2\\nvalue = 9370.0'),\n",
              " Text(0.43768115942028984, 0.43333333333333335, 'X[4] <= 2442.5\\nsquared_error = 665000.0\\nsamples = 3\\nvalue = 10145.0'),\n",
              " Text(0.4318840579710145, 0.36666666666666664, 'squared_error = 0.0\\nsamples = 1\\nvalue = 11245.0'),\n",
              " Text(0.4434782608695652, 0.36666666666666664, 'X[1] <= 179.15\\nsquared_error = 90000.0\\nsamples = 2\\nvalue = 9595.0'),\n",
              " Text(0.43768115942028984, 0.3, 'squared_error = 0.0\\nsamples = 1\\nvalue = 9895.0'),\n",
              " Text(0.4492753623188406, 0.3, 'squared_error = 0.0\\nsamples = 1\\nvalue = 9295.0'),\n",
              " Text(0.48405797101449277, 0.5, 'X[4] <= 2428.5\\nsquared_error = 167770.889\\nsamples = 6\\nvalue = 10653.667'),\n",
              " Text(0.47246376811594204, 0.43333333333333335, 'X[3] <= 54.5\\nsquared_error = 142884.222\\nsamples = 3\\nvalue = 10393.667'),\n",
              " Text(0.4666666666666667, 0.36666666666666664, 'X[7] <= 3.56\\nsquared_error = 23562.25\\nsamples = 2\\nvalue = 10141.5'),\n",
              " Text(0.4608695652173913, 0.3, 'squared_error = 0.0\\nsamples = 1\\nvalue = 9988.0'),\n",
              " Text(0.47246376811594204, 0.3, 'squared_error = 0.0\\nsamples = 1\\nvalue = 10295.0'),\n",
              " Text(0.4782608695652174, 0.36666666666666664, 'squared_error = 0.0\\nsamples = 1\\nvalue = 10898.0'),\n",
              " Text(0.4956521739130435, 0.43333333333333335, 'X[7] <= 3.465\\nsquared_error = 57457.556\\nsamples = 3\\nvalue = 10913.667'),\n",
              " Text(0.48985507246376814, 0.36666666666666664, 'X[12] <= 37.5\\nsquared_error = 2352.25\\nsamples = 2\\nvalue = 10746.5'),\n",
              " Text(0.48405797101449277, 0.3, 'squared_error = 0.0\\nsamples = 1\\nvalue = 10698.0'),\n",
              " Text(0.4956521739130435, 0.3, 'squared_error = 0.0\\nsamples = 1\\nvalue = 10795.0'),\n",
              " Text(0.5014492753623189, 0.36666666666666664, 'squared_error = 0.0\\nsamples = 1\\nvalue = 11248.0'),\n",
              " Text(0.5289855072463768, 0.7, 'X[2] <= 65.0\\nsquared_error = 5066817.423\\nsamples = 18\\nvalue = 12879.722'),\n",
              " Text(0.5130434782608696, 0.6333333333333333, 'X[13] <= 0.5\\nsquared_error = 1864981.25\\nsamples = 4\\nvalue = 15837.5'),\n",
              " Text(0.5072463768115942, 0.5666666666666667, 'X[44] <= 0.5\\nsquared_error = 61256.25\\nsamples = 2\\nvalue = 16677.5'),\n",
              " Text(0.5014492753623189, 0.5, 'squared_error = 0.0\\nsamples = 1\\nvalue = 16430.0'),\n",
              " Text(0.5130434782608696, 0.5, 'squared_error = 0.0\\nsamples = 1\\nvalue = 16925.0'),\n",
              " Text(0.518840579710145, 0.5666666666666667, 'squared_error = 2257506.25\\nsamples = 2\\nvalue = 14997.5'),\n",
              " Text(0.5449275362318841, 0.6333333333333333, 'X[6] <= 3.26\\nsquared_error = 2767911.658\\nsamples = 14\\nvalue = 12034.643'),\n",
              " Text(0.5304347826086957, 0.5666666666666667, 'X[43] <= 0.5\\nsquared_error = 774162.5\\nsamples = 4\\nvalue = 13860.0'),\n",
              " Text(0.5246376811594203, 0.5, 'X[14] <= 0.5\\nsquared_error = 173505.556\\nsamples = 3\\nvalue = 13396.667'),\n",
              " Text(0.518840579710145, 0.43333333333333335, 'X[18] <= 0.5\\nsquared_error = 30625.0\\nsamples = 2\\nvalue = 13120.0'),\n",
              " Text(0.5130434782608696, 0.36666666666666664, 'squared_error = 0.0\\nsamples = 1\\nvalue = 13295.0'),\n",
              " Text(0.5246376811594203, 0.36666666666666664, 'squared_error = 0.0\\nsamples = 1\\nvalue = 12945.0'),\n",
              " Text(0.5304347826086957, 0.43333333333333335, 'squared_error = 0.0\\nsamples = 1\\nvalue = 13950.0'),\n",
              " Text(0.5362318840579711, 0.5, 'squared_error = 0.0\\nsamples = 1\\nvalue = 15250.0'),\n",
              " Text(0.5594202898550724, 0.5666666666666667, 'X[5] <= 133.5\\nsquared_error = 1699531.25\\nsamples = 10\\nvalue = 11304.5'),\n",
              " Text(0.5478260869565217, 0.5, 'X[4] <= 2382.5\\nsquared_error = 641017.959\\nsamples = 7\\nvalue = 11915.429'),\n",
              " Text(0.5420289855072464, 0.43333333333333335, 'squared_error = 202500.0\\nsamples = 2\\nvalue = 11395.0'),\n",
              " Text(0.553623188405797, 0.43333333333333335, 'X[8] <= 9.355\\nsquared_error = 664751.44\\nsamples = 5\\nvalue = 12123.6'),\n",
              " Text(0.5478260869565217, 0.36666666666666664, 'X[11] <= 23.5\\nsquared_error = 107608.688\\nsamples = 4\\nvalue = 11743.25'),\n",
              " Text(0.5420289855072464, 0.3, 'X[4] <= 2676.5\\nsquared_error = 39256.889\\nsamples = 3\\nvalue = 11904.667'),\n",
              " Text(0.5362318840579711, 0.23333333333333334, 'X[9] <= 110.5\\nsquared_error = 6084.0\\nsamples = 2\\nvalue = 11772.0'),\n",
              " Text(0.5304347826086957, 0.16666666666666666, 'squared_error = 0.0\\nsamples = 1\\nvalue = 11850.0'),\n",
              " Text(0.5420289855072464, 0.16666666666666666, 'squared_error = 0.0\\nsamples = 1\\nvalue = 11694.0'),\n",
              " Text(0.5478260869565217, 0.23333333333333334, 'squared_error = 0.0\\nsamples = 1\\nvalue = 12170.0'),\n",
              " Text(0.553623188405797, 0.3, 'squared_error = 0.0\\nsamples = 1\\nvalue = 11259.0'),\n",
              " Text(0.5594202898550724, 0.36666666666666664, 'squared_error = 0.0\\nsamples = 1\\nvalue = 13645.0'),\n",
              " Text(0.5710144927536231, 0.5, 'X[4] <= 2545.5\\nsquared_error = 1266466.667\\nsamples = 3\\nvalue = 9879.0'),\n",
              " Text(0.5652173913043478, 0.43333333333333335, 'squared_error = 0.0\\nsamples = 1\\nvalue = 8449.0'),\n",
              " Text(0.5768115942028985, 0.43333333333333335, 'X[36] <= 0.5\\nsquared_error = 366025.0\\nsamples = 2\\nvalue = 10594.0'),\n",
              " Text(0.5710144927536231, 0.36666666666666664, 'squared_error = 0.0\\nsamples = 1\\nvalue = 11199.0'),\n",
              " Text(0.5826086956521739, 0.36666666666666664, 'squared_error = 0.0\\nsamples = 1\\nvalue = 9989.0'),\n",
              " Text(0.7949275362318841, 0.8333333333333334, 'X[10] <= 5450.0\\nsquared_error = 10664625.666\\nsamples = 48\\nvalue = 16591.108'),\n",
              " Text(0.7231884057971014, 0.7666666666666667, 'X[15] <= 0.5\\nsquared_error = 9640332.742\\nsamples = 38\\nvalue = 15845.684'),\n",
              " Text(0.6905797101449276, 0.7, 'X[2] <= 66.85\\nsquared_error = 7186779.453\\nsamples = 36\\nvalue = 15461.139'),\n",
              " Text(0.6427536231884058, 0.6333333333333333, 'X[11] <= 22.5\\nsquared_error = 3813932.916\\nsamples = 15\\nvalue = 13828.533'),\n",
              " Text(0.6246376811594203, 0.5666666666666667, 'X[6] <= 3.35\\nsquared_error = 1480952.84\\nsamples = 13\\nvalue = 14430.923'),\n",
              " Text(0.6057971014492753, 0.5, 'X[7] <= 3.41\\nsquared_error = 267525.0\\nsamples = 4\\nvalue = 15745.0'),\n",
              " Text(0.6, 0.43333333333333335, 'X[43] <= 0.5\\nsquared_error = 103355.556\\nsamples = 3\\nvalue = 15493.333'),\n",
              " Text(0.5942028985507246, 0.36666666666666664, 'X[38] <= 0.5\\nsquared_error = 900.0\\nsamples = 2\\nvalue = 15720.0'),\n",
              " Text(0.5884057971014492, 0.3, 'squared_error = 0.0\\nsamples = 1\\nvalue = 15690.0'),\n",
              " Text(0.6, 0.3, 'squared_error = 0.0\\nsamples = 1\\nvalue = 15750.0'),\n",
              " Text(0.6057971014492753, 0.36666666666666664, 'squared_error = 0.0\\nsamples = 1\\nvalue = 15040.0'),\n",
              " Text(0.6115942028985507, 0.43333333333333335, 'squared_error = 0.0\\nsamples = 1\\nvalue = 16500.0'),\n",
              " Text(0.6434782608695652, 0.5, 'X[3] <= 55.6\\nsquared_error = 911692.321\\nsamples = 9\\nvalue = 13846.889'),\n",
              " Text(0.6289855072463768, 0.43333333333333335, 'X[4] <= 2877.0\\nsquared_error = 633347.959\\nsamples = 7\\nvalue = 13530.429'),\n",
              " Text(0.6173913043478261, 0.36666666666666664, 'X[17] <= 0.5\\nsquared_error = 18938.889\\nsamples = 3\\nvalue = 12785.667'),\n",
              " Text(0.6115942028985507, 0.3, 'X[6] <= 3.585\\nsquared_error = 4556.25\\nsamples = 2\\nvalue = 12696.5'),\n",
              " Text(0.6057971014492753, 0.23333333333333334, 'squared_error = 0.0\\nsamples = 1\\nvalue = 12629.0'),\n",
              " Text(0.6173913043478261, 0.23333333333333334, 'squared_error = 0.0\\nsamples = 1\\nvalue = 12764.0'),\n",
              " Text(0.6231884057971014, 0.3, 'squared_error = 0.0\\nsamples = 1\\nvalue = 12964.0'),\n",
              " Text(0.6405797101449275, 0.36666666666666664, 'X[37] <= 0.5\\nsquared_error = 366150.0\\nsamples = 4\\nvalue = 14089.0'),\n",
              " Text(0.6347826086956522, 0.3, 'X[4] <= 2923.5\\nsquared_error = 36100.0\\nsamples = 2\\nvalue = 14679.0'),\n",
              " Text(0.6289855072463768, 0.23333333333333334, 'squared_error = 0.0\\nsamples = 1\\nvalue = 14869.0'),\n",
              " Text(0.6405797101449275, 0.23333333333333334, 'squared_error = 0.0\\nsamples = 1\\nvalue = 14489.0'),\n",
              " Text(0.6463768115942029, 0.3, 'squared_error = 0.0\\nsamples = 2\\nvalue = 13499.0'),\n",
              " Text(0.6579710144927536, 0.43333333333333335, 'X[1] <= 185.6\\nsquared_error = 308580.25\\nsamples = 2\\nvalue = 14954.5'),\n",
              " Text(0.6521739130434783, 0.36666666666666664, 'squared_error = 0.0\\nsamples = 1\\nvalue = 14399.0'),\n",
              " Text(0.663768115942029, 0.36666666666666664, 'squared_error = 0.0\\nsamples = 1\\nvalue = 15510.0'),\n",
              " Text(0.6608695652173913, 0.5666666666666667, 'X[9] <= 76.0\\nsquared_error = 1288225.0\\nsamples = 2\\nvalue = 9913.0'),\n",
              " Text(0.6550724637681159, 0.5, 'squared_error = 0.0\\nsamples = 1\\nvalue = 8778.0'),\n",
              " Text(0.6666666666666666, 0.5, 'squared_error = 0.0\\nsamples = 1\\nvalue = 11048.0'),\n",
              " Text(0.7384057971014493, 0.6333333333333333, 'X[3] <= 55.85\\nsquared_error = 6332199.347\\nsamples = 21\\nvalue = 16627.286'),\n",
              " Text(0.6985507246376812, 0.5666666666666667, 'X[4] <= 3032.5\\nsquared_error = 4111314.75\\nsamples = 8\\nvalue = 18296.0'),\n",
              " Text(0.6869565217391305, 0.5, 'X[4] <= 2996.0\\nsquared_error = 123708.667\\nsamples = 3\\nvalue = 16467.0'),\n",
              " Text(0.6811594202898551, 0.43333333333333335, 'X[1] <= 186.15\\nsquared_error = 20592.25\\nsamples = 2\\nvalue = 16701.5'),\n",
              " Text(0.6753623188405797, 0.36666666666666664, 'squared_error = 0.0\\nsamples = 1\\nvalue = 16558.0'),\n",
              " Text(0.6869565217391305, 0.36666666666666664, 'squared_error = 0.0\\nsamples = 1\\nvalue = 16845.0'),\n",
              " Text(0.6927536231884058, 0.43333333333333335, 'squared_error = 0.0\\nsamples = 1\\nvalue = 15998.0'),\n",
              " Text(0.7101449275362319, 0.5, 'X[9] <= 137.0\\nsquared_error = 3292447.04\\nsamples = 5\\nvalue = 19393.4'),\n",
              " Text(0.7043478260869566, 0.43333333333333335, 'squared_error = 0.0\\nsamples = 1\\nvalue = 22625.0'),\n",
              " Text(0.7159420289855073, 0.43333333333333335, 'X[8] <= 8.85\\nsquared_error = 852046.75\\nsamples = 4\\nvalue = 18585.5'),\n",
              " Text(0.7043478260869566, 0.36666666666666664, 'X[1] <= 179.75\\nsquared_error = 106929.0\\nsamples = 2\\nvalue = 19372.0'),\n",
              " Text(0.6985507246376812, 0.3, 'squared_error = 0.0\\nsamples = 1\\nvalue = 19699.0'),\n",
              " Text(0.7101449275362319, 0.3, 'squared_error = 0.0\\nsamples = 1\\nvalue = 19045.0'),\n",
              " Text(0.7275362318840579, 0.36666666666666664, 'X[1] <= 174.6\\nsquared_error = 360000.0\\nsamples = 2\\nvalue = 17799.0'),\n",
              " Text(0.7217391304347827, 0.3, 'squared_error = 0.0\\nsamples = 1\\nvalue = 17199.0'),\n",
              " Text(0.7333333333333333, 0.3, 'squared_error = 0.0\\nsamples = 1\\nvalue = 18399.0'),\n",
              " Text(0.7782608695652173, 0.5666666666666667, 'X[4] <= 3039.5\\nsquared_error = 4930767.16\\nsamples = 13\\nvalue = 15600.385'),\n",
              " Text(0.7623188405797101, 0.5, 'X[11] <= 23.5\\nsquared_error = 2260412.5\\nsamples = 4\\nvalue = 13560.0'),\n",
              " Text(0.7565217391304347, 0.43333333333333335, 'X[2] <= 67.8\\nsquared_error = 400272.222\\nsamples = 3\\nvalue = 12751.667'),\n",
              " Text(0.7507246376811594, 0.36666666666666664, 'X[4] <= 2973.0\\nsquared_error = 56406.25\\nsamples = 2\\nvalue = 13177.5'),\n",
              " Text(0.744927536231884, 0.3, 'squared_error = 0.0\\nsamples = 1\\nvalue = 12940.0'),\n",
              " Text(0.7565217391304347, 0.3, 'squared_error = 0.0\\nsamples = 1\\nvalue = 13415.0'),\n",
              " Text(0.7623188405797101, 0.36666666666666664, 'squared_error = 0.0\\nsamples = 1\\nvalue = 11900.0'),\n",
              " Text(0.7681159420289855, 0.43333333333333335, 'squared_error = 0.0\\nsamples = 1\\nvalue = 15985.0'),\n",
              " Text(0.7942028985507247, 0.5, 'X[0] <= 106.1\\nsquared_error = 3444939.506\\nsamples = 9\\nvalue = 16507.222'),\n",
              " Text(0.7797101449275362, 0.43333333333333335, 'X[4] <= 3101.0\\nsquared_error = 70225.0\\nsamples = 2\\nvalue = 18685.0'),\n",
              " Text(0.7739130434782608, 0.36666666666666664, 'squared_error = 0.0\\nsamples = 1\\nvalue = 18420.0'),\n",
              " Text(0.7855072463768116, 0.36666666666666664, 'squared_error = 0.0\\nsamples = 1\\nvalue = 18950.0'),\n",
              " Text(0.808695652173913, 0.43333333333333335, 'X[4] <= 3224.5\\nsquared_error = 2666921.429\\nsamples = 7\\nvalue = 15885.0'),\n",
              " Text(0.7971014492753623, 0.36666666666666664, 'X[6] <= 3.58\\nsquared_error = 2059088.889\\nsamples = 3\\nvalue = 15136.667'),\n",
              " Text(0.7913043478260869, 0.3, 'X[9] <= 96.0\\nsquared_error = 275625.0\\nsamples = 2\\nvalue = 16105.0'),\n",
              " Text(0.7855072463768116, 0.23333333333333334, 'squared_error = 0.0\\nsamples = 1\\nvalue = 15580.0'),\n",
              " Text(0.7971014492753623, 0.23333333333333334, 'squared_error = 0.0\\nsamples = 1\\nvalue = 16630.0'),\n",
              " Text(0.8028985507246377, 0.3, 'squared_error = 0.0\\nsamples = 1\\nvalue = 13200.0'),\n",
              " Text(0.8202898550724638, 0.36666666666666664, 'X[38] <= 0.5\\nsquared_error = 2387792.188\\nsamples = 4\\nvalue = 16446.25'),\n",
              " Text(0.8144927536231884, 0.3, 'squared_error = 275625.0\\nsamples = 2\\nvalue = 17425.0'),\n",
              " Text(0.8260869565217391, 0.3, 'X[4] <= 3457.5\\nsquared_error = 2584056.25\\nsamples = 2\\nvalue = 15467.5'),\n",
              " Text(0.8202898550724638, 0.23333333333333334, 'squared_error = 0.0\\nsamples = 1\\nvalue = 13860.0'),\n",
              " Text(0.8318840579710145, 0.23333333333333334, 'squared_error = 0.0\\nsamples = 1\\nvalue = 17075.0'),\n",
              " Text(0.7557971014492754, 0.7, 'X[2] <= 65.85\\nsquared_error = 3231006.25\\nsamples = 2\\nvalue = 22767.5'),\n",
              " Text(0.75, 0.6333333333333333, 'squared_error = 0.0\\nsamples = 1\\nvalue = 20970.0'),\n",
              " Text(0.7615942028985507, 0.6333333333333333, 'squared_error = 0.0\\nsamples = 1\\nvalue = 24565.0'),\n",
              " Text(0.8666666666666667, 0.7666666666666667, 'X[12] <= 21.0\\nsquared_error = 4421771.552\\nsamples = 10\\nvalue = 19423.717'),\n",
              " Text(0.8608695652173913, 0.7, 'squared_error = 0.0\\nsamples = 1\\nvalue = 23875.0'),\n",
              " Text(0.8724637681159421, 0.7, 'X[5] <= 143.5\\nsquared_error = 2466916.166\\nsamples = 9\\nvalue = 18929.13'),\n",
              " Text(0.8608695652173913, 0.6333333333333333, 'X[38] <= 0.5\\nsquared_error = 225254.482\\nsamples = 7\\nvalue = 18122.738'),\n",
              " Text(0.855072463768116, 0.5666666666666667, 'X[14] <= 0.5\\nsquared_error = 139202.86\\nsamples = 6\\nvalue = 17989.861'),\n",
              " Text(0.8434782608695652, 0.5, 'X[1] <= 186.65\\nsquared_error = 49088.889\\nsamples = 3\\nvalue = 18306.667'),\n",
              " Text(0.8376811594202899, 0.43333333333333335, 'X[37] <= 0.5\\nsquared_error = 55225.0\\nsamples = 2\\nvalue = 18385.0'),\n",
              " Text(0.8318840579710145, 0.36666666666666664, 'squared_error = 0.0\\nsamples = 1\\nvalue = 18150.0'),\n",
              " Text(0.8434782608695652, 0.36666666666666664, 'squared_error = 0.0\\nsamples = 1\\nvalue = 18620.0'),\n",
              " Text(0.8492753623188406, 0.43333333333333335, 'squared_error = 0.0\\nsamples = 1\\nvalue = 18150.0'),\n",
              " Text(0.8666666666666667, 0.5, 'X[4] <= 2834.0\\nsquared_error = 28585.381\\nsamples = 3\\nvalue = 17673.056'),\n",
              " Text(0.8608695652173913, 0.43333333333333335, 'squared_error = 0.0\\nsamples = 1\\nvalue = 17450.0'),\n",
              " Text(0.8724637681159421, 0.43333333333333335, 'X[2] <= 69.65\\nsquared_error = 5562.698\\nsamples = 2\\nvalue = 17784.584'),\n",
              " Text(0.8666666666666667, 0.36666666666666664, 'squared_error = 0.0\\nsamples = 1\\nvalue = 17859.167'),\n",
              " Text(0.8782608695652174, 0.36666666666666664, 'squared_error = 0.0\\nsamples = 1\\nvalue = 17710.0'),\n",
              " Text(0.8666666666666667, 0.5666666666666667, 'squared_error = 0.0\\nsamples = 1\\nvalue = 18920.0'),\n",
              " Text(0.8840579710144928, 0.6333333333333333, 'X[11] <= 18.5\\nsquared_error = 71022.25\\nsamples = 2\\nvalue = 21751.5'),\n",
              " Text(0.8782608695652174, 0.5666666666666667, 'squared_error = 0.0\\nsamples = 1\\nvalue = 21485.0'),\n",
              " Text(0.8898550724637682, 0.5666666666666667, 'squared_error = 0.0\\nsamples = 1\\nvalue = 22018.0'),\n",
              " Text(0.9449275362318841, 0.9, 'X[8] <= 9.75\\nsquared_error = 30411047.644\\nsamples = 12\\nvalue = 33638.792'),\n",
              " Text(0.9130434782608695, 0.8333333333333334, 'X[12] <= 17.0\\nsquared_error = 22065689.673\\nsamples = 7\\nvalue = 36955.571'),\n",
              " Text(0.9072463768115943, 0.7666666666666667, 'squared_error = 0.0\\nsamples = 1\\nvalue = 45400.0'),\n",
              " Text(0.9188405797101449, 0.7666666666666667, 'X[44] <= 0.5\\nsquared_error = 11877787.472\\nsamples = 6\\nvalue = 35548.167'),\n",
              " Text(0.9014492753623189, 0.7, 'X[35] <= 0.5\\nsquared_error = 6826914.889\\nsamples = 3\\nvalue = 37799.667'),\n",
              " Text(0.8956521739130435, 0.6333333333333333, 'squared_error = 0.0\\nsamples = 1\\nvalue = 41315.0'),\n",
              " Text(0.9072463768115943, 0.6333333333333333, 'X[7] <= 3.0\\nsquared_error = 972196.0\\nsamples = 2\\nvalue = 36042.0'),\n",
              " Text(0.9014492753623189, 0.5666666666666667, 'squared_error = 0.0\\nsamples = 1\\nvalue = 37028.0'),\n",
              " Text(0.9130434782608695, 0.5666666666666667, 'squared_error = 0.0\\nsamples = 1\\nvalue = 35056.0'),\n",
              " Text(0.936231884057971, 0.7, 'X[2] <= 70.25\\nsquared_error = 6790155.556\\nsamples = 3\\nvalue = 33296.667'),\n",
              " Text(0.9304347826086956, 0.6333333333333333, 'X[20] <= 0.5\\nsquared_error = 555025.0\\nsamples = 2\\nvalue = 31505.0'),\n",
              " Text(0.9246376811594202, 0.5666666666666667, 'squared_error = 0.0\\nsamples = 1\\nvalue = 30760.0'),\n",
              " Text(0.936231884057971, 0.5666666666666667, 'squared_error = 0.0\\nsamples = 1\\nvalue = 32250.0'),\n",
              " Text(0.9420289855072463, 0.6333333333333333, 'squared_error = 0.0\\nsamples = 1\\nvalue = 36880.0'),\n",
              " Text(0.9768115942028985, 0.8333333333333334, 'X[2] <= 71.0\\nsquared_error = 5131094.76\\nsamples = 5\\nvalue = 28995.3'),\n",
              " Text(0.9652173913043478, 0.7666666666666667, 'X[37] <= 0.5\\nsquared_error = 1573219.556\\nsamples = 3\\nvalue = 27325.333'),\n",
              " Text(0.9594202898550724, 0.7, 'X[3] <= 56.8\\nsquared_error = 1296.0\\nsamples = 2\\nvalue = 28212.0'),\n",
              " Text(0.9536231884057971, 0.6333333333333333, 'squared_error = 0.0\\nsamples = 1\\nvalue = 28176.0'),\n",
              " Text(0.9652173913043478, 0.6333333333333333, 'squared_error = 0.0\\nsamples = 1\\nvalue = 28248.0'),\n",
              " Text(0.9710144927536232, 0.7, 'squared_error = 0.0\\nsamples = 1\\nvalue = 25552.0'),\n",
              " Text(0.9884057971014493, 0.7666666666666667, 'X[4] <= 3568.0\\nsquared_error = 9950.062\\nsamples = 2\\nvalue = 31500.25'),\n",
              " Text(0.9826086956521739, 0.7, 'squared_error = 0.0\\nsamples = 1\\nvalue = 31400.5'),\n",
              " Text(0.9942028985507246, 0.7, 'squared_error = 0.0\\nsamples = 1\\nvalue = 31600.0')]"
            ]
          },
          "metadata": {},
          "execution_count": 207
        },
        {
          "output_type": "display_data",
          "data": {
            "text/plain": [
              "<Figure size 432x288 with 1 Axes>"
            ],
            "image/png": "[encoded data removed]"
          },
          "metadata": {
            "needs_background": "light"
          }
        }
      ]
    },
    {
      "cell_type": "code",
      "source": [
        "#Prediccion y score\n",
        "pred_arbol = arbol.predict(x_test1)"
      ],
      "metadata": {
        "id": "ppGdCGqtj7iS"
      },
      "execution_count": 208,
      "outputs": []
    },
    {
      "cell_type": "code",
      "source": [
        "print(pred_arbol.shape)\n",
        "print(y_test1.shape)"
      ],
      "metadata": {
        "colab": {
          "base_uri": "https://localhost:8080/"
        },
        "id": "Lnz7sgK3m9a6",
        "outputId": "3c75de10-cac0-4193-a360-75ee24368dc2"
      },
      "execution_count": 209,
      "outputs": [
        {
          "output_type": "stream",
          "name": "stdout",
          "text": [
            "(41,)\n",
            "(41,)\n"
          ]
        }
      ]
    },
    {
      "cell_type": "code",
      "source": [
        "from sklearn import metrics\n",
        "R2_arbol = metrics.r2_score(y_test1, pred_arbol)\n",
        "MSE_arbol = metrics.mean_squared_error(y_test1, pred_arbol)\n",
        "\n",
        "print(\"R2: \", R2_arbol)\n",
        "print(\"MSE: \", MSE_arbol) # pregeuntar si dio bien, porque es muy grande"
      ],
      "metadata": {
        "colab": {
          "base_uri": "https://localhost:8080/"
        },
        "id": "mpApLoojlS66",
        "outputId": "d1794047-2c3b-405a-c895-93cc19b00175"
      },
      "execution_count": 210,
      "outputs": [
        {
          "output_type": "stream",
          "name": "stdout",
          "text": [
            "R2:  0.8562851035714932\n",
            "MSE:  13475931.146341464\n"
          ]
        }
      ]
    },
    {
      "cell_type": "code",
      "source": [
        "sns.regplot(x = y_test1, y = pred_arbol).set(title = \"y_test vs y_pred\")"
      ],
      "metadata": {
        "colab": {
          "base_uri": "https://localhost:8080/",
          "height": 313
        },
        "id": "oN2wy4WPpcEo",
        "outputId": "f6a31461-a56f-4395-fb02-a5cedf22cee3"
      },
      "execution_count": 211,
      "outputs": [
        {
          "output_type": "execute_result",
          "data": {
            "text/plain": [
              "[Text(0.5, 1.0, 'y_test vs y_pred')]"
            ]
          },
          "metadata": {},
          "execution_count": 211
        },
        {
          "output_type": "display_data",
          "data": {
            "text/plain": [
              "<Figure size 432x288 with 1 Axes>"
            ],
            "image/png": "[encoded data removed]"
          },
          "metadata": {
            "needs_background": "light"
          }
        }
      ]
    }
  ]
}