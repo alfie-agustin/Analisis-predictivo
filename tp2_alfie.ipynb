{
 "cells": [
  {
   "cell_type": "code",
   "execution_count": 1,
   "id": "01ac5f57",
   "metadata": {},
   "outputs": [],
   "source": [
    "### modelos a probar\n",
    "#probar frequency encoding\n",
    "#random forest\n",
    "#catboost\n",
    "#xgboost"
   ]
  },
  {
   "cell_type": "code",
   "execution_count": 2,
   "id": "14d18101",
   "metadata": {},
   "outputs": [],
   "source": [
    "import pandas as pd\n",
    "import matplotlib.pyplot as plt\n",
    "import seaborn as sns\n",
    "import numpy as np\n",
    "import os as os\n",
    "import scipy.stats as stats\n",
    "import numpy as np\n",
    "\n"
   ]
  },
  {
   "cell_type": "code",
   "execution_count": 3,
   "id": "cae97d67",
   "metadata": {},
   "outputs": [],
   "source": [
    "df = pd.read_csv(r'C:\\Users\\agustin\\Desktop\\ITBA\\ANALITICA PREDICTIVA\\origen.csv', delimiter=',', engine= 'python')"
   ]
  },
  {
   "cell_type": "code",
   "execution_count": 4,
   "id": "e4f469a6",
   "metadata": {},
   "outputs": [
    {
     "data": {
      "text/html": [
       "<div>\n",
       "<style scoped>\n",
       "    .dataframe tbody tr th:only-of-type {\n",
       "        vertical-align: middle;\n",
       "    }\n",
       "\n",
       "    .dataframe tbody tr th {\n",
       "        vertical-align: top;\n",
       "    }\n",
       "\n",
       "    .dataframe thead th {\n",
       "        text-align: right;\n",
       "    }\n",
       "</style>\n",
       "<table border=\"1\" class=\"dataframe\">\n",
       "  <thead>\n",
       "    <tr style=\"text-align: right;\">\n",
       "      <th></th>\n",
       "      <th>Id</th>\n",
       "      <th>averageRating</th>\n",
       "      <th>numVotes</th>\n",
       "      <th>titleType</th>\n",
       "      <th>isAdult</th>\n",
       "      <th>startYear</th>\n",
       "      <th>endYear</th>\n",
       "      <th>runtimeMinutes</th>\n",
       "      <th>genres_x</th>\n",
       "      <th>directors</th>\n",
       "      <th>...</th>\n",
       "      <th>overview</th>\n",
       "      <th>popularity</th>\n",
       "      <th>production_companies</th>\n",
       "      <th>production_countries</th>\n",
       "      <th>release_date</th>\n",
       "      <th>revenue</th>\n",
       "      <th>runtime</th>\n",
       "      <th>status</th>\n",
       "      <th>tagline</th>\n",
       "      <th>video</th>\n",
       "    </tr>\n",
       "  </thead>\n",
       "  <tbody>\n",
       "    <tr>\n",
       "      <th>0</th>\n",
       "      <td>0</td>\n",
       "      <td>6.0</td>\n",
       "      <td>7</td>\n",
       "      <td>tvSeries</td>\n",
       "      <td>0.0</td>\n",
       "      <td>2019</td>\n",
       "      <td>0</td>\n",
       "      <td>0</td>\n",
       "      <td>News</td>\n",
       "      <td>nm1635586,nm1230149,nm2085337</td>\n",
       "      <td>...</td>\n",
       "      <td>NaN</td>\n",
       "      <td>NaN</td>\n",
       "      <td>NaN</td>\n",
       "      <td>NaN</td>\n",
       "      <td>NaN</td>\n",
       "      <td>NaN</td>\n",
       "      <td>NaN</td>\n",
       "      <td>NaN</td>\n",
       "      <td>NaN</td>\n",
       "      <td>NaN</td>\n",
       "    </tr>\n",
       "    <tr>\n",
       "      <th>1</th>\n",
       "      <td>1</td>\n",
       "      <td>6.9</td>\n",
       "      <td>42</td>\n",
       "      <td>tvEpisode</td>\n",
       "      <td>0.0</td>\n",
       "      <td>2011</td>\n",
       "      <td>0</td>\n",
       "      <td>46</td>\n",
       "      <td>Comedy,Crime,Drama</td>\n",
       "      <td>nm3398609</td>\n",
       "      <td>...</td>\n",
       "      <td>NaN</td>\n",
       "      <td>NaN</td>\n",
       "      <td>NaN</td>\n",
       "      <td>NaN</td>\n",
       "      <td>NaN</td>\n",
       "      <td>NaN</td>\n",
       "      <td>NaN</td>\n",
       "      <td>NaN</td>\n",
       "      <td>NaN</td>\n",
       "      <td>NaN</td>\n",
       "    </tr>\n",
       "    <tr>\n",
       "      <th>2</th>\n",
       "      <td>2</td>\n",
       "      <td>7.8</td>\n",
       "      <td>8</td>\n",
       "      <td>tvEpisode</td>\n",
       "      <td>0.0</td>\n",
       "      <td>2016</td>\n",
       "      <td>0</td>\n",
       "      <td>45</td>\n",
       "      <td>Documentary,History</td>\n",
       "      <td>0</td>\n",
       "      <td>...</td>\n",
       "      <td>NaN</td>\n",
       "      <td>NaN</td>\n",
       "      <td>NaN</td>\n",
       "      <td>NaN</td>\n",
       "      <td>NaN</td>\n",
       "      <td>NaN</td>\n",
       "      <td>NaN</td>\n",
       "      <td>NaN</td>\n",
       "      <td>NaN</td>\n",
       "      <td>NaN</td>\n",
       "    </tr>\n",
       "    <tr>\n",
       "      <th>3</th>\n",
       "      <td>3</td>\n",
       "      <td>8.2</td>\n",
       "      <td>115</td>\n",
       "      <td>tvEpisode</td>\n",
       "      <td>0.0</td>\n",
       "      <td>1992</td>\n",
       "      <td>0</td>\n",
       "      <td>30</td>\n",
       "      <td>Comedy,Drama</td>\n",
       "      <td>nm0067621</td>\n",
       "      <td>...</td>\n",
       "      <td>NaN</td>\n",
       "      <td>NaN</td>\n",
       "      <td>NaN</td>\n",
       "      <td>NaN</td>\n",
       "      <td>NaN</td>\n",
       "      <td>NaN</td>\n",
       "      <td>NaN</td>\n",
       "      <td>NaN</td>\n",
       "      <td>NaN</td>\n",
       "      <td>NaN</td>\n",
       "    </tr>\n",
       "    <tr>\n",
       "      <th>4</th>\n",
       "      <td>4</td>\n",
       "      <td>5.8</td>\n",
       "      <td>74</td>\n",
       "      <td>movie</td>\n",
       "      <td>0.0</td>\n",
       "      <td>1961</td>\n",
       "      <td>0</td>\n",
       "      <td>103</td>\n",
       "      <td>Western</td>\n",
       "      <td>nm0060430</td>\n",
       "      <td>...</td>\n",
       "      <td>NaN</td>\n",
       "      <td>NaN</td>\n",
       "      <td>NaN</td>\n",
       "      <td>NaN</td>\n",
       "      <td>NaN</td>\n",
       "      <td>NaN</td>\n",
       "      <td>NaN</td>\n",
       "      <td>NaN</td>\n",
       "      <td>NaN</td>\n",
       "      <td>NaN</td>\n",
       "    </tr>\n",
       "    <tr>\n",
       "      <th>...</th>\n",
       "      <td>...</td>\n",
       "      <td>...</td>\n",
       "      <td>...</td>\n",
       "      <td>...</td>\n",
       "      <td>...</td>\n",
       "      <td>...</td>\n",
       "      <td>...</td>\n",
       "      <td>...</td>\n",
       "      <td>...</td>\n",
       "      <td>...</td>\n",
       "      <td>...</td>\n",
       "      <td>...</td>\n",
       "      <td>...</td>\n",
       "      <td>...</td>\n",
       "      <td>...</td>\n",
       "      <td>...</td>\n",
       "      <td>...</td>\n",
       "      <td>...</td>\n",
       "      <td>...</td>\n",
       "      <td>...</td>\n",
       "      <td>...</td>\n",
       "    </tr>\n",
       "    <tr>\n",
       "      <th>977536</th>\n",
       "      <td>977536</td>\n",
       "      <td>6.8</td>\n",
       "      <td>118</td>\n",
       "      <td>movie</td>\n",
       "      <td>0.0</td>\n",
       "      <td>2016</td>\n",
       "      <td>0</td>\n",
       "      <td>87</td>\n",
       "      <td>Documentary</td>\n",
       "      <td>nm0068385</td>\n",
       "      <td>...</td>\n",
       "      <td>NaN</td>\n",
       "      <td>NaN</td>\n",
       "      <td>NaN</td>\n",
       "      <td>NaN</td>\n",
       "      <td>NaN</td>\n",
       "      <td>NaN</td>\n",
       "      <td>NaN</td>\n",
       "      <td>NaN</td>\n",
       "      <td>NaN</td>\n",
       "      <td>NaN</td>\n",
       "    </tr>\n",
       "    <tr>\n",
       "      <th>977537</th>\n",
       "      <td>977537</td>\n",
       "      <td>7.3</td>\n",
       "      <td>91</td>\n",
       "      <td>movie</td>\n",
       "      <td>0.0</td>\n",
       "      <td>1994</td>\n",
       "      <td>0</td>\n",
       "      <td>115</td>\n",
       "      <td>Documentary</td>\n",
       "      <td>nm0007366,nm0062743</td>\n",
       "      <td>...</td>\n",
       "      <td>Brother Minister reveals the mystery surroundi...</td>\n",
       "      <td>0.036800</td>\n",
       "      <td>[]</td>\n",
       "      <td>[]</td>\n",
       "      <td>1995-03-01</td>\n",
       "      <td>0.0</td>\n",
       "      <td>115.0</td>\n",
       "      <td>Released</td>\n",
       "      <td>NaN</td>\n",
       "      <td>False</td>\n",
       "    </tr>\n",
       "    <tr>\n",
       "      <th>977538</th>\n",
       "      <td>977538</td>\n",
       "      <td>8.3</td>\n",
       "      <td>9491</td>\n",
       "      <td>movie</td>\n",
       "      <td>0.0</td>\n",
       "      <td>1995</td>\n",
       "      <td>0</td>\n",
       "      <td>145</td>\n",
       "      <td>Action,Crime,Drama</td>\n",
       "      <td>nm0471452</td>\n",
       "      <td>...</td>\n",
       "      <td>Auto rickshaw driver Manickam avoids violence ...</td>\n",
       "      <td>0.704162</td>\n",
       "      <td>[{'name': 'Sathya Movies', 'id': 16434}]</td>\n",
       "      <td>[{'iso_3166_1': 'IN', 'name': 'India'}]</td>\n",
       "      <td>1995-01-15</td>\n",
       "      <td>15000000.0</td>\n",
       "      <td>145.0</td>\n",
       "      <td>Released</td>\n",
       "      <td>NaN</td>\n",
       "      <td>False</td>\n",
       "    </tr>\n",
       "    <tr>\n",
       "      <th>977539</th>\n",
       "      <td>977539</td>\n",
       "      <td>7.0</td>\n",
       "      <td>811</td>\n",
       "      <td>short</td>\n",
       "      <td>0.0</td>\n",
       "      <td>1943</td>\n",
       "      <td>0</td>\n",
       "      <td>8</td>\n",
       "      <td>Animation,Comedy,Family</td>\n",
       "      <td>nm0293989</td>\n",
       "      <td>...</td>\n",
       "      <td>NaN</td>\n",
       "      <td>NaN</td>\n",
       "      <td>NaN</td>\n",
       "      <td>NaN</td>\n",
       "      <td>NaN</td>\n",
       "      <td>NaN</td>\n",
       "      <td>NaN</td>\n",
       "      <td>NaN</td>\n",
       "      <td>NaN</td>\n",
       "      <td>NaN</td>\n",
       "    </tr>\n",
       "    <tr>\n",
       "      <th>977540</th>\n",
       "      <td>977540</td>\n",
       "      <td>9.0</td>\n",
       "      <td>488</td>\n",
       "      <td>tvEpisode</td>\n",
       "      <td>0.0</td>\n",
       "      <td>1987</td>\n",
       "      <td>0</td>\n",
       "      <td>30</td>\n",
       "      <td>Comedy,Drama</td>\n",
       "      <td>nm0400958</td>\n",
       "      <td>...</td>\n",
       "      <td>NaN</td>\n",
       "      <td>NaN</td>\n",
       "      <td>NaN</td>\n",
       "      <td>NaN</td>\n",
       "      <td>NaN</td>\n",
       "      <td>NaN</td>\n",
       "      <td>NaN</td>\n",
       "      <td>NaN</td>\n",
       "      <td>NaN</td>\n",
       "      <td>NaN</td>\n",
       "    </tr>\n",
       "  </tbody>\n",
       "</table>\n",
       "<p>977541 rows × 31 columns</p>\n",
       "</div>"
      ],
      "text/plain": [
       "            Id  averageRating  numVotes  titleType  isAdult  startYear  \\\n",
       "0            0            6.0         7   tvSeries      0.0       2019   \n",
       "1            1            6.9        42  tvEpisode      0.0       2011   \n",
       "2            2            7.8         8  tvEpisode      0.0       2016   \n",
       "3            3            8.2       115  tvEpisode      0.0       1992   \n",
       "4            4            5.8        74      movie      0.0       1961   \n",
       "...        ...            ...       ...        ...      ...        ...   \n",
       "977536  977536            6.8       118      movie      0.0       2016   \n",
       "977537  977537            7.3        91      movie      0.0       1994   \n",
       "977538  977538            8.3      9491      movie      0.0       1995   \n",
       "977539  977539            7.0       811      short      0.0       1943   \n",
       "977540  977540            9.0       488  tvEpisode      0.0       1987   \n",
       "\n",
       "        endYear  runtimeMinutes                 genres_x  \\\n",
       "0             0               0                     News   \n",
       "1             0              46       Comedy,Crime,Drama   \n",
       "2             0              45      Documentary,History   \n",
       "3             0              30             Comedy,Drama   \n",
       "4             0             103                  Western   \n",
       "...         ...             ...                      ...   \n",
       "977536        0              87              Documentary   \n",
       "977537        0             115              Documentary   \n",
       "977538        0             145       Action,Crime,Drama   \n",
       "977539        0               8  Animation,Comedy,Family   \n",
       "977540        0              30             Comedy,Drama   \n",
       "\n",
       "                            directors  ...  \\\n",
       "0       nm1635586,nm1230149,nm2085337  ...   \n",
       "1                           nm3398609  ...   \n",
       "2                                   0  ...   \n",
       "3                           nm0067621  ...   \n",
       "4                           nm0060430  ...   \n",
       "...                               ...  ...   \n",
       "977536                      nm0068385  ...   \n",
       "977537            nm0007366,nm0062743  ...   \n",
       "977538                      nm0471452  ...   \n",
       "977539                      nm0293989  ...   \n",
       "977540                      nm0400958  ...   \n",
       "\n",
       "                                                 overview  popularity  \\\n",
       "0                                                     NaN         NaN   \n",
       "1                                                     NaN         NaN   \n",
       "2                                                     NaN         NaN   \n",
       "3                                                     NaN         NaN   \n",
       "4                                                     NaN         NaN   \n",
       "...                                                   ...         ...   \n",
       "977536                                                NaN         NaN   \n",
       "977537  Brother Minister reveals the mystery surroundi...    0.036800   \n",
       "977538  Auto rickshaw driver Manickam avoids violence ...    0.704162   \n",
       "977539                                                NaN         NaN   \n",
       "977540                                                NaN         NaN   \n",
       "\n",
       "                            production_companies  \\\n",
       "0                                            NaN   \n",
       "1                                            NaN   \n",
       "2                                            NaN   \n",
       "3                                            NaN   \n",
       "4                                            NaN   \n",
       "...                                          ...   \n",
       "977536                                       NaN   \n",
       "977537                                        []   \n",
       "977538  [{'name': 'Sathya Movies', 'id': 16434}]   \n",
       "977539                                       NaN   \n",
       "977540                                       NaN   \n",
       "\n",
       "                           production_countries release_date     revenue  \\\n",
       "0                                           NaN          NaN         NaN   \n",
       "1                                           NaN          NaN         NaN   \n",
       "2                                           NaN          NaN         NaN   \n",
       "3                                           NaN          NaN         NaN   \n",
       "4                                           NaN          NaN         NaN   \n",
       "...                                         ...          ...         ...   \n",
       "977536                                      NaN          NaN         NaN   \n",
       "977537                                       []   1995-03-01         0.0   \n",
       "977538  [{'iso_3166_1': 'IN', 'name': 'India'}]   1995-01-15  15000000.0   \n",
       "977539                                      NaN          NaN         NaN   \n",
       "977540                                      NaN          NaN         NaN   \n",
       "\n",
       "        runtime    status  tagline  video  \n",
       "0           NaN       NaN      NaN    NaN  \n",
       "1           NaN       NaN      NaN    NaN  \n",
       "2           NaN       NaN      NaN    NaN  \n",
       "3           NaN       NaN      NaN    NaN  \n",
       "4           NaN       NaN      NaN    NaN  \n",
       "...         ...       ...      ...    ...  \n",
       "977536      NaN       NaN      NaN    NaN  \n",
       "977537    115.0  Released      NaN  False  \n",
       "977538    145.0  Released      NaN  False  \n",
       "977539      NaN       NaN      NaN    NaN  \n",
       "977540      NaN       NaN      NaN    NaN  \n",
       "\n",
       "[977541 rows x 31 columns]"
      ]
     },
     "execution_count": 4,
     "metadata": {},
     "output_type": "execute_result"
    }
   ],
   "source": [
    "df"
   ]
  },
  {
   "cell_type": "code",
   "execution_count": 5,
   "id": "005dfbfc",
   "metadata": {},
   "outputs": [
    {
     "data": {
      "text/plain": [
       "Id                        int64\n",
       "averageRating           float64\n",
       "numVotes                  int64\n",
       "titleType                object\n",
       "isAdult                 float64\n",
       "startYear                 int64\n",
       "endYear                   int64\n",
       "runtimeMinutes            int64\n",
       "genres_x                 object\n",
       "directors                object\n",
       "writers                  object\n",
       "seasonNumber            float64\n",
       "episodeNumber           float64\n",
       "ordering                float64\n",
       "language                 object\n",
       "attributes               object\n",
       "isOriginalTitle         float64\n",
       "adult                    object\n",
       "budget                  float64\n",
       "genres_y                 object\n",
       "original_language        object\n",
       "overview                 object\n",
       "popularity              float64\n",
       "production_companies     object\n",
       "production_countries     object\n",
       "release_date             object\n",
       "revenue                 float64\n",
       "runtime                 float64\n",
       "status                   object\n",
       "tagline                  object\n",
       "video                    object\n",
       "dtype: object"
      ]
     },
     "execution_count": 5,
     "metadata": {},
     "output_type": "execute_result"
    }
   ],
   "source": [
    "df.dtypes"
   ]
  },
  {
   "cell_type": "code",
   "execution_count": 67,
   "id": "41c9ea5e",
   "metadata": {},
   "outputs": [],
   "source": [
    "#ver esto de aca abajo bien y ver q tengo q limpiar"
   ]
  },
  {
   "cell_type": "code",
   "execution_count": 6,
   "id": "d44df0ef",
   "metadata": {},
   "outputs": [
    {
     "name": "stdout",
     "output_type": "stream",
     "text": [
      "Id\n",
      "No hay valores nulos\n",
      "valor minimos  0\n",
      "valor maximos  977540\n",
      "En la variable el primer cuartil es  244385.0 , el tercer cuartil es  733155.0  y la mediana es  488770.0\n",
      "\n",
      "\n",
      "averageRating\n",
      "No hay valores nulos\n",
      "valor minimos  1.0\n",
      "valor maximos  10.0\n",
      "En la variable el primer cuartil es  6.1 , el tercer cuartil es  7.9  y la mediana es  7.1\n",
      "\n",
      "\n",
      "numVotes\n",
      "No hay valores nulos\n",
      "valor minimos  5\n",
      "valor maximos  2425542\n",
      "En la variable el primer cuartil es  9.0 , el tercer cuartil es  92.0  y la mediana es  22.0\n",
      "\n",
      "\n",
      "No hay valores nulos\n",
      "tvSeries\n",
      "tvEpisode\n",
      "movie\n",
      "video\n",
      "tvMiniSeries\n",
      "short\n",
      "tvSpecial\n",
      "tvMovie\n",
      "videoGame\n",
      "tvShort\n",
      "\n",
      "\n",
      "isAdult\n",
      "No hay valores nulos\n",
      "valor minimos  0.0\n",
      "valor maximos  2020.0\n",
      "En la variable el primer cuartil es  0.0 , el tercer cuartil es  0.0  y la mediana es  0.0\n",
      "\n",
      "\n",
      "startYear\n",
      "No hay valores nulos\n",
      "valor minimos  0\n",
      "valor maximos  2021\n",
      "En la variable el primer cuartil es  1992.0 , el tercer cuartil es  2015.0  y la mediana es  2008.0\n",
      "\n",
      "\n",
      "endYear\n",
      "No hay valores nulos\n",
      "valor minimos  0\n",
      "valor maximos  2022\n",
      "En la variable el primer cuartil es  0.0 , el tercer cuartil es  0.0  y la mediana es  0.0\n",
      "\n",
      "\n",
      "runtimeMinutes\n",
      "No hay valores nulos\n",
      "valor minimos  -29745\n",
      "valor maximos  14400\n",
      "En la variable el primer cuartil es  0.0 , el tercer cuartil es  73.0  y la mediana es  27.0\n",
      "\n",
      "\n",
      "en la variables hay  1 valores nulos\n",
      "muchos registros en la varibale  genres_x analizar detalladamente si vale la pena sumarlo la modelo\n",
      "\n",
      "\n",
      "No hay valores nulos\n",
      "muchos registros en la varibale  directors analizar detalladamente si vale la pena sumarlo la modelo\n",
      "\n",
      "\n",
      "No hay valores nulos\n",
      "muchos registros en la varibale  writers analizar detalladamente si vale la pena sumarlo la modelo\n",
      "\n",
      "\n",
      "seasonNumber\n",
      "en la variables hay  539408 valores nulos\n",
      "valor minimos  0.0\n",
      "valor maximos  1996.0\n",
      "En la variable el primer cuartil es  nan , el tercer cuartil es  nan  y la mediana es  nan\n",
      "\n",
      "\n",
      "episodeNumber\n",
      "en la variables hay  539408 valores nulos\n",
      "valor minimos  0.0\n",
      "valor maximos  15762.0\n",
      "En la variable el primer cuartil es  nan , el tercer cuartil es  nan  y la mediana es  nan\n",
      "\n",
      "\n",
      "ordering\n",
      "en la variables hay  606699 valores nulos\n",
      "valor minimos  1.0\n",
      "valor maximos  162.0\n",
      "En la variable el primer cuartil es  nan , el tercer cuartil es  nan  y la mediana es  nan\n",
      "\n",
      "\n",
      "en la variables hay  606699 valores nulos\n",
      "0\n",
      "nan\n",
      "en\n",
      "es\n",
      "yi\n",
      "haw\n",
      "fr\n",
      "myv\n",
      "\n",
      "\n",
      "en la variables hay  606699 valores nulos\n",
      "muchos registros en la varibale  attributes analizar detalladamente si vale la pena sumarlo la modelo\n",
      "\n",
      "\n",
      "isOriginalTitle\n",
      "en la variables hay  606699 valores nulos\n",
      "valor minimos  0.0\n",
      "valor maximos  1.0\n",
      "En la variable el primer cuartil es  nan , el tercer cuartil es  nan  y la mediana es  nan\n",
      "\n",
      "\n",
      "en la variables hay  930236 valores nulos\n",
      "nan\n",
      "False\n",
      "True\n",
      "\n",
      "\n",
      "budget\n",
      "en la variables hay  930236 valores nulos\n",
      "valor minimos  0.0\n",
      "valor maximos  380000000.0\n",
      "En la variable el primer cuartil es  nan , el tercer cuartil es  nan  y la mediana es  nan\n",
      "\n",
      "\n",
      "en la variables hay  930236 valores nulos\n",
      "muchos registros en la varibale  genres_y analizar detalladamente si vale la pena sumarlo la modelo\n",
      "\n",
      "\n",
      "en la variables hay  930247 valores nulos\n",
      "muchos registros en la varibale  original_language analizar detalladamente si vale la pena sumarlo la modelo\n",
      "\n",
      "\n",
      "en la variables hay  931029 valores nulos\n",
      "muchos registros en la varibale  overview analizar detalladamente si vale la pena sumarlo la modelo\n",
      "\n",
      "\n",
      "popularity\n",
      "en la variables hay  930239 valores nulos\n",
      "valor minimos  0.0\n",
      "valor maximos  547.4882980000001\n",
      "En la variable el primer cuartil es  nan , el tercer cuartil es  nan  y la mediana es  nan\n",
      "\n",
      "\n",
      "en la variables hay  930239 valores nulos\n",
      "muchos registros en la varibale  production_companies analizar detalladamente si vale la pena sumarlo la modelo\n",
      "\n",
      "\n",
      "en la variables hay  930239 valores nulos\n",
      "muchos registros en la varibale  production_countries analizar detalladamente si vale la pena sumarlo la modelo\n",
      "\n",
      "\n",
      "en la variables hay  930307 valores nulos\n",
      "muchos registros en la varibale  release_date analizar detalladamente si vale la pena sumarlo la modelo\n",
      "\n",
      "\n",
      "revenue\n",
      "en la variables hay  930239 valores nulos\n",
      "valor minimos  0.0\n",
      "valor maximos  2787965087.0\n",
      "En la variable el primer cuartil es  nan , el tercer cuartil es  nan  y la mediana es  nan\n",
      "\n",
      "\n",
      "runtime\n",
      "en la variables hay  930445 valores nulos\n",
      "valor minimos  0.0\n",
      "valor maximos  1140.0\n",
      "En la variable el primer cuartil es  nan , el tercer cuartil es  nan  y la mediana es  nan\n",
      "\n",
      "\n",
      "en la variables hay  930312 valores nulos\n",
      "nan\n",
      "Released\n",
      "Planned\n",
      "Rumored\n",
      "Post Production\n",
      "In Production\n",
      "\n",
      "\n",
      "en la variables hay  953733 valores nulos\n",
      "muchos registros en la varibale  tagline analizar detalladamente si vale la pena sumarlo la modelo\n",
      "\n",
      "\n",
      "en la variables hay  930239 valores nulos\n",
      "nan\n",
      "False\n",
      "True\n",
      "\n",
      "\n"
     ]
    }
   ],
   "source": [
    "df.dtypes\n",
    "len(df.dtypes)\n",
    "c=0\n",
    "for i in range(len(df.dtypes)):\n",
    "  if df.dtypes.iloc[i] == 'int64':\n",
    "    print(df.columns[i])\n",
    "    if  df[df.columns[i]].isnull().values.any() == True:\n",
    "      print(\"en la variables hay \", df[df.columns[i]].isnull().sum(), \"valores nulos\")\n",
    "      print(\"valor minimos \",df[df.columns[i]].min())\n",
    "      print(\"valor maximos \", df[df.columns[i]].max())\n",
    "      print(\"En la variable el primer cuartil es \",np.percentile(df[df.columns[i]], 25),\", el tercer cuartil es \",np.percentile(df[df.columns[i]], 75),\" y la mediana es \", np.median(df[df.columns[i]]))\n",
    "      print()\n",
    "      print()\n",
    "\n",
    "    else:\n",
    "      print(\"No hay valores nulos\")  \n",
    "      print(\"valor minimos \",df[df.columns[i]].min())\n",
    "      print(\"valor maximos \", df[df.columns[i]].max())\n",
    "      print(\"En la variable el primer cuartil es \",np.percentile(df[df.columns[i]], 25),\", el tercer cuartil es \",np.percentile(df[df.columns[i]], 75),\" y la mediana es \", np.median(df[df.columns[i]]))\n",
    "      print()\n",
    "      print()\n",
    "\n",
    "  elif df.dtypes.iloc[i] == 'float64':\n",
    "    print(df.columns[i])\n",
    "    if  df[df.columns[i]].isnull().values.any() == True:\n",
    "      print(\"en la variables hay \", df[df.columns[i]].isnull().sum(), \"valores nulos\")\n",
    "      print(\"valor minimos \",df[df.columns[i]].min())\n",
    "      print(\"valor maximos \", df[df.columns[i]].max())\n",
    "      print(\"En la variable el primer cuartil es \",np.percentile(df[df.columns[i]], 25),\", el tercer cuartil es \",np.percentile(df[df.columns[i]], 75),\" y la mediana es \", np.median(df[df.columns[i]]))\n",
    "      print()\n",
    "      print()\n",
    "\n",
    "    else:\n",
    "      print(\"No hay valores nulos\")  \n",
    "      print(\"valor minimos \",df[df.columns[i]].min())\n",
    "      print(\"valor maximos \", df[df.columns[i]].max())\n",
    "      print(\"En la variable el primer cuartil es \",np.percentile(df[df.columns[i]], 25),\", el tercer cuartil es \",np.percentile(df[df.columns[i]], 75),\" y la mediana es \", np.median(df[df.columns[i]]))\n",
    "      print()\n",
    "      print()\n",
    "  else:\n",
    "    if  df[df.columns[i]].isnull().values.any() == True:\n",
    "      print(\"en la variables hay \", df[df.columns[i]].isnull().sum(), \"valores nulos\")      \n",
    "      x = df[df.columns[i]].unique()\n",
    "      if len(x)<30:\n",
    "        for i in range(len(x)):\n",
    "          print(x[i]) \n",
    "      else:\n",
    "        print('muchos registros en la varibale ', df.columns[i], 'analizar detalladamente si vale la pena sumarlo la modelo')\n",
    "    else:\n",
    "      print(\"No hay valores nulos\")\n",
    "      x = df[df.columns[i]].unique()\n",
    "      if len(x)<30:\n",
    "        for i in range(len(x)):\n",
    "          print(x[i]) \n",
    "      else:\n",
    "        print('muchos registros en la varibale ', df.columns[i], 'analizar detalladamente si vale la pena sumarlo la modelo')\n",
    "    print()\n",
    "    print()\n"
   ]
  },
  {
   "cell_type": "code",
   "execution_count": 7,
   "id": "707968ba",
   "metadata": {},
   "outputs": [],
   "source": [
    "#Adecuacion de varibales para un primer modelo, se busca que no tengan mucho valores faltantes"
   ]
  },
  {
   "cell_type": "code",
   "execution_count": 8,
   "id": "afe8af23",
   "metadata": {},
   "outputs": [],
   "source": [
    "df[['genero1','genero2_']] = df.genres_x.apply(lambda x: pd.Series(str(x).split(\",\", 1))) \n"
   ]
  },
  {
   "cell_type": "code",
   "execution_count": 9,
   "id": "6f8e5e5d",
   "metadata": {},
   "outputs": [],
   "source": [
    "df[['genero2','genero3']] = df.genero2_.apply(lambda x: pd.Series(str(x).split(\",\", 1))) \n"
   ]
  },
  {
   "cell_type": "code",
   "execution_count": 10,
   "id": "4b67c8ba",
   "metadata": {},
   "outputs": [],
   "source": [
    "df.release_date\n",
    "df[['releaseYear', 'releaseSprecific  ']] = df.release_date.apply(lambda x: pd.Series(str(x).split(\"-\", 1))) "
   ]
  },
  {
   "cell_type": "code",
   "execution_count": 11,
   "id": "4ac5e69e",
   "metadata": {},
   "outputs": [],
   "source": [
    "df.status.unique()\n",
    "#encoder propio\n",
    "df.loc[df['status'] == \"nan\", 'status'] = '0'\n",
    "df.loc[df['status'] == \"Released\", 'status'] = '1'\n",
    "df.loc[df['status'] == \"Planned\", 'status'] = '2'\n",
    "df.loc[df['status'] == \"Rumored\", 'status'] = '3'\n",
    "df.loc[df['status'] == \"Post Production\", 'status'] = '4'\n",
    "df.loc[df['status'] == \"In Production\", 'status'] = '5'\n"
   ]
  },
  {
   "cell_type": "code",
   "execution_count": 12,
   "id": "77ed041d",
   "metadata": {},
   "outputs": [],
   "source": [
    "#encoder de la variable adult\n",
    "df.loc[df['adult'] == \"nan\", 'adult'] = '0'\n",
    "df.loc[df['adult'] == \"False\", 'status'] = '0'\n",
    "df.loc[df['status'] == \"True\", 'status'] = '1'"
   ]
  },
  {
   "cell_type": "code",
   "execution_count": 13,
   "id": "ab2d4b36",
   "metadata": {},
   "outputs": [
    {
     "data": {
      "text/plain": [
       "0.9516081678415534"
      ]
     },
     "execution_count": 13,
     "metadata": {},
     "output_type": "execute_result"
    }
   ],
   "source": [
    "df.budget.isna().sum()/ len(df.budget) #demasiado valores, flatantes no se usa en la base, a priori no da demasiada informacion"
   ]
  },
  {
   "cell_type": "code",
   "execution_count": 14,
   "id": "28047b59",
   "metadata": {},
   "outputs": [
    {
     "data": {
      "text/plain": [
       "0.9516112367665397"
      ]
     },
     "execution_count": 14,
     "metadata": {},
     "output_type": "execute_result"
    }
   ],
   "source": [
    "df.revenue.isna().sum()/ len(df.revenue) #demasiado valores, flatantes no se usa en la base, a priori no da demasiada informacion"
   ]
  },
  {
   "cell_type": "code",
   "execution_count": 15,
   "id": "771f305a",
   "metadata": {},
   "outputs": [
    {
     "data": {
      "text/plain": [
       "array([nan, 'Watch out for THE PROWLER', 'Every dog has his day.', ...,\n",
       "       'A rebellious young man. With his own version of the future. And his own fantasy of love.',\n",
       "       'A youthful, impulsive sexual encounter opens the door to a dark comedy about the complexities of honesty.',\n",
       "       'His Great New 1941 Thrill Drama!'], dtype=object)"
      ]
     },
     "execution_count": 15,
     "metadata": {},
     "output_type": "execute_result"
    }
   ],
   "source": [
    "df.tagline.unique() # no creo que en una primera instancia ayude mucho al modelo\n"
   ]
  },
  {
   "cell_type": "code",
   "execution_count": 16,
   "id": "c91f61df",
   "metadata": {},
   "outputs": [],
   "source": [
    "df[['director_principal','restodirectores']] = df.directors.apply(lambda x: pd.Series(str(x).split(\",\", 1))) "
   ]
  },
  {
   "cell_type": "code",
   "execution_count": 17,
   "id": "d3706aa2",
   "metadata": {},
   "outputs": [
    {
     "data": {
      "text/html": [
       "<div>\n",
       "<style scoped>\n",
       "    .dataframe tbody tr th:only-of-type {\n",
       "        vertical-align: middle;\n",
       "    }\n",
       "\n",
       "    .dataframe tbody tr th {\n",
       "        vertical-align: top;\n",
       "    }\n",
       "\n",
       "    .dataframe thead th {\n",
       "        text-align: right;\n",
       "    }\n",
       "</style>\n",
       "<table border=\"1\" class=\"dataframe\">\n",
       "  <thead>\n",
       "    <tr style=\"text-align: right;\">\n",
       "      <th></th>\n",
       "      <th>count</th>\n",
       "    </tr>\n",
       "    <tr>\n",
       "      <th>director_principal</th>\n",
       "      <th></th>\n",
       "    </tr>\n",
       "  </thead>\n",
       "  <tbody>\n",
       "    <tr>\n",
       "      <th>0</th>\n",
       "      <td>147406</td>\n",
       "    </tr>\n",
       "    <tr>\n",
       "      <th>nm0000005</th>\n",
       "      <td>71</td>\n",
       "    </tr>\n",
       "    <tr>\n",
       "      <th>nm0000008</th>\n",
       "      <td>2</td>\n",
       "    </tr>\n",
       "    <tr>\n",
       "      <th>nm0000009</th>\n",
       "      <td>1</td>\n",
       "    </tr>\n",
       "    <tr>\n",
       "      <th>nm0000010</th>\n",
       "      <td>1</td>\n",
       "    </tr>\n",
       "    <tr>\n",
       "      <th>...</th>\n",
       "      <td>...</td>\n",
       "    </tr>\n",
       "    <tr>\n",
       "      <th>nm9992763</th>\n",
       "      <td>1</td>\n",
       "    </tr>\n",
       "    <tr>\n",
       "      <th>nm9992852</th>\n",
       "      <td>1</td>\n",
       "    </tr>\n",
       "    <tr>\n",
       "      <th>nm9992905</th>\n",
       "      <td>1</td>\n",
       "    </tr>\n",
       "    <tr>\n",
       "      <th>nm9993123</th>\n",
       "      <td>1</td>\n",
       "    </tr>\n",
       "    <tr>\n",
       "      <th>nm9993154</th>\n",
       "      <td>1</td>\n",
       "    </tr>\n",
       "  </tbody>\n",
       "</table>\n",
       "<p>183368 rows × 1 columns</p>\n",
       "</div>"
      ],
      "text/plain": [
       "                     count\n",
       "director_principal        \n",
       "0                   147406\n",
       "nm0000005               71\n",
       "nm0000008                2\n",
       "nm0000009                1\n",
       "nm0000010                1\n",
       "...                    ...\n",
       "nm9992763                1\n",
       "nm9992852                1\n",
       "nm9992905                1\n",
       "nm9993123                1\n",
       "nm9993154                1\n",
       "\n",
       "[183368 rows x 1 columns]"
      ]
     },
     "execution_count": 17,
     "metadata": {},
     "output_type": "execute_result"
    }
   ],
   "source": [
    "df.groupby('director_principal', sort=True)['director_principal'].agg(['count'])"
   ]
  },
  {
   "cell_type": "code",
   "execution_count": 18,
   "id": "2632978d",
   "metadata": {},
   "outputs": [],
   "source": [
    "df[['escritor_principal','restoescritores']] = df.writers.apply(lambda x: pd.Series(str(x).split(\",\", 1))) "
   ]
  },
  {
   "cell_type": "code",
   "execution_count": 19,
   "id": "953f7251",
   "metadata": {},
   "outputs": [
    {
     "data": {
      "text/html": [
       "<div>\n",
       "<style scoped>\n",
       "    .dataframe tbody tr th:only-of-type {\n",
       "        vertical-align: middle;\n",
       "    }\n",
       "\n",
       "    .dataframe tbody tr th {\n",
       "        vertical-align: top;\n",
       "    }\n",
       "\n",
       "    .dataframe thead th {\n",
       "        text-align: right;\n",
       "    }\n",
       "</style>\n",
       "<table border=\"1\" class=\"dataframe\">\n",
       "  <thead>\n",
       "    <tr style=\"text-align: right;\">\n",
       "      <th></th>\n",
       "      <th>count</th>\n",
       "    </tr>\n",
       "    <tr>\n",
       "      <th>escritor_principal</th>\n",
       "      <th></th>\n",
       "    </tr>\n",
       "  </thead>\n",
       "  <tbody>\n",
       "    <tr>\n",
       "      <th>0</th>\n",
       "      <td>224376</td>\n",
       "    </tr>\n",
       "    <tr>\n",
       "      <th>nm0000005</th>\n",
       "      <td>66</td>\n",
       "    </tr>\n",
       "    <tr>\n",
       "      <th>nm0000018</th>\n",
       "      <td>2</td>\n",
       "    </tr>\n",
       "    <tr>\n",
       "      <th>nm0000019</th>\n",
       "      <td>25</td>\n",
       "    </tr>\n",
       "    <tr>\n",
       "      <th>nm0000024</th>\n",
       "      <td>1</td>\n",
       "    </tr>\n",
       "    <tr>\n",
       "      <th>...</th>\n",
       "      <td>...</td>\n",
       "    </tr>\n",
       "    <tr>\n",
       "      <th>nm9992556</th>\n",
       "      <td>1</td>\n",
       "    </tr>\n",
       "    <tr>\n",
       "      <th>nm9993124</th>\n",
       "      <td>1</td>\n",
       "    </tr>\n",
       "    <tr>\n",
       "      <th>nm9993145</th>\n",
       "      <td>2</td>\n",
       "    </tr>\n",
       "    <tr>\n",
       "      <th>nm9993311</th>\n",
       "      <td>1</td>\n",
       "    </tr>\n",
       "    <tr>\n",
       "      <th>nm9993713</th>\n",
       "      <td>7</td>\n",
       "    </tr>\n",
       "  </tbody>\n",
       "</table>\n",
       "<p>201329 rows × 1 columns</p>\n",
       "</div>"
      ],
      "text/plain": [
       "                     count\n",
       "escritor_principal        \n",
       "0                   224376\n",
       "nm0000005               66\n",
       "nm0000018                2\n",
       "nm0000019               25\n",
       "nm0000024                1\n",
       "...                    ...\n",
       "nm9992556                1\n",
       "nm9993124                1\n",
       "nm9993145                2\n",
       "nm9993311                1\n",
       "nm9993713                7\n",
       "\n",
       "[201329 rows x 1 columns]"
      ]
     },
     "execution_count": 19,
     "metadata": {},
     "output_type": "execute_result"
    }
   ],
   "source": [
    "df.groupby('escritor_principal', sort=True)['escritor_principal'].agg(['count'])"
   ]
  },
  {
   "cell_type": "code",
   "execution_count": 20,
   "id": "5a7fb3b4",
   "metadata": {},
   "outputs": [
    {
     "data": {
      "text/html": [
       "<div>\n",
       "<style scoped>\n",
       "    .dataframe tbody tr th:only-of-type {\n",
       "        vertical-align: middle;\n",
       "    }\n",
       "\n",
       "    .dataframe tbody tr th {\n",
       "        vertical-align: top;\n",
       "    }\n",
       "\n",
       "    .dataframe thead th {\n",
       "        text-align: right;\n",
       "    }\n",
       "</style>\n",
       "<table border=\"1\" class=\"dataframe\">\n",
       "  <thead>\n",
       "    <tr style=\"text-align: right;\">\n",
       "      <th></th>\n",
       "      <th>averageRating</th>\n",
       "      <th>directors</th>\n",
       "      <th>director_principal</th>\n",
       "      <th>writers</th>\n",
       "      <th>escritor_principal</th>\n",
       "    </tr>\n",
       "  </thead>\n",
       "  <tbody>\n",
       "    <tr>\n",
       "      <th>0</th>\n",
       "      <td>6.0</td>\n",
       "      <td>nm1635586,nm1230149,nm2085337</td>\n",
       "      <td>nm1635586</td>\n",
       "      <td>0</td>\n",
       "      <td>0</td>\n",
       "    </tr>\n",
       "    <tr>\n",
       "      <th>1</th>\n",
       "      <td>6.9</td>\n",
       "      <td>nm3398609</td>\n",
       "      <td>nm3398609</td>\n",
       "      <td>nm0449959</td>\n",
       "      <td>nm0449959</td>\n",
       "    </tr>\n",
       "    <tr>\n",
       "      <th>2</th>\n",
       "      <td>7.8</td>\n",
       "      <td>0</td>\n",
       "      <td>0</td>\n",
       "      <td>0</td>\n",
       "      <td>0</td>\n",
       "    </tr>\n",
       "    <tr>\n",
       "      <th>3</th>\n",
       "      <td>8.2</td>\n",
       "      <td>nm0067621</td>\n",
       "      <td>nm0067621</td>\n",
       "      <td>nm0719927</td>\n",
       "      <td>nm0719927</td>\n",
       "    </tr>\n",
       "    <tr>\n",
       "      <th>4</th>\n",
       "      <td>5.8</td>\n",
       "      <td>nm0060430</td>\n",
       "      <td>nm0060430</td>\n",
       "      <td>nm0038160,nm0256467,nm0543733,nm0060430</td>\n",
       "      <td>nm0038160</td>\n",
       "    </tr>\n",
       "    <tr>\n",
       "      <th>...</th>\n",
       "      <td>...</td>\n",
       "      <td>...</td>\n",
       "      <td>...</td>\n",
       "      <td>...</td>\n",
       "      <td>...</td>\n",
       "    </tr>\n",
       "    <tr>\n",
       "      <th>977536</th>\n",
       "      <td>6.8</td>\n",
       "      <td>nm0068385</td>\n",
       "      <td>nm0068385</td>\n",
       "      <td>0</td>\n",
       "      <td>0</td>\n",
       "    </tr>\n",
       "    <tr>\n",
       "      <th>977537</th>\n",
       "      <td>7.3</td>\n",
       "      <td>nm0007366,nm0062743</td>\n",
       "      <td>nm0007366</td>\n",
       "      <td>nm0007366,nm0062743,nm0149331</td>\n",
       "      <td>nm0007366</td>\n",
       "    </tr>\n",
       "    <tr>\n",
       "      <th>977538</th>\n",
       "      <td>8.3</td>\n",
       "      <td>nm0471452</td>\n",
       "      <td>nm0471452</td>\n",
       "      <td>nm0049400,nm0471452,nm2701239</td>\n",
       "      <td>nm0049400</td>\n",
       "    </tr>\n",
       "    <tr>\n",
       "      <th>977539</th>\n",
       "      <td>7.0</td>\n",
       "      <td>nm0293989</td>\n",
       "      <td>nm0293989</td>\n",
       "      <td>nm0288111,nm0540789,nm0588514,nm0682481</td>\n",
       "      <td>nm0288111</td>\n",
       "    </tr>\n",
       "    <tr>\n",
       "      <th>977540</th>\n",
       "      <td>9.0</td>\n",
       "      <td>nm0400958</td>\n",
       "      <td>nm0400958</td>\n",
       "      <td>nm0365358,nm0343724,nm0817565</td>\n",
       "      <td>nm0365358</td>\n",
       "    </tr>\n",
       "  </tbody>\n",
       "</table>\n",
       "<p>977541 rows × 5 columns</p>\n",
       "</div>"
      ],
      "text/plain": [
       "        averageRating                      directors director_principal  \\\n",
       "0                 6.0  nm1635586,nm1230149,nm2085337          nm1635586   \n",
       "1                 6.9                      nm3398609          nm3398609   \n",
       "2                 7.8                              0                  0   \n",
       "3                 8.2                      nm0067621          nm0067621   \n",
       "4                 5.8                      nm0060430          nm0060430   \n",
       "...               ...                            ...                ...   \n",
       "977536            6.8                      nm0068385          nm0068385   \n",
       "977537            7.3            nm0007366,nm0062743          nm0007366   \n",
       "977538            8.3                      nm0471452          nm0471452   \n",
       "977539            7.0                      nm0293989          nm0293989   \n",
       "977540            9.0                      nm0400958          nm0400958   \n",
       "\n",
       "                                        writers escritor_principal  \n",
       "0                                             0                  0  \n",
       "1                                     nm0449959          nm0449959  \n",
       "2                                             0                  0  \n",
       "3                                     nm0719927          nm0719927  \n",
       "4       nm0038160,nm0256467,nm0543733,nm0060430          nm0038160  \n",
       "...                                         ...                ...  \n",
       "977536                                        0                  0  \n",
       "977537            nm0007366,nm0062743,nm0149331          nm0007366  \n",
       "977538            nm0049400,nm0471452,nm2701239          nm0049400  \n",
       "977539  nm0288111,nm0540789,nm0588514,nm0682481          nm0288111  \n",
       "977540            nm0365358,nm0343724,nm0817565          nm0365358  \n",
       "\n",
       "[977541 rows x 5 columns]"
      ]
     },
     "execution_count": 20,
     "metadata": {},
     "output_type": "execute_result"
    }
   ],
   "source": [
    "df[['averageRating','directors', 'director_principal', 'writers', 'escritor_principal']]"
   ]
  },
  {
   "cell_type": "code",
   "execution_count": 21,
   "id": "4f313968",
   "metadata": {},
   "outputs": [],
   "source": [
    "#vale la pena agregarlo como datos, habiendo en ambos casos una gran parte de datos faltantes"
   ]
  },
  {
   "cell_type": "code",
   "execution_count": 22,
   "id": "a6ff6094",
   "metadata": {},
   "outputs": [
    {
     "data": {
      "text/plain": [
       "0.6206379067476454"
      ]
     },
     "execution_count": 22,
     "metadata": {},
     "output_type": "execute_result"
    }
   ],
   "source": [
    "df.ordering.isna().sum()/len(df.ordering) #62% de valores faltantes, creo que ene un primer modelo no asportaria demasiada informacion, se puede scar en uyna primera instancia y edspues usarlo para optimizar"
   ]
  },
  {
   "cell_type": "code",
   "execution_count": 23,
   "id": "d7150df9",
   "metadata": {},
   "outputs": [
    {
     "data": {
      "text/plain": [
       "array(['0', nan, 'en', 'es', 'yi', 'haw', 'fr', 'myv'], dtype=object)"
      ]
     },
     "execution_count": 23,
     "metadata": {},
     "output_type": "execute_result"
    }
   ],
   "source": [
    "df.language.unique()"
   ]
  },
  {
   "cell_type": "code",
   "execution_count": 24,
   "id": "1720e36f",
   "metadata": {},
   "outputs": [],
   "source": [
    "\n",
    "#transformacion de nan a 0 y resto de idiomas a categoricas\n",
    "df.loc[df['language'] == \"nan\", 'language'] = '0'\n",
    "df.loc[df['language'] == \"en\", 'language'] = '1'\n",
    "df.loc[df['language'] == \"es\", 'language'] = '2'\n",
    "df.loc[df['language'] == \"yi\", 'language'] = '3'\n",
    "df.loc[df['language'] == \"haw\", 'language'] = '4'\n",
    "df.loc[df['language'] == \"fr\", 'language'] = '5'\n",
    "df.loc[df['language'] == \"myv\", 'language'] = '6'\n"
   ]
  },
  {
   "cell_type": "code",
   "execution_count": 25,
   "id": "ed9d32a5",
   "metadata": {},
   "outputs": [
    {
     "data": {
      "text/plain": [
       "0         0.0\n",
       "1         NaN\n",
       "2         NaN\n",
       "3         NaN\n",
       "4         NaN\n",
       "         ... \n",
       "977536    0.0\n",
       "977537    0.0\n",
       "977538    0.0\n",
       "977539    0.0\n",
       "977540    0.0\n",
       "Name: isOriginalTitle, Length: 977541, dtype: float64"
      ]
     },
     "execution_count": 25,
     "metadata": {},
     "output_type": "execute_result"
    }
   ],
   "source": [
    "df.isOriginalTitle"
   ]
  },
  {
   "cell_type": "code",
   "execution_count": 26,
   "id": "6ce19013",
   "metadata": {},
   "outputs": [
    {
     "data": {
      "text/plain": [
       "1.0"
      ]
     },
     "execution_count": 26,
     "metadata": {},
     "output_type": "execute_result"
    }
   ],
   "source": [
    "df.isOriginalTitle.max()"
   ]
  },
  {
   "cell_type": "code",
   "execution_count": 27,
   "id": "a09581e4",
   "metadata": {},
   "outputs": [],
   "source": [
    "df.loc[df['isOriginalTitle'] == \"nan\", 'isOriginalTitle'] = 0 # si es un valor faltante se supone que no es un original title\n"
   ]
  },
  {
   "cell_type": "code",
   "execution_count": 28,
   "id": "e79111b5",
   "metadata": {},
   "outputs": [],
   "source": [
    "df.original_language.unique() #hacer un auto encoder porque alta paja hacer yo uno por uno\n",
    "\n",
    "from sklearn import preprocessing\n",
    "le = preprocessing.LabelEncoder()\n",
    "le.fit(df.original_language)\n",
    "le.classes_\n",
    "j = le.transform(df.original_language)\n",
    "df['idioma_original'] = j"
   ]
  },
  {
   "cell_type": "code",
   "execution_count": 29,
   "id": "06ee3a82",
   "metadata": {},
   "outputs": [
    {
     "data": {
      "text/plain": [
       "0         87\n",
       "1         87\n",
       "2         87\n",
       "3         87\n",
       "4         87\n",
       "          ..\n",
       "977536    87\n",
       "977537    17\n",
       "977538    74\n",
       "977539    87\n",
       "977540    87\n",
       "Name: idioma_original, Length: 977541, dtype: int32"
      ]
     },
     "execution_count": 29,
     "metadata": {},
     "output_type": "execute_result"
    }
   ],
   "source": [
    "df.idioma_original"
   ]
  },
  {
   "cell_type": "code",
   "execution_count": 30,
   "id": "294b4ce8",
   "metadata": {},
   "outputs": [
    {
     "data": {
      "text/plain": [
       "0.9516112367665397"
      ]
     },
     "execution_count": 30,
     "metadata": {},
     "output_type": "execute_result"
    }
   ],
   "source": [
    "df.popularity.isna().sum()/len(df.popularity) #95% de valores nullos"
   ]
  },
  {
   "cell_type": "code",
   "execution_count": 31,
   "id": "c3b2eeaa",
   "metadata": {},
   "outputs": [
    {
     "data": {
      "text/plain": [
       "0.9516112367665397"
      ]
     },
     "execution_count": 31,
     "metadata": {},
     "output_type": "execute_result"
    }
   ],
   "source": [
    "df.production_companies.isna().sum()/len(df.popularity) #95% de valores nullos"
   ]
  },
  {
   "cell_type": "code",
   "execution_count": 32,
   "id": "441b3edd",
   "metadata": {},
   "outputs": [
    {
     "data": {
      "text/plain": [
       "0.9516112367665397"
      ]
     },
     "execution_count": 32,
     "metadata": {},
     "output_type": "execute_result"
    }
   ],
   "source": [
    "df.production_countries.isna().sum()/len(df.popularity) #95% de valores nullos, a priori para un primer modelo no mme deberia servir"
   ]
  },
  {
   "cell_type": "code",
   "execution_count": 33,
   "id": "901f5cd3",
   "metadata": {},
   "outputs": [
    {
     "data": {
      "text/plain": [
       "0.9516112367665397"
      ]
     },
     "execution_count": 33,
     "metadata": {},
     "output_type": "execute_result"
    }
   ],
   "source": [
    "df.video.isna().sum()/977541 #muchos valores nulos para un primer modelo"
   ]
  },
  {
   "cell_type": "code",
   "execution_count": 34,
   "id": "8accd9c2",
   "metadata": {},
   "outputs": [
    {
     "data": {
      "text/plain": [
       "0.9518219696155967"
      ]
     },
     "execution_count": 34,
     "metadata": {},
     "output_type": "execute_result"
    }
   ],
   "source": [
    "df.runtime.isna().sum()/len(df.runtime) #en un primer modelo hay mucho valores nulos"
   ]
  },
  {
   "cell_type": "code",
   "execution_count": 35,
   "id": "9b60a1e5",
   "metadata": {},
   "outputs": [],
   "source": [
    "#DF filtrado"
   ]
  },
  {
   "cell_type": "code",
   "execution_count": 87,
   "id": "76ad8469",
   "metadata": {},
   "outputs": [],
   "source": [
    "filtrado = df[['Id',\n",
    "'averageRating', #listo para usar\n",
    "'numVotes', #listo para usar\n",
    "'startYear', #listo para usar\n",
    "'runtimeMinutes', #listo para usar\n",
    "'director_principal', #despues para optimizar un poco mas el modelo se le pueden agregar mas dierectores, se podrian hacer un encoding con los directores mas repetidos\n",
    "'escritor_principal', #despeues para optmizar el modelo se podrian usar mas escritores y parsiar la otra columna, el encoding se haria con los escritores mas repetidos\n",
    "'genero1', #listo para usar, luego se le pueden agregar mas generos para optimizar el modelo, los generos 2 y 3 ya estarian parseados\n",
    "'language', #listo para usar\n",
    "'adult',#listo para usar,\n",
    "'isOriginalTitle', #listo para usar\n",
    "'idioma_original', #listo para usar\n",
    "'releaseYear',#listo para usar, creo q no sirve, muchos nan\n",
    "'status' #listo para usar\n",
    "]].copy()"
   ]
  },
  {
   "cell_type": "code",
   "execution_count": 88,
   "id": "c4f1033f",
   "metadata": {},
   "outputs": [
    {
     "data": {
      "text/plain": [
       "array(['News', 'Comedy', 'Documentary', 'Western', '0', 'Crime', 'Short',\n",
       "       'Drama', 'Action', 'Sport', 'Family', 'Adult', 'Adventure',\n",
       "       'Horror', 'Animation', 'Music', 'Biography', 'Game-Show',\n",
       "       'Fantasy', 'Musical', 'Romance', 'History', 'Thriller',\n",
       "       'Talk-Show', 'Reality-TV', 'Mystery', 'Sci-Fi', 'War', 'Film-Noir',\n",
       "       'nan'], dtype=object)"
      ]
     },
     "execution_count": 88,
     "metadata": {},
     "output_type": "execute_result"
    }
   ],
   "source": [
    "filtrado.genero1.unique()"
   ]
  },
  {
   "cell_type": "code",
   "execution_count": 89,
   "id": "e0303696",
   "metadata": {},
   "outputs": [],
   "source": [
    "from sklearn import preprocessing\n",
    "le = preprocessing.LabelEncoder()\n",
    "le.fit(filtrado.genero1)\n",
    "le.classes_\n",
    "j = le.transform(filtrado.genero1)\n",
    "j\n",
    "filtrado['generoprincipal'] = j"
   ]
  },
  {
   "cell_type": "code",
   "execution_count": 90,
   "id": "59ff1a1f",
   "metadata": {},
   "outputs": [],
   "source": [
    "filtrado = filtrado.drop(columns = ['genero1']).copy()"
   ]
  },
  {
   "cell_type": "code",
   "execution_count": 91,
   "id": "e34b14b4",
   "metadata": {},
   "outputs": [],
   "source": [
    "top20_directores = filtrado.director_principal.value_counts().sort_values(ascending=False).head(20) #top 20 directores"
   ]
  },
  {
   "cell_type": "code",
   "execution_count": 92,
   "id": "09422880",
   "metadata": {},
   "outputs": [],
   "source": [
    "top20_directores = top20_directores.iloc[1:]"
   ]
  },
  {
   "cell_type": "code",
   "execution_count": 93,
   "id": "1def5e4d",
   "metadata": {},
   "outputs": [],
   "source": [
    "filtrado = filtrado.assign(top20_directores = 0)"
   ]
  },
  {
   "cell_type": "code",
   "execution_count": 94,
   "id": "458e3793",
   "metadata": {},
   "outputs": [
    {
     "data": {
      "text/plain": [
       "Index(['nm1337210', 'nm3766090', 'nm0123273', 'nm1206693', 'nm3005544',\n",
       "       'nm0665889', 'nm0242658', 'nm0669120', 'nm0053484', 'nm1121649',\n",
       "       'nm2078274', 'nm0842611', 'nm9072464', 'nm1618147', 'nm0927042',\n",
       "       'nm0128225', 'nm0148252', 'nm0635620', 'nm0617588'],\n",
       "      dtype='object')"
      ]
     },
     "execution_count": 94,
     "metadata": {},
     "output_type": "execute_result"
    }
   ],
   "source": [
    "top20_directores.index"
   ]
  },
  {
   "cell_type": "code",
   "execution_count": 95,
   "id": "b9cea601",
   "metadata": {},
   "outputs": [],
   "source": [
    "filtrado.loc[filtrado['director_principal'].isin(top20_directores.index), 'top20_directores'] = 1"
   ]
  },
  {
   "cell_type": "code",
   "execution_count": 96,
   "id": "356a8aaa",
   "metadata": {},
   "outputs": [],
   "source": [
    "filtrado = filtrado.assign(top20_escritores = 0)"
   ]
  },
  {
   "cell_type": "code",
   "execution_count": 97,
   "id": "1c005e79",
   "metadata": {},
   "outputs": [],
   "source": [
    "filtrado = filtrado.drop(columns = ['director_principal']).copy()"
   ]
  },
  {
   "cell_type": "code",
   "execution_count": 98,
   "id": "b2d20d01",
   "metadata": {},
   "outputs": [],
   "source": [
    "top20_escritores = filtrado.escritor_principal.value_counts().sort_values(ascending=False).head(20) #top 20 directores"
   ]
  },
  {
   "cell_type": "code",
   "execution_count": 101,
   "id": "b42c1471",
   "metadata": {},
   "outputs": [],
   "source": [
    "top20_escritores = top20_escritores.iloc[1:]"
   ]
  },
  {
   "cell_type": "code",
   "execution_count": 102,
   "id": "6e5da956",
   "metadata": {},
   "outputs": [
    {
     "data": {
      "text/plain": [
       "Index(['nm0937725', 'nm3766090', 'nm0193303', 'nm0521143', 'nm0734472',\n",
       "       'nm3005544', 'nm0069074', 'nm0574341', 'nm0170306', 'nm1088947',\n",
       "       'nm0868066', 'nm0005082', 'nm1108327', 'nm0004981', 'nm2164764',\n",
       "       'nm1444457', 'nm0532235', 'nm0004798', 'nm2095966'],\n",
       "      dtype='object')"
      ]
     },
     "execution_count": 102,
     "metadata": {},
     "output_type": "execute_result"
    }
   ],
   "source": [
    "top20_escritores.index #filtrar el cero"
   ]
  },
  {
   "cell_type": "code",
   "execution_count": 103,
   "id": "f81056d1",
   "metadata": {},
   "outputs": [],
   "source": [
    "filtrado['top20_escritores'] = 0"
   ]
  },
  {
   "cell_type": "code",
   "execution_count": 104,
   "id": "3c4669f4",
   "metadata": {},
   "outputs": [],
   "source": [
    "filtrado.loc[filtrado['escritor_principal'].isin(top20_escritores.index), 'top20_escritores'] = 1"
   ]
  },
  {
   "cell_type": "code",
   "execution_count": 105,
   "id": "be7881ac",
   "metadata": {},
   "outputs": [],
   "source": [
    "filtrado = filtrado.drop(columns = ['escritor_principal']).copy()"
   ]
  },
  {
   "cell_type": "code",
   "execution_count": 106,
   "id": "5375ce0a",
   "metadata": {},
   "outputs": [],
   "source": [
    "filtrado.loc[filtrado['adult'] == True, 'adulto'] = 1\n",
    "filtrado.loc[filtrado['adult'] == False, 'adulto'] = 0"
   ]
  },
  {
   "cell_type": "code",
   "execution_count": 107,
   "id": "c16f1c91",
   "metadata": {},
   "outputs": [],
   "source": [
    "filtrado = filtrado.drop(columns = ['adult']).copy()"
   ]
  },
  {
   "cell_type": "code",
   "execution_count": 108,
   "id": "27a2bb61",
   "metadata": {},
   "outputs": [
    {
     "data": {
      "text/plain": [
       "Id                    int64\n",
       "averageRating       float64\n",
       "numVotes              int64\n",
       "startYear             int64\n",
       "runtimeMinutes        int64\n",
       "language             object\n",
       "isOriginalTitle     float64\n",
       "idioma_original       int32\n",
       "releaseYear          object\n",
       "status               object\n",
       "generoprincipal       int32\n",
       "top20_directores      int64\n",
       "top20_escritores      int64\n",
       "adulto              float64\n",
       "dtype: object"
      ]
     },
     "execution_count": 108,
     "metadata": {},
     "output_type": "execute_result"
    }
   ],
   "source": [
    "filtrado.dtypes "
   ]
  },
  {
   "cell_type": "code",
   "execution_count": 109,
   "id": "9d1172f5",
   "metadata": {},
   "outputs": [
    {
     "data": {
      "text/plain": [
       "0            NaN\n",
       "1            NaN\n",
       "2            NaN\n",
       "3            NaN\n",
       "4            NaN\n",
       "           ...  \n",
       "977536       NaN\n",
       "977537    1995.0\n",
       "977538    1995.0\n",
       "977539       NaN\n",
       "977540       NaN\n",
       "Name: releaseYear, Length: 977541, dtype: float64"
      ]
     },
     "execution_count": 109,
     "metadata": {},
     "output_type": "execute_result"
    }
   ],
   "source": [
    "filtrado['releaseYear'].astype(float)"
   ]
  },
  {
   "cell_type": "code",
   "execution_count": null,
   "id": "0279021d",
   "metadata": {},
   "outputs": [],
   "source": [
    "#no parece haber tanto quilombo"
   ]
  },
  {
   "cell_type": "code",
   "execution_count": 112,
   "id": "26126cab",
   "metadata": {},
   "outputs": [
    {
     "data": {
      "text/plain": [
       "Id                    int64\n",
       "averageRating       float64\n",
       "numVotes              int64\n",
       "startYear             int64\n",
       "runtimeMinutes        int64\n",
       "language             object\n",
       "isOriginalTitle     float64\n",
       "idioma_original       int32\n",
       "releaseYear          object\n",
       "status               object\n",
       "generoprincipal       int32\n",
       "top20_directores      int64\n",
       "top20_escritores      int64\n",
       "adulto              float64\n",
       "dtype: object"
      ]
     },
     "execution_count": 112,
     "metadata": {},
     "output_type": "execute_result"
    }
   ],
   "source": [
    "filtrado.dtypes"
   ]
  },
  {
   "cell_type": "code",
   "execution_count": 117,
   "id": "a1d8957c",
   "metadata": {},
   "outputs": [],
   "source": [
    "filtrado.language = filtrado.language.astype(float)\n",
    "filtrado.releaseYear = filtrado.releaseYear.astype(float)\n",
    "filtrado.status = filtrado.status.astype(float)"
   ]
  },
  {
   "cell_type": "code",
   "execution_count": 118,
   "id": "4acd6340",
   "metadata": {},
   "outputs": [
    {
     "data": {
      "text/plain": [
       "Id                    int64\n",
       "averageRating       float64\n",
       "numVotes              int64\n",
       "startYear             int64\n",
       "runtimeMinutes        int64\n",
       "language            float64\n",
       "isOriginalTitle     float64\n",
       "idioma_original       int32\n",
       "releaseYear         float64\n",
       "status              float64\n",
       "generoprincipal       int32\n",
       "top20_directores      int64\n",
       "top20_escritores      int64\n",
       "adulto              float64\n",
       "dtype: object"
      ]
     },
     "execution_count": 118,
     "metadata": {},
     "output_type": "execute_result"
    }
   ],
   "source": [
    "filtrado.dtypes"
   ]
  },
  {
   "cell_type": "code",
   "execution_count": 212,
   "id": "9fb1704f",
   "metadata": {},
   "outputs": [],
   "source": [
    "filtrado = filtrado.fillna(0)"
   ]
  },
  {
   "cell_type": "code",
   "execution_count": 228,
   "id": "391d141c",
   "metadata": {},
   "outputs": [],
   "source": [
    "import pandas as pd\n",
    "import numpy as np\n",
    "\n",
    "def clean_dataset(df):\n",
    "    assert isinstance(df, pd.DataFrame), \"df needs to be a pd.DataFrame\"\n",
    "    df.dropna(inplace=True)\n",
    "    indices_to_keep = ~df.isin([np.nan, np.inf, -np.inf]).any(1)\n",
    "    return df[indices_to_keep].astype(np.float64)\n",
    "\n",
    "filtrado = clean_dataset(filtrado)"
   ]
  },
  {
   "cell_type": "code",
   "execution_count": 230,
   "id": "79a1ebd4",
   "metadata": {},
   "outputs": [
    {
     "name": "stdout",
     "output_type": "stream",
     "text": [
      "(782032, 13)\n",
      "(782032,)\n",
      "(195509, 13)\n",
      "(195509,)\n"
     ]
    },
    {
     "data": {
      "text/plain": [
       "(None, None)"
      ]
     },
     "execution_count": 230,
     "metadata": {},
     "output_type": "execute_result"
    }
   ],
   "source": [
    "from sklearn.model_selection import train_test_split\n",
    "\n",
    "x1 = filtrado.drop(columns = ['averageRating']).copy()\n",
    "y1 = filtrado['averageRating']\n",
    "\n",
    "\n",
    "x_train, x_test, y_train, y_test = train_test_split(x1,y1, test_size=0.20 )\n",
    "\n",
    "print(x_train.shape), print(y_train.shape)\n",
    "print(x_test.shape), print(y_test.shape)"
   ]
  },
  {
   "cell_type": "code",
   "execution_count": null,
   "id": "195152f9",
   "metadata": {},
   "outputs": [],
   "source": [
    "#red neuronal"
   ]
  },
  {
   "cell_type": "code",
   "execution_count": 241,
   "id": "579d0623",
   "metadata": {},
   "outputs": [],
   "source": [
    "import numpy as np\n",
    "from matplotlib import pyplot as plt\n",
    "import tensorflow as tf\n",
    "from tensorflow import keras\n",
    "from tensorflow.keras import layers\n",
    "import pandas as pd\n",
    "from sklearn.datasets import make_moons\n",
    "from keras.models import Sequential\n",
    "from keras.layers import Dense\n",
    "from keras.callbacks import EarlyStopping\n",
    "from keras.callbacks import ModelCheckpoint\n",
    "from matplotlib import pyplot\n",
    "from keras.models import load_model\n",
    "from matplotlib import pyplot\n",
    "from pandas import DataFrame\n",
    "from keras.layers import Dropout"
   ]
  },
  {
   "cell_type": "code",
   "execution_count": 242,
   "id": "eafa2b3e",
   "metadata": {},
   "outputs": [],
   "source": [
    "modelo = keras.Sequential()\n",
    "modelo.add(Dense( units = 13, input_shape = [13], activation='relu'))\n",
    "modelo.add(Dense(1, activation='sigmoid'))"
   ]
  },
  {
   "cell_type": "code",
   "execution_count": 243,
   "id": "f25082ff",
   "metadata": {},
   "outputs": [],
   "source": [
    "optimizer = tf.keras.optimizers.RMSprop(0.001)"
   ]
  },
  {
   "cell_type": "code",
   "execution_count": 263,
   "id": "3f9e381f",
   "metadata": {},
   "outputs": [],
   "source": [
    "modelo.compile(loss='mse',\n",
    "                optimizer=optimizer,\n",
    "                metrics=['mae', 'mse'])"
   ]
  },
  {
   "cell_type": "code",
   "execution_count": 274,
   "id": "3971ead8",
   "metadata": {},
   "outputs": [
    {
     "name": "stdout",
     "output_type": "stream",
     "text": [
      "Cominenzo entrenamiento\n",
      "Epoch 1/20\n",
      "24439/24439 [==============================] - 17s 675us/step - loss: 36.5632 - mae: 5.8811 - mse: 36.5632\n",
      "Epoch 2/20\n",
      "24439/24439 [==============================] - 17s 682us/step - loss: 36.5632 - mae: 5.8811 - mse: 36.5632\n",
      "Epoch 3/20\n",
      "24439/24439 [==============================] - 17s 682us/step - loss: 36.5631 - mae: 5.8811 - mse: 36.5631\n",
      "Epoch 4/20\n",
      "24439/24439 [==============================] - 17s 684us/step - loss: 36.5631 - mae: 5.8811 - mse: 36.5631\n",
      "Epoch 5/20\n",
      "24439/24439 [==============================] - 17s 686us/step - loss: 36.5631 - mae: 5.8811 - mse: 36.5631\n",
      "Epoch 6/20\n",
      "24439/24439 [==============================] - 17s 678us/step - loss: 36.5630 - mae: 5.8811 - mse: 36.5630\n",
      "Epoch 7/20\n",
      "24439/24439 [==============================] - 17s 680us/step - loss: 36.5631 - mae: 5.8811 - mse: 36.5631\n",
      "Epoch 8/20\n",
      "24439/24439 [==============================] - 16s 674us/step - loss: 36.5631 - mae: 5.8811 - mse: 36.5631\n",
      "Epoch 9/20\n",
      "24439/24439 [==============================] - 17s 693us/step - loss: 36.5632 - mae: 5.8811 - mse: 36.5632\n",
      "Epoch 10/20\n",
      "24439/24439 [==============================] - 17s 681us/step - loss: 36.5631 - mae: 5.8811 - mse: 36.5631\n",
      "Epoch 11/20\n",
      "24439/24439 [==============================] - 17s 676us/step - loss: 36.5631 - mae: 5.8811 - mse: 36.5631\n",
      "Epoch 12/20\n",
      "24439/24439 [==============================] - 17s 676us/step - loss: 36.5632 - mae: 5.8811 - mse: 36.5632\n",
      "Epoch 13/20\n",
      "24439/24439 [==============================] - 17s 676us/step - loss: 36.5631 - mae: 5.8811 - mse: 36.5631\n",
      "Epoch 14/20\n",
      "24439/24439 [==============================] - 16s 672us/step - loss: 36.5633 - mae: 5.8811 - mse: 36.5633\n",
      "Epoch 15/20\n",
      "24439/24439 [==============================] - 17s 680us/step - loss: 36.5631 - mae: 5.8811 - mse: 36.5631\n",
      "Epoch 16/20\n",
      "24439/24439 [==============================] - 17s 681us/step - loss: 36.5633 - mae: 5.8811 - mse: 36.5633\n",
      "Epoch 17/20\n",
      "24439/24439 [==============================] - 16s 670us/step - loss: 36.5630 - mae: 5.8811 - mse: 36.5630\n",
      "Epoch 18/20\n",
      "24439/24439 [==============================] - 16s 666us/step - loss: 36.5631 - mae: 5.8811 - mse: 36.5631\n",
      "Epoch 19/20\n",
      "24439/24439 [==============================] - 16s 670us/step - loss: 36.5632 - mae: 5.8811 - mse: 36.5632\n",
      "Epoch 20/20\n",
      "24439/24439 [==============================] - 16s 666us/step - loss: 36.5631 - mae: 5.8811 - mse: 36.5631\n",
      "Modelo entrenado\n"
     ]
    }
   ],
   "source": [
    "print('Cominenzo entrenamiento')\n",
    "\n",
    "\n",
    "history = modelo.fit(x_train, y_train, epochs =20, verbose = True)\n",
    "\n",
    "\n",
    "print(\"Modelo entrenado\")"
   ]
  },
  {
   "cell_type": "code",
   "execution_count": 275,
   "id": "35d57431",
   "metadata": {},
   "outputs": [
    {
     "data": {
      "text/plain": [
       "[<matplotlib.lines.Line2D at 0x29256c90460>]"
      ]
     },
     "execution_count": 275,
     "metadata": {},
     "output_type": "execute_result"
    },
    {
     "data": {
      "image/png": "[encoded data removed]",
      "text/plain": [
       "<Figure size 432x288 with 1 Axes>"
      ]
     },
     "metadata": {
      "needs_background": "light"
     },
     "output_type": "display_data"
    }
   ],
   "source": [
    "import matplotlib.pyplot as plt\n",
    "\n",
    "plt.xlabel(\"epochs\")\n",
    "plt.ylabel(\"magnitud perdida\")\n",
    "plt.plot(history.history[\"loss\"])"
   ]
  },
  {
   "cell_type": "code",
   "execution_count": 276,
   "id": "ef25252b",
   "metadata": {},
   "outputs": [
    {
     "name": "stdout",
     "output_type": "stream",
     "text": [
      "6110/6110 [==============================] - 3s 544us/step\n"
     ]
    }
   ],
   "source": [
    "pred = modelo.predict(x_test)"
   ]
  },
  {
   "cell_type": "code",
   "execution_count": 277,
   "id": "34b12497",
   "metadata": {},
   "outputs": [
    {
     "name": "stdout",
     "output_type": "stream",
     "text": [
      "6110/6110 [==============================] - 4s 626us/step - loss: 36.5753 - mae: 5.8821 - mse: 36.5753\n"
     ]
    },
    {
     "data": {
      "text/plain": [
       "[36.57526397705078, 5.882083415985107, 36.57526397705078]"
      ]
     },
     "execution_count": 277,
     "metadata": {},
     "output_type": "execute_result"
    }
   ],
   "source": [
    "modelo.evaluate(x_test, y_test)"
   ]
  },
  {
   "cell_type": "code",
   "execution_count": 278,
   "id": "7d05a8bf",
   "metadata": {},
   "outputs": [
    {
     "data": {
      "text/html": [
       "<div>\n",
       "<style scoped>\n",
       "    .dataframe tbody tr th:only-of-type {\n",
       "        vertical-align: middle;\n",
       "    }\n",
       "\n",
       "    .dataframe tbody tr th {\n",
       "        vertical-align: top;\n",
       "    }\n",
       "\n",
       "    .dataframe thead th {\n",
       "        text-align: right;\n",
       "    }\n",
       "</style>\n",
       "<table border=\"1\" class=\"dataframe\">\n",
       "  <thead>\n",
       "    <tr style=\"text-align: right;\">\n",
       "      <th></th>\n",
       "      <th>loss</th>\n",
       "      <th>mae</th>\n",
       "      <th>mse</th>\n",
       "      <th>epoch</th>\n",
       "    </tr>\n",
       "  </thead>\n",
       "  <tbody>\n",
       "    <tr>\n",
       "      <th>15</th>\n",
       "      <td>36.563251</td>\n",
       "      <td>5.881080</td>\n",
       "      <td>36.563251</td>\n",
       "      <td>15</td>\n",
       "    </tr>\n",
       "    <tr>\n",
       "      <th>16</th>\n",
       "      <td>36.563034</td>\n",
       "      <td>5.881106</td>\n",
       "      <td>36.563034</td>\n",
       "      <td>16</td>\n",
       "    </tr>\n",
       "    <tr>\n",
       "      <th>17</th>\n",
       "      <td>36.563076</td>\n",
       "      <td>5.881090</td>\n",
       "      <td>36.563076</td>\n",
       "      <td>17</td>\n",
       "    </tr>\n",
       "    <tr>\n",
       "      <th>18</th>\n",
       "      <td>36.563198</td>\n",
       "      <td>5.881083</td>\n",
       "      <td>36.563198</td>\n",
       "      <td>18</td>\n",
       "    </tr>\n",
       "    <tr>\n",
       "      <th>19</th>\n",
       "      <td>36.563095</td>\n",
       "      <td>5.881072</td>\n",
       "      <td>36.563095</td>\n",
       "      <td>19</td>\n",
       "    </tr>\n",
       "  </tbody>\n",
       "</table>\n",
       "</div>"
      ],
      "text/plain": [
       "         loss       mae        mse  epoch\n",
       "15  36.563251  5.881080  36.563251     15\n",
       "16  36.563034  5.881106  36.563034     16\n",
       "17  36.563076  5.881090  36.563076     17\n",
       "18  36.563198  5.881083  36.563198     18\n",
       "19  36.563095  5.881072  36.563095     19"
      ]
     },
     "execution_count": 278,
     "metadata": {},
     "output_type": "execute_result"
    }
   ],
   "source": [
    "hist = pd.DataFrame(history.history)\n",
    "hist['epoch'] = history.epoch\n",
    "hist.tail()"
   ]
  },
  {
   "cell_type": "code",
   "execution_count": null,
   "id": "eb9c8c84",
   "metadata": {},
   "outputs": [],
   "source": []
  }
 ],
 "metadata": {
  "kernelspec": {
   "display_name": "Python 3 (ipykernel)",
   "language": "python",
   "name": "python3"
  },
  "language_info": {
   "codemirror_mode": {
    "name": "ipython",
    "version": 3
   },
   "file_extension": ".py",
   "mimetype": "text/x-python",
   "name": "python",
   "nbconvert_exporter": "python",
   "pygments_lexer": "ipython3",
   "version": "3.9.12"
  }
 },
 "nbformat": 4,
 "nbformat_minor": 5
}
