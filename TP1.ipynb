{
  "nbformat": 4,
  "nbformat_minor": 0,
  "metadata": {
    "colab": {
      "provenance": [],
      "collapsed_sections": [
        "d61OXIka_1T0"
      ],
      "include_colab_link": true
    },
    "kernelspec": {
      "name": "python3",
      "display_name": "Python 3"
    },
    "language_info": {
      "name": "python"
    }
  },
  "cells": [
    {
      "cell_type": "markdown",
      "metadata": {
        "id": "view-in-github",
        "colab_type": "text"
      },
      "source": [
        "<a href=\"https://colab.research.google.com/github/alfie-agustin/Analisis-predictivo/blob/main/TP1.ipynb\" target=\"_parent\"><img src=\"https://colab.research.google.com/assets/colab-badge.svg\" alt=\"Open In Colab\"/></a>"
      ]
    },
    {
      "cell_type": "markdown",
      "source": [
        "***Hipotesis:***\n",
        "\n",
        "1) La marca va a influenciar al precio\n",
        "\n",
        "2) El tamaño de motor y caballos (cuanto mas) mas va a subir el precio\n",
        "\n",
        "3) el tamaño del auto va a influenciar en el precio\n",
        "\n",
        "4) el tipo de nafta va a influenciar en el precio\n",
        "\n",
        "\n",
        "\n",
        "\n",
        "\n",
        "\n"
      ],
      "metadata": {
        "id": "4W5eZi1CnKB-"
      }
    },
    {
      "cell_type": "markdown",
      "source": [
        "# Dataset y exploracion"
      ],
      "metadata": {
        "id": "d61OXIka_1T0"
      }
    },
    {
      "cell_type": "code",
      "execution_count": null,
      "metadata": {
        "id": "dhKux--jvO7S"
      },
      "outputs": [],
      "source": [
        "import pandas as pd\n",
        "import matplotlib.pyplot as plt\n",
        "import seaborn as sns\n",
        "import numpy as np\n",
        "import os as os\n",
        "import scipy.stats as stats\n",
        "import numpy as np"
      ]
    },
    {
      "cell_type": "code",
      "source": [
        "from google.colab import drive\n",
        "drive.mount('/content/gdrive')"
      ],
      "metadata": {
        "id": "BL1gArsKvS-S",
        "colab": {
          "base_uri": "https://localhost:8080/"
        },
        "outputId": "b5b5b07c-254f-4002-8482-343d85aebf14"
      },
      "execution_count": null,
      "outputs": [
        {
          "output_type": "stream",
          "name": "stdout",
          "text": [
            "Mounted at /content/gdrive\n"
          ]
        }
      ]
    },
    {
      "cell_type": "code",
      "source": [
        "df = pd.read_csv('gdrive/My Drive/2022/Analisis predictivo/pricepred/CarPrice_Assignment.csv')\n",
        "df"
      ],
      "metadata": {
        "id": "FlWAR5ZCvUdm",
        "colab": {
          "base_uri": "https://localhost:8080/"
        },
        "outputId": "40723111-019e-40ec-aa23-fe4a9708e22d"
      },
      "execution_count": null,
      "outputs": [
        {
          "output_type": "execute_result",
          "data": {
            "text/plain": [
              "     car_ID  symboling                   CarName fueltype aspiration  \\\n",
              "0         1          3        alfa-romero giulia      gas        std   \n",
              "1         2          3       alfa-romero stelvio      gas        std   \n",
              "2         3          1  alfa-romero Quadrifoglio      gas        std   \n",
              "3         4          2               audi 100 ls      gas        std   \n",
              "4         5          2                audi 100ls      gas        std   \n",
              "..      ...        ...                       ...      ...        ...   \n",
              "200     201         -1           volvo 145e (sw)      gas        std   \n",
              "201     202         -1               volvo 144ea      gas      turbo   \n",
              "202     203         -1               volvo 244dl      gas        std   \n",
              "203     204         -1                 volvo 246   diesel      turbo   \n",
              "204     205         -1               volvo 264gl      gas      turbo   \n",
              "\n",
              "    doornumber      carbody drivewheel enginelocation  wheelbase  ...  \\\n",
              "0          two  convertible        rwd          front       88.6  ...   \n",
              "1          two  convertible        rwd          front       88.6  ...   \n",
              "2          two    hatchback        rwd          front       94.5  ...   \n",
              "3         four        sedan        fwd          front       99.8  ...   \n",
              "4         four        sedan        4wd          front       99.4  ...   \n",
              "..         ...          ...        ...            ...        ...  ...   \n",
              "200       four        sedan        rwd          front      109.1  ...   \n",
              "201       four        sedan        rwd          front      109.1  ...   \n",
              "202       four        sedan        rwd          front      109.1  ...   \n",
              "203       four        sedan        rwd          front      109.1  ...   \n",
              "204       four        sedan        rwd          front      109.1  ...   \n",
              "\n",
              "     enginesize  fuelsystem  boreratio  stroke compressionratio horsepower  \\\n",
              "0           130        mpfi       3.47    2.68              9.0        111   \n",
              "1           130        mpfi       3.47    2.68              9.0        111   \n",
              "2           152        mpfi       2.68    3.47              9.0        154   \n",
              "3           109        mpfi       3.19    3.40             10.0        102   \n",
              "4           136        mpfi       3.19    3.40              8.0        115   \n",
              "..          ...         ...        ...     ...              ...        ...   \n",
              "200         141        mpfi       3.78    3.15              9.5        114   \n",
              "201         141        mpfi       3.78    3.15              8.7        160   \n",
              "202         173        mpfi       3.58    2.87              8.8        134   \n",
              "203         145         idi       3.01    3.40             23.0        106   \n",
              "204         141        mpfi       3.78    3.15              9.5        114   \n",
              "\n",
              "     peakrpm citympg  highwaympg    price  \n",
              "0       5000      21          27  13495.0  \n",
              "1       5000      21          27  16500.0  \n",
              "2       5000      19          26  16500.0  \n",
              "3       5500      24          30  13950.0  \n",
              "4       5500      18          22  17450.0  \n",
              "..       ...     ...         ...      ...  \n",
              "200     5400      23          28  16845.0  \n",
              "201     5300      19          25  19045.0  \n",
              "202     5500      18          23  21485.0  \n",
              "203     4800      26          27  22470.0  \n",
              "204     5400      19          25  22625.0  \n",
              "\n",
              "[205 rows x 26 columns]"
            ],
            "text/html": [
              "\n",
              "  <div id=\"df-7615ccbd-9c1c-4298-850b-72390b5abcb0\">\n",
              "    <div class=\"colab-df-container\">\n",
              "      <div>\n",
              "<style scoped>\n",
              "    .dataframe tbody tr th:only-of-type {\n",
              "        vertical-align: middle;\n",
              "    }\n",
              "\n",
              "    .dataframe tbody tr th {\n",
              "        vertical-align: top;\n",
              "    }\n",
              "\n",
              "    .dataframe thead th {\n",
              "        text-align: right;\n",
              "    }\n",
              "</style>\n",
              "<table border=\"1\" class=\"dataframe\">\n",
              "  <thead>\n",
              "    <tr style=\"text-align: right;\">\n",
              "      <th></th>\n",
              "      <th>car_ID</th>\n",
              "      <th>symboling</th>\n",
              "      <th>CarName</th>\n",
              "      <th>fueltype</th>\n",
              "      <th>aspiration</th>\n",
              "      <th>doornumber</th>\n",
              "      <th>carbody</th>\n",
              "      <th>drivewheel</th>\n",
              "      <th>enginelocation</th>\n",
              "      <th>wheelbase</th>\n",
              "      <th>...</th>\n",
              "      <th>enginesize</th>\n",
              "      <th>fuelsystem</th>\n",
              "      <th>boreratio</th>\n",
              "      <th>stroke</th>\n",
              "      <th>compressionratio</th>\n",
              "      <th>horsepower</th>\n",
              "      <th>peakrpm</th>\n",
              "      <th>citympg</th>\n",
              "      <th>highwaympg</th>\n",
              "      <th>price</th>\n",
              "    </tr>\n",
              "  </thead>\n",
              "  <tbody>\n",
              "    <tr>\n",
              "      <th>0</th>\n",
              "      <td>1</td>\n",
              "      <td>3</td>\n",
              "      <td>alfa-romero giulia</td>\n",
              "      <td>gas</td>\n",
              "      <td>std</td>\n",
              "      <td>two</td>\n",
              "      <td>convertible</td>\n",
              "      <td>rwd</td>\n",
              "      <td>front</td>\n",
              "      <td>88.6</td>\n",
              "      <td>...</td>\n",
              "      <td>130</td>\n",
              "      <td>mpfi</td>\n",
              "      <td>3.47</td>\n",
              "      <td>2.68</td>\n",
              "      <td>9.0</td>\n",
              "      <td>111</td>\n",
              "      <td>5000</td>\n",
              "      <td>21</td>\n",
              "      <td>27</td>\n",
              "      <td>13495.0</td>\n",
              "    </tr>\n",
              "    <tr>\n",
              "      <th>1</th>\n",
              "      <td>2</td>\n",
              "      <td>3</td>\n",
              "      <td>alfa-romero stelvio</td>\n",
              "      <td>gas</td>\n",
              "      <td>std</td>\n",
              "      <td>two</td>\n",
              "      <td>convertible</td>\n",
              "      <td>rwd</td>\n",
              "      <td>front</td>\n",
              "      <td>88.6</td>\n",
              "      <td>...</td>\n",
              "      <td>130</td>\n",
              "      <td>mpfi</td>\n",
              "      <td>3.47</td>\n",
              "      <td>2.68</td>\n",
              "      <td>9.0</td>\n",
              "      <td>111</td>\n",
              "      <td>5000</td>\n",
              "      <td>21</td>\n",
              "      <td>27</td>\n",
              "      <td>16500.0</td>\n",
              "    </tr>\n",
              "    <tr>\n",
              "      <th>2</th>\n",
              "      <td>3</td>\n",
              "      <td>1</td>\n",
              "      <td>alfa-romero Quadrifoglio</td>\n",
              "      <td>gas</td>\n",
              "      <td>std</td>\n",
              "      <td>two</td>\n",
              "      <td>hatchback</td>\n",
              "      <td>rwd</td>\n",
              "      <td>front</td>\n",
              "      <td>94.5</td>\n",
              "      <td>...</td>\n",
              "      <td>152</td>\n",
              "      <td>mpfi</td>\n",
              "      <td>2.68</td>\n",
              "      <td>3.47</td>\n",
              "      <td>9.0</td>\n",
              "      <td>154</td>\n",
              "      <td>5000</td>\n",
              "      <td>19</td>\n",
              "      <td>26</td>\n",
              "      <td>16500.0</td>\n",
              "    </tr>\n",
              "    <tr>\n",
              "      <th>3</th>\n",
              "      <td>4</td>\n",
              "      <td>2</td>\n",
              "      <td>audi 100 ls</td>\n",
              "      <td>gas</td>\n",
              "      <td>std</td>\n",
              "      <td>four</td>\n",
              "      <td>sedan</td>\n",
              "      <td>fwd</td>\n",
              "      <td>front</td>\n",
              "      <td>99.8</td>\n",
              "      <td>...</td>\n",
              "      <td>109</td>\n",
              "      <td>mpfi</td>\n",
              "      <td>3.19</td>\n",
              "      <td>3.40</td>\n",
              "      <td>10.0</td>\n",
              "      <td>102</td>\n",
              "      <td>5500</td>\n",
              "      <td>24</td>\n",
              "      <td>30</td>\n",
              "      <td>13950.0</td>\n",
              "    </tr>\n",
              "    <tr>\n",
              "      <th>4</th>\n",
              "      <td>5</td>\n",
              "      <td>2</td>\n",
              "      <td>audi 100ls</td>\n",
              "      <td>gas</td>\n",
              "      <td>std</td>\n",
              "      <td>four</td>\n",
              "      <td>sedan</td>\n",
              "      <td>4wd</td>\n",
              "      <td>front</td>\n",
              "      <td>99.4</td>\n",
              "      <td>...</td>\n",
              "      <td>136</td>\n",
              "      <td>mpfi</td>\n",
              "      <td>3.19</td>\n",
              "      <td>3.40</td>\n",
              "      <td>8.0</td>\n",
              "      <td>115</td>\n",
              "      <td>5500</td>\n",
              "      <td>18</td>\n",
              "      <td>22</td>\n",
              "      <td>17450.0</td>\n",
              "    </tr>\n",
              "    <tr>\n",
              "      <th>...</th>\n",
              "      <td>...</td>\n",
              "      <td>...</td>\n",
              "      <td>...</td>\n",
              "      <td>...</td>\n",
              "      <td>...</td>\n",
              "      <td>...</td>\n",
              "      <td>...</td>\n",
              "      <td>...</td>\n",
              "      <td>...</td>\n",
              "      <td>...</td>\n",
              "      <td>...</td>\n",
              "      <td>...</td>\n",
              "      <td>...</td>\n",
              "      <td>...</td>\n",
              "      <td>...</td>\n",
              "      <td>...</td>\n",
              "      <td>...</td>\n",
              "      <td>...</td>\n",
              "      <td>...</td>\n",
              "      <td>...</td>\n",
              "      <td>...</td>\n",
              "    </tr>\n",
              "    <tr>\n",
              "      <th>200</th>\n",
              "      <td>201</td>\n",
              "      <td>-1</td>\n",
              "      <td>volvo 145e (sw)</td>\n",
              "      <td>gas</td>\n",
              "      <td>std</td>\n",
              "      <td>four</td>\n",
              "      <td>sedan</td>\n",
              "      <td>rwd</td>\n",
              "      <td>front</td>\n",
              "      <td>109.1</td>\n",
              "      <td>...</td>\n",
              "      <td>141</td>\n",
              "      <td>mpfi</td>\n",
              "      <td>3.78</td>\n",
              "      <td>3.15</td>\n",
              "      <td>9.5</td>\n",
              "      <td>114</td>\n",
              "      <td>5400</td>\n",
              "      <td>23</td>\n",
              "      <td>28</td>\n",
              "      <td>16845.0</td>\n",
              "    </tr>\n",
              "    <tr>\n",
              "      <th>201</th>\n",
              "      <td>202</td>\n",
              "      <td>-1</td>\n",
              "      <td>volvo 144ea</td>\n",
              "      <td>gas</td>\n",
              "      <td>turbo</td>\n",
              "      <td>four</td>\n",
              "      <td>sedan</td>\n",
              "      <td>rwd</td>\n",
              "      <td>front</td>\n",
              "      <td>109.1</td>\n",
              "      <td>...</td>\n",
              "      <td>141</td>\n",
              "      <td>mpfi</td>\n",
              "      <td>3.78</td>\n",
              "      <td>3.15</td>\n",
              "      <td>8.7</td>\n",
              "      <td>160</td>\n",
              "      <td>5300</td>\n",
              "      <td>19</td>\n",
              "      <td>25</td>\n",
              "      <td>19045.0</td>\n",
              "    </tr>\n",
              "    <tr>\n",
              "      <th>202</th>\n",
              "      <td>203</td>\n",
              "      <td>-1</td>\n",
              "      <td>volvo 244dl</td>\n",
              "      <td>gas</td>\n",
              "      <td>std</td>\n",
              "      <td>four</td>\n",
              "      <td>sedan</td>\n",
              "      <td>rwd</td>\n",
              "      <td>front</td>\n",
              "      <td>109.1</td>\n",
              "      <td>...</td>\n",
              "      <td>173</td>\n",
              "      <td>mpfi</td>\n",
              "      <td>3.58</td>\n",
              "      <td>2.87</td>\n",
              "      <td>8.8</td>\n",
              "      <td>134</td>\n",
              "      <td>5500</td>\n",
              "      <td>18</td>\n",
              "      <td>23</td>\n",
              "      <td>21485.0</td>\n",
              "    </tr>\n",
              "    <tr>\n",
              "      <th>203</th>\n",
              "      <td>204</td>\n",
              "      <td>-1</td>\n",
              "      <td>volvo 246</td>\n",
              "      <td>diesel</td>\n",
              "      <td>turbo</td>\n",
              "      <td>four</td>\n",
              "      <td>sedan</td>\n",
              "      <td>rwd</td>\n",
              "      <td>front</td>\n",
              "      <td>109.1</td>\n",
              "      <td>...</td>\n",
              "      <td>145</td>\n",
              "      <td>idi</td>\n",
              "      <td>3.01</td>\n",
              "      <td>3.40</td>\n",
              "      <td>23.0</td>\n",
              "      <td>106</td>\n",
              "      <td>4800</td>\n",
              "      <td>26</td>\n",
              "      <td>27</td>\n",
              "      <td>22470.0</td>\n",
              "    </tr>\n",
              "    <tr>\n",
              "      <th>204</th>\n",
              "      <td>205</td>\n",
              "      <td>-1</td>\n",
              "      <td>volvo 264gl</td>\n",
              "      <td>gas</td>\n",
              "      <td>turbo</td>\n",
              "      <td>four</td>\n",
              "      <td>sedan</td>\n",
              "      <td>rwd</td>\n",
              "      <td>front</td>\n",
              "      <td>109.1</td>\n",
              "      <td>...</td>\n",
              "      <td>141</td>\n",
              "      <td>mpfi</td>\n",
              "      <td>3.78</td>\n",
              "      <td>3.15</td>\n",
              "      <td>9.5</td>\n",
              "      <td>114</td>\n",
              "      <td>5400</td>\n",
              "      <td>19</td>\n",
              "      <td>25</td>\n",
              "      <td>22625.0</td>\n",
              "    </tr>\n",
              "  </tbody>\n",
              "</table>\n",
              "<p>205 rows × 26 columns</p>\n",
              "</div>\n",
              "      <button class=\"colab-df-convert\" onclick=\"convertToInteractive('df-7615ccbd-9c1c-4298-850b-72390b5abcb0')\"\n",
              "              title=\"Convert this dataframe to an interactive table.\"\n",
              "              style=\"display:none;\">\n",
              "        \n",
              "  <svg xmlns=\"http://www.w3.org/2000/svg\" height=\"24px\"viewBox=\"0 0 24 24\"\n",
              "       width=\"24px\">\n",
              "    <path d=\"M0 0h24v24H0V0z\" fill=\"none\"/>\n",
              "    <path d=\"M18.56 5.44l.94 2.06.94-2.06 2.06-.94-2.06-.94-.94-2.06-.94 2.06-2.06.94zm-11 1L8.5 8.5l.94-2.06 2.06-.94-2.06-.94L8.5 2.5l-.94 2.06-2.06.94zm10 10l.94 2.06.94-2.06 2.06-.94-2.06-.94-.94-2.06-.94 2.06-2.06.94z\"/><path d=\"M17.41 7.96l-1.37-1.37c-.4-.4-.92-.59-1.43-.59-.52 0-1.04.2-1.43.59L10.3 9.45l-7.72 7.72c-.78.78-.78 2.05 0 2.83L4 21.41c.39.39.9.59 1.41.59.51 0 1.02-.2 1.41-.59l7.78-7.78 2.81-2.81c.8-.78.8-2.07 0-2.86zM5.41 20L4 18.59l7.72-7.72 1.47 1.35L5.41 20z\"/>\n",
              "  </svg>\n",
              "      </button>\n",
              "      \n",
              "  <style>\n",
              "    .colab-df-container {\n",
              "      display:flex;\n",
              "      flex-wrap:wrap;\n",
              "      gap: 12px;\n",
              "    }\n",
              "\n",
              "    .colab-df-convert {\n",
              "      background-color: #E8F0FE;\n",
              "      border: none;\n",
              "      border-radius: 50%;\n",
              "      cursor: pointer;\n",
              "      display: none;\n",
              "      fill: #1967D2;\n",
              "      height: 32px;\n",
              "      padding: 0 0 0 0;\n",
              "      width: 32px;\n",
              "    }\n",
              "\n",
              "    .colab-df-convert:hover {\n",
              "      background-color: #E2EBFA;\n",
              "      box-shadow: 0px 1px 2px rgba(60, 64, 67, 0.3), 0px 1px 3px 1px rgba(60, 64, 67, 0.15);\n",
              "      fill: #174EA6;\n",
              "    }\n",
              "\n",
              "    [theme=dark] .colab-df-convert {\n",
              "      background-color: #3B4455;\n",
              "      fill: #D2E3FC;\n",
              "    }\n",
              "\n",
              "    [theme=dark] .colab-df-convert:hover {\n",
              "      background-color: #434B5C;\n",
              "      box-shadow: 0px 1px 3px 1px rgba(0, 0, 0, 0.15);\n",
              "      filter: drop-shadow(0px 1px 2px rgba(0, 0, 0, 0.3));\n",
              "      fill: #FFFFFF;\n",
              "    }\n",
              "  </style>\n",
              "\n",
              "      <script>\n",
              "        const buttonEl =\n",
              "          document.querySelector('#df-7615ccbd-9c1c-4298-850b-72390b5abcb0 button.colab-df-convert');\n",
              "        buttonEl.style.display =\n",
              "          google.colab.kernel.accessAllowed ? 'block' : 'none';\n",
              "\n",
              "        async function convertToInteractive(key) {\n",
              "          const element = document.querySelector('#df-7615ccbd-9c1c-4298-850b-72390b5abcb0');\n",
              "          const dataTable =\n",
              "            await google.colab.kernel.invokeFunction('convertToInteractive',\n",
              "                                                     [key], {});\n",
              "          if (!dataTable) return;\n",
              "\n",
              "          const docLinkHtml = 'Like what you see? Visit the ' +\n",
              "            '<a target=\"_blank\" href=https://colab.research.google.com/notebooks/data_table.ipynb>data table notebook</a>'\n",
              "            + ' to learn more about interactive tables.';\n",
              "          element.innerHTML = '';\n",
              "          dataTable['output_type'] = 'display_data';\n",
              "          await google.colab.output.renderOutput(dataTable, element);\n",
              "          const docLink = document.createElement('div');\n",
              "          docLink.innerHTML = docLinkHtml;\n",
              "          element.appendChild(docLink);\n",
              "        }\n",
              "      </script>\n",
              "    </div>\n",
              "  </div>\n",
              "  "
            ]
          },
          "metadata": {},
          "execution_count": 7
        }
      ]
    },
    {
      "cell_type": "code",
      "source": [
        "import random\n",
        "random.seed(8)"
      ],
      "metadata": {
        "id": "fsDuz12LPaJ2"
      },
      "execution_count": null,
      "outputs": []
    },
    {
      "cell_type": "code",
      "source": [
        "df.dtypes\n"
      ],
      "metadata": {
        "id": "QhNowkPbxb83",
        "colab": {
          "base_uri": "https://localhost:8080/"
        },
        "outputId": "b083e67c-b93b-46f1-c64a-f2cc3a031938"
      },
      "execution_count": null,
      "outputs": [
        {
          "output_type": "execute_result",
          "data": {
            "text/plain": [
              "car_ID                int64\n",
              "symboling             int64\n",
              "CarName              object\n",
              "fueltype             object\n",
              "aspiration           object\n",
              "doornumber           object\n",
              "carbody              object\n",
              "drivewheel           object\n",
              "enginelocation       object\n",
              "wheelbase           float64\n",
              "carlength           float64\n",
              "carwidth            float64\n",
              "carheight           float64\n",
              "curbweight            int64\n",
              "enginetype           object\n",
              "cylindernumber       object\n",
              "enginesize            int64\n",
              "fuelsystem           object\n",
              "boreratio           float64\n",
              "stroke              float64\n",
              "compressionratio    float64\n",
              "horsepower            int64\n",
              "peakrpm               int64\n",
              "citympg               int64\n",
              "highwaympg            int64\n",
              "price               float64\n",
              "dtype: object"
            ]
          },
          "metadata": {},
          "execution_count": 9
        }
      ]
    },
    {
      "cell_type": "code",
      "source": [
        "df.describe()"
      ],
      "metadata": {
        "colab": {
          "base_uri": "https://localhost:8080/"
        },
        "id": "hkGldQN9xi4i",
        "outputId": "94002d14-e2f3-40d8-880e-d6c8a4121258"
      },
      "execution_count": null,
      "outputs": [
        {
          "output_type": "execute_result",
          "data": {
            "text/plain": [
              "           car_ID   symboling   wheelbase   carlength    carwidth   carheight  \\\n",
              "count  205.000000  205.000000  205.000000  205.000000  205.000000  205.000000   \n",
              "mean   103.000000    0.834146   98.756585  174.049268   65.907805   53.724878   \n",
              "std     59.322565    1.245307    6.021776   12.337289    2.145204    2.443522   \n",
              "min      1.000000   -2.000000   86.600000  141.100000   60.300000   47.800000   \n",
              "25%     52.000000    0.000000   94.500000  166.300000   64.100000   52.000000   \n",
              "50%    103.000000    1.000000   97.000000  173.200000   65.500000   54.100000   \n",
              "75%    154.000000    2.000000  102.400000  183.100000   66.900000   55.500000   \n",
              "max    205.000000    3.000000  120.900000  208.100000   72.300000   59.800000   \n",
              "\n",
              "        curbweight  enginesize   boreratio      stroke  compressionratio  \\\n",
              "count   205.000000  205.000000  205.000000  205.000000        205.000000   \n",
              "mean   2555.565854  126.907317    3.329756    3.255415         10.142537   \n",
              "std     520.680204   41.642693    0.270844    0.313597          3.972040   \n",
              "min    1488.000000   61.000000    2.540000    2.070000          7.000000   \n",
              "25%    2145.000000   97.000000    3.150000    3.110000          8.600000   \n",
              "50%    2414.000000  120.000000    3.310000    3.290000          9.000000   \n",
              "75%    2935.000000  141.000000    3.580000    3.410000          9.400000   \n",
              "max    4066.000000  326.000000    3.940000    4.170000         23.000000   \n",
              "\n",
              "       horsepower      peakrpm     citympg  highwaympg         price  \n",
              "count  205.000000   205.000000  205.000000  205.000000    205.000000  \n",
              "mean   104.117073  5125.121951   25.219512   30.751220  13276.710571  \n",
              "std     39.544167   476.985643    6.542142    6.886443   7988.852332  \n",
              "min     48.000000  4150.000000   13.000000   16.000000   5118.000000  \n",
              "25%     70.000000  4800.000000   19.000000   25.000000   7788.000000  \n",
              "50%     95.000000  5200.000000   24.000000   30.000000  10295.000000  \n",
              "75%    116.000000  5500.000000   30.000000   34.000000  16503.000000  \n",
              "max    288.000000  6600.000000   49.000000   54.000000  45400.000000  "
            ],
            "text/html": [
              "\n",
              "  <div id=\"df-8261399a-d139-441b-8bff-b24dffb80e6b\">\n",
              "    <div class=\"colab-df-container\">\n",
              "      <div>\n",
              "<style scoped>\n",
              "    .dataframe tbody tr th:only-of-type {\n",
              "        vertical-align: middle;\n",
              "    }\n",
              "\n",
              "    .dataframe tbody tr th {\n",
              "        vertical-align: top;\n",
              "    }\n",
              "\n",
              "    .dataframe thead th {\n",
              "        text-align: right;\n",
              "    }\n",
              "</style>\n",
              "<table border=\"1\" class=\"dataframe\">\n",
              "  <thead>\n",
              "    <tr style=\"text-align: right;\">\n",
              "      <th></th>\n",
              "      <th>car_ID</th>\n",
              "      <th>symboling</th>\n",
              "      <th>wheelbase</th>\n",
              "      <th>carlength</th>\n",
              "      <th>carwidth</th>\n",
              "      <th>carheight</th>\n",
              "      <th>curbweight</th>\n",
              "      <th>enginesize</th>\n",
              "      <th>boreratio</th>\n",
              "      <th>stroke</th>\n",
              "      <th>compressionratio</th>\n",
              "      <th>horsepower</th>\n",
              "      <th>peakrpm</th>\n",
              "      <th>citympg</th>\n",
              "      <th>highwaympg</th>\n",
              "      <th>price</th>\n",
              "    </tr>\n",
              "  </thead>\n",
              "  <tbody>\n",
              "    <tr>\n",
              "      <th>count</th>\n",
              "      <td>205.000000</td>\n",
              "      <td>205.000000</td>\n",
              "      <td>205.000000</td>\n",
              "      <td>205.000000</td>\n",
              "      <td>205.000000</td>\n",
              "      <td>205.000000</td>\n",
              "      <td>205.000000</td>\n",
              "      <td>205.000000</td>\n",
              "      <td>205.000000</td>\n",
              "      <td>205.000000</td>\n",
              "      <td>205.000000</td>\n",
              "      <td>205.000000</td>\n",
              "      <td>205.000000</td>\n",
              "      <td>205.000000</td>\n",
              "      <td>205.000000</td>\n",
              "      <td>205.000000</td>\n",
              "    </tr>\n",
              "    <tr>\n",
              "      <th>mean</th>\n",
              "      <td>103.000000</td>\n",
              "      <td>0.834146</td>\n",
              "      <td>98.756585</td>\n",
              "      <td>174.049268</td>\n",
              "      <td>65.907805</td>\n",
              "      <td>53.724878</td>\n",
              "      <td>2555.565854</td>\n",
              "      <td>126.907317</td>\n",
              "      <td>3.329756</td>\n",
              "      <td>3.255415</td>\n",
              "      <td>10.142537</td>\n",
              "      <td>104.117073</td>\n",
              "      <td>5125.121951</td>\n",
              "      <td>25.219512</td>\n",
              "      <td>30.751220</td>\n",
              "      <td>13276.710571</td>\n",
              "    </tr>\n",
              "    <tr>\n",
              "      <th>std</th>\n",
              "      <td>59.322565</td>\n",
              "      <td>1.245307</td>\n",
              "      <td>6.021776</td>\n",
              "      <td>12.337289</td>\n",
              "      <td>2.145204</td>\n",
              "      <td>2.443522</td>\n",
              "      <td>520.680204</td>\n",
              "      <td>41.642693</td>\n",
              "      <td>0.270844</td>\n",
              "      <td>0.313597</td>\n",
              "      <td>3.972040</td>\n",
              "      <td>39.544167</td>\n",
              "      <td>476.985643</td>\n",
              "      <td>6.542142</td>\n",
              "      <td>6.886443</td>\n",
              "      <td>7988.852332</td>\n",
              "    </tr>\n",
              "    <tr>\n",
              "      <th>min</th>\n",
              "      <td>1.000000</td>\n",
              "      <td>-2.000000</td>\n",
              "      <td>86.600000</td>\n",
              "      <td>141.100000</td>\n",
              "      <td>60.300000</td>\n",
              "      <td>47.800000</td>\n",
              "      <td>1488.000000</td>\n",
              "      <td>61.000000</td>\n",
              "      <td>2.540000</td>\n",
              "      <td>2.070000</td>\n",
              "      <td>7.000000</td>\n",
              "      <td>48.000000</td>\n",
              "      <td>4150.000000</td>\n",
              "      <td>13.000000</td>\n",
              "      <td>16.000000</td>\n",
              "      <td>5118.000000</td>\n",
              "    </tr>\n",
              "    <tr>\n",
              "      <th>25%</th>\n",
              "      <td>52.000000</td>\n",
              "      <td>0.000000</td>\n",
              "      <td>94.500000</td>\n",
              "      <td>166.300000</td>\n",
              "      <td>64.100000</td>\n",
              "      <td>52.000000</td>\n",
              "      <td>2145.000000</td>\n",
              "      <td>97.000000</td>\n",
              "      <td>3.150000</td>\n",
              "      <td>3.110000</td>\n",
              "      <td>8.600000</td>\n",
              "      <td>70.000000</td>\n",
              "      <td>4800.000000</td>\n",
              "      <td>19.000000</td>\n",
              "      <td>25.000000</td>\n",
              "      <td>7788.000000</td>\n",
              "    </tr>\n",
              "    <tr>\n",
              "      <th>50%</th>\n",
              "      <td>103.000000</td>\n",
              "      <td>1.000000</td>\n",
              "      <td>97.000000</td>\n",
              "      <td>173.200000</td>\n",
              "      <td>65.500000</td>\n",
              "      <td>54.100000</td>\n",
              "      <td>2414.000000</td>\n",
              "      <td>120.000000</td>\n",
              "      <td>3.310000</td>\n",
              "      <td>3.290000</td>\n",
              "      <td>9.000000</td>\n",
              "      <td>95.000000</td>\n",
              "      <td>5200.000000</td>\n",
              "      <td>24.000000</td>\n",
              "      <td>30.000000</td>\n",
              "      <td>10295.000000</td>\n",
              "    </tr>\n",
              "    <tr>\n",
              "      <th>75%</th>\n",
              "      <td>154.000000</td>\n",
              "      <td>2.000000</td>\n",
              "      <td>102.400000</td>\n",
              "      <td>183.100000</td>\n",
              "      <td>66.900000</td>\n",
              "      <td>55.500000</td>\n",
              "      <td>2935.000000</td>\n",
              "      <td>141.000000</td>\n",
              "      <td>3.580000</td>\n",
              "      <td>3.410000</td>\n",
              "      <td>9.400000</td>\n",
              "      <td>116.000000</td>\n",
              "      <td>5500.000000</td>\n",
              "      <td>30.000000</td>\n",
              "      <td>34.000000</td>\n",
              "      <td>16503.000000</td>\n",
              "    </tr>\n",
              "    <tr>\n",
              "      <th>max</th>\n",
              "      <td>205.000000</td>\n",
              "      <td>3.000000</td>\n",
              "      <td>120.900000</td>\n",
              "      <td>208.100000</td>\n",
              "      <td>72.300000</td>\n",
              "      <td>59.800000</td>\n",
              "      <td>4066.000000</td>\n",
              "      <td>326.000000</td>\n",
              "      <td>3.940000</td>\n",
              "      <td>4.170000</td>\n",
              "      <td>23.000000</td>\n",
              "      <td>288.000000</td>\n",
              "      <td>6600.000000</td>\n",
              "      <td>49.000000</td>\n",
              "      <td>54.000000</td>\n",
              "      <td>45400.000000</td>\n",
              "    </tr>\n",
              "  </tbody>\n",
              "</table>\n",
              "</div>\n",
              "      <button class=\"colab-df-convert\" onclick=\"convertToInteractive('df-8261399a-d139-441b-8bff-b24dffb80e6b')\"\n",
              "              title=\"Convert this dataframe to an interactive table.\"\n",
              "              style=\"display:none;\">\n",
              "        \n",
              "  <svg xmlns=\"http://www.w3.org/2000/svg\" height=\"24px\"viewBox=\"0 0 24 24\"\n",
              "       width=\"24px\">\n",
              "    <path d=\"M0 0h24v24H0V0z\" fill=\"none\"/>\n",
              "    <path d=\"M18.56 5.44l.94 2.06.94-2.06 2.06-.94-2.06-.94-.94-2.06-.94 2.06-2.06.94zm-11 1L8.5 8.5l.94-2.06 2.06-.94-2.06-.94L8.5 2.5l-.94 2.06-2.06.94zm10 10l.94 2.06.94-2.06 2.06-.94-2.06-.94-.94-2.06-.94 2.06-2.06.94z\"/><path d=\"M17.41 7.96l-1.37-1.37c-.4-.4-.92-.59-1.43-.59-.52 0-1.04.2-1.43.59L10.3 9.45l-7.72 7.72c-.78.78-.78 2.05 0 2.83L4 21.41c.39.39.9.59 1.41.59.51 0 1.02-.2 1.41-.59l7.78-7.78 2.81-2.81c.8-.78.8-2.07 0-2.86zM5.41 20L4 18.59l7.72-7.72 1.47 1.35L5.41 20z\"/>\n",
              "  </svg>\n",
              "      </button>\n",
              "      \n",
              "  <style>\n",
              "    .colab-df-container {\n",
              "      display:flex;\n",
              "      flex-wrap:wrap;\n",
              "      gap: 12px;\n",
              "    }\n",
              "\n",
              "    .colab-df-convert {\n",
              "      background-color: #E8F0FE;\n",
              "      border: none;\n",
              "      border-radius: 50%;\n",
              "      cursor: pointer;\n",
              "      display: none;\n",
              "      fill: #1967D2;\n",
              "      height: 32px;\n",
              "      padding: 0 0 0 0;\n",
              "      width: 32px;\n",
              "    }\n",
              "\n",
              "    .colab-df-convert:hover {\n",
              "      background-color: #E2EBFA;\n",
              "      box-shadow: 0px 1px 2px rgba(60, 64, 67, 0.3), 0px 1px 3px 1px rgba(60, 64, 67, 0.15);\n",
              "      fill: #174EA6;\n",
              "    }\n",
              "\n",
              "    [theme=dark] .colab-df-convert {\n",
              "      background-color: #3B4455;\n",
              "      fill: #D2E3FC;\n",
              "    }\n",
              "\n",
              "    [theme=dark] .colab-df-convert:hover {\n",
              "      background-color: #434B5C;\n",
              "      box-shadow: 0px 1px 3px 1px rgba(0, 0, 0, 0.15);\n",
              "      filter: drop-shadow(0px 1px 2px rgba(0, 0, 0, 0.3));\n",
              "      fill: #FFFFFF;\n",
              "    }\n",
              "  </style>\n",
              "\n",
              "      <script>\n",
              "        const buttonEl =\n",
              "          document.querySelector('#df-8261399a-d139-441b-8bff-b24dffb80e6b button.colab-df-convert');\n",
              "        buttonEl.style.display =\n",
              "          google.colab.kernel.accessAllowed ? 'block' : 'none';\n",
              "\n",
              "        async function convertToInteractive(key) {\n",
              "          const element = document.querySelector('#df-8261399a-d139-441b-8bff-b24dffb80e6b');\n",
              "          const dataTable =\n",
              "            await google.colab.kernel.invokeFunction('convertToInteractive',\n",
              "                                                     [key], {});\n",
              "          if (!dataTable) return;\n",
              "\n",
              "          const docLinkHtml = 'Like what you see? Visit the ' +\n",
              "            '<a target=\"_blank\" href=https://colab.research.google.com/notebooks/data_table.ipynb>data table notebook</a>'\n",
              "            + ' to learn more about interactive tables.';\n",
              "          element.innerHTML = '';\n",
              "          dataTable['output_type'] = 'display_data';\n",
              "          await google.colab.output.renderOutput(dataTable, element);\n",
              "          const docLink = document.createElement('div');\n",
              "          docLink.innerHTML = docLinkHtml;\n",
              "          element.appendChild(docLink);\n",
              "        }\n",
              "      </script>\n",
              "    </div>\n",
              "  </div>\n",
              "  "
            ]
          },
          "metadata": {},
          "execution_count": 10
        }
      ]
    },
    {
      "cell_type": "code",
      "source": [
        "df.isnull().values.any()"
      ],
      "metadata": {
        "colab": {
          "base_uri": "https://localhost:8080/"
        },
        "id": "d0s8m083yKpI",
        "outputId": "e05eaf95-889a-4d4c-f44b-ce362a382d4b"
      },
      "execution_count": null,
      "outputs": [
        {
          "output_type": "execute_result",
          "data": {
            "text/plain": [
              "False"
            ]
          },
          "metadata": {},
          "execution_count": 11
        }
      ]
    },
    {
      "cell_type": "code",
      "source": [
        "df[['Marca','Modelo']] = df.CarName.apply(lambda x: pd.Series(str(x).split(\" \", 1)))"
      ],
      "metadata": {
        "id": "3t89722ipsh8"
      },
      "execution_count": null,
      "outputs": []
    },
    {
      "cell_type": "code",
      "source": [
        "df.head()"
      ],
      "metadata": {
        "colab": {
          "base_uri": "https://localhost:8080/"
        },
        "id": "IjzSXg2opu97",
        "outputId": "0b00c560-e5df-4d2f-b11c-6f34f220661e"
      },
      "execution_count": null,
      "outputs": [
        {
          "output_type": "execute_result",
          "data": {
            "text/plain": [
              "   car_ID  symboling                   CarName fueltype aspiration doornumber  \\\n",
              "0       1          3        alfa-romero giulia      gas        std        two   \n",
              "1       2          3       alfa-romero stelvio      gas        std        two   \n",
              "2       3          1  alfa-romero Quadrifoglio      gas        std        two   \n",
              "3       4          2               audi 100 ls      gas        std       four   \n",
              "4       5          2                audi 100ls      gas        std       four   \n",
              "\n",
              "       carbody drivewheel enginelocation  wheelbase  ...  boreratio  stroke  \\\n",
              "0  convertible        rwd          front       88.6  ...       3.47    2.68   \n",
              "1  convertible        rwd          front       88.6  ...       3.47    2.68   \n",
              "2    hatchback        rwd          front       94.5  ...       2.68    3.47   \n",
              "3        sedan        fwd          front       99.8  ...       3.19    3.40   \n",
              "4        sedan        4wd          front       99.4  ...       3.19    3.40   \n",
              "\n",
              "   compressionratio  horsepower peakrpm citympg  highwaympg    price  \\\n",
              "0               9.0         111    5000      21          27  13495.0   \n",
              "1               9.0         111    5000      21          27  16500.0   \n",
              "2               9.0         154    5000      19          26  16500.0   \n",
              "3              10.0         102    5500      24          30  13950.0   \n",
              "4               8.0         115    5500      18          22  17450.0   \n",
              "\n",
              "         Marca        Modelo  \n",
              "0  alfa-romero        giulia  \n",
              "1  alfa-romero       stelvio  \n",
              "2  alfa-romero  Quadrifoglio  \n",
              "3         audi        100 ls  \n",
              "4         audi         100ls  \n",
              "\n",
              "[5 rows x 28 columns]"
            ],
            "text/html": [
              "\n",
              "  <div id=\"df-077f1f10-cc68-423c-bd1b-baec1d7aff98\">\n",
              "    <div class=\"colab-df-container\">\n",
              "      <div>\n",
              "<style scoped>\n",
              "    .dataframe tbody tr th:only-of-type {\n",
              "        vertical-align: middle;\n",
              "    }\n",
              "\n",
              "    .dataframe tbody tr th {\n",
              "        vertical-align: top;\n",
              "    }\n",
              "\n",
              "    .dataframe thead th {\n",
              "        text-align: right;\n",
              "    }\n",
              "</style>\n",
              "<table border=\"1\" class=\"dataframe\">\n",
              "  <thead>\n",
              "    <tr style=\"text-align: right;\">\n",
              "      <th></th>\n",
              "      <th>car_ID</th>\n",
              "      <th>symboling</th>\n",
              "      <th>CarName</th>\n",
              "      <th>fueltype</th>\n",
              "      <th>aspiration</th>\n",
              "      <th>doornumber</th>\n",
              "      <th>carbody</th>\n",
              "      <th>drivewheel</th>\n",
              "      <th>enginelocation</th>\n",
              "      <th>wheelbase</th>\n",
              "      <th>...</th>\n",
              "      <th>boreratio</th>\n",
              "      <th>stroke</th>\n",
              "      <th>compressionratio</th>\n",
              "      <th>horsepower</th>\n",
              "      <th>peakrpm</th>\n",
              "      <th>citympg</th>\n",
              "      <th>highwaympg</th>\n",
              "      <th>price</th>\n",
              "      <th>Marca</th>\n",
              "      <th>Modelo</th>\n",
              "    </tr>\n",
              "  </thead>\n",
              "  <tbody>\n",
              "    <tr>\n",
              "      <th>0</th>\n",
              "      <td>1</td>\n",
              "      <td>3</td>\n",
              "      <td>alfa-romero giulia</td>\n",
              "      <td>gas</td>\n",
              "      <td>std</td>\n",
              "      <td>two</td>\n",
              "      <td>convertible</td>\n",
              "      <td>rwd</td>\n",
              "      <td>front</td>\n",
              "      <td>88.6</td>\n",
              "      <td>...</td>\n",
              "      <td>3.47</td>\n",
              "      <td>2.68</td>\n",
              "      <td>9.0</td>\n",
              "      <td>111</td>\n",
              "      <td>5000</td>\n",
              "      <td>21</td>\n",
              "      <td>27</td>\n",
              "      <td>13495.0</td>\n",
              "      <td>alfa-romero</td>\n",
              "      <td>giulia</td>\n",
              "    </tr>\n",
              "    <tr>\n",
              "      <th>1</th>\n",
              "      <td>2</td>\n",
              "      <td>3</td>\n",
              "      <td>alfa-romero stelvio</td>\n",
              "      <td>gas</td>\n",
              "      <td>std</td>\n",
              "      <td>two</td>\n",
              "      <td>convertible</td>\n",
              "      <td>rwd</td>\n",
              "      <td>front</td>\n",
              "      <td>88.6</td>\n",
              "      <td>...</td>\n",
              "      <td>3.47</td>\n",
              "      <td>2.68</td>\n",
              "      <td>9.0</td>\n",
              "      <td>111</td>\n",
              "      <td>5000</td>\n",
              "      <td>21</td>\n",
              "      <td>27</td>\n",
              "      <td>16500.0</td>\n",
              "      <td>alfa-romero</td>\n",
              "      <td>stelvio</td>\n",
              "    </tr>\n",
              "    <tr>\n",
              "      <th>2</th>\n",
              "      <td>3</td>\n",
              "      <td>1</td>\n",
              "      <td>alfa-romero Quadrifoglio</td>\n",
              "      <td>gas</td>\n",
              "      <td>std</td>\n",
              "      <td>two</td>\n",
              "      <td>hatchback</td>\n",
              "      <td>rwd</td>\n",
              "      <td>front</td>\n",
              "      <td>94.5</td>\n",
              "      <td>...</td>\n",
              "      <td>2.68</td>\n",
              "      <td>3.47</td>\n",
              "      <td>9.0</td>\n",
              "      <td>154</td>\n",
              "      <td>5000</td>\n",
              "      <td>19</td>\n",
              "      <td>26</td>\n",
              "      <td>16500.0</td>\n",
              "      <td>alfa-romero</td>\n",
              "      <td>Quadrifoglio</td>\n",
              "    </tr>\n",
              "    <tr>\n",
              "      <th>3</th>\n",
              "      <td>4</td>\n",
              "      <td>2</td>\n",
              "      <td>audi 100 ls</td>\n",
              "      <td>gas</td>\n",
              "      <td>std</td>\n",
              "      <td>four</td>\n",
              "      <td>sedan</td>\n",
              "      <td>fwd</td>\n",
              "      <td>front</td>\n",
              "      <td>99.8</td>\n",
              "      <td>...</td>\n",
              "      <td>3.19</td>\n",
              "      <td>3.40</td>\n",
              "      <td>10.0</td>\n",
              "      <td>102</td>\n",
              "      <td>5500</td>\n",
              "      <td>24</td>\n",
              "      <td>30</td>\n",
              "      <td>13950.0</td>\n",
              "      <td>audi</td>\n",
              "      <td>100 ls</td>\n",
              "    </tr>\n",
              "    <tr>\n",
              "      <th>4</th>\n",
              "      <td>5</td>\n",
              "      <td>2</td>\n",
              "      <td>audi 100ls</td>\n",
              "      <td>gas</td>\n",
              "      <td>std</td>\n",
              "      <td>four</td>\n",
              "      <td>sedan</td>\n",
              "      <td>4wd</td>\n",
              "      <td>front</td>\n",
              "      <td>99.4</td>\n",
              "      <td>...</td>\n",
              "      <td>3.19</td>\n",
              "      <td>3.40</td>\n",
              "      <td>8.0</td>\n",
              "      <td>115</td>\n",
              "      <td>5500</td>\n",
              "      <td>18</td>\n",
              "      <td>22</td>\n",
              "      <td>17450.0</td>\n",
              "      <td>audi</td>\n",
              "      <td>100ls</td>\n",
              "    </tr>\n",
              "  </tbody>\n",
              "</table>\n",
              "<p>5 rows × 28 columns</p>\n",
              "</div>\n",
              "      <button class=\"colab-df-convert\" onclick=\"convertToInteractive('df-077f1f10-cc68-423c-bd1b-baec1d7aff98')\"\n",
              "              title=\"Convert this dataframe to an interactive table.\"\n",
              "              style=\"display:none;\">\n",
              "        \n",
              "  <svg xmlns=\"http://www.w3.org/2000/svg\" height=\"24px\"viewBox=\"0 0 24 24\"\n",
              "       width=\"24px\">\n",
              "    <path d=\"M0 0h24v24H0V0z\" fill=\"none\"/>\n",
              "    <path d=\"M18.56 5.44l.94 2.06.94-2.06 2.06-.94-2.06-.94-.94-2.06-.94 2.06-2.06.94zm-11 1L8.5 8.5l.94-2.06 2.06-.94-2.06-.94L8.5 2.5l-.94 2.06-2.06.94zm10 10l.94 2.06.94-2.06 2.06-.94-2.06-.94-.94-2.06-.94 2.06-2.06.94z\"/><path d=\"M17.41 7.96l-1.37-1.37c-.4-.4-.92-.59-1.43-.59-.52 0-1.04.2-1.43.59L10.3 9.45l-7.72 7.72c-.78.78-.78 2.05 0 2.83L4 21.41c.39.39.9.59 1.41.59.51 0 1.02-.2 1.41-.59l7.78-7.78 2.81-2.81c.8-.78.8-2.07 0-2.86zM5.41 20L4 18.59l7.72-7.72 1.47 1.35L5.41 20z\"/>\n",
              "  </svg>\n",
              "      </button>\n",
              "      \n",
              "  <style>\n",
              "    .colab-df-container {\n",
              "      display:flex;\n",
              "      flex-wrap:wrap;\n",
              "      gap: 12px;\n",
              "    }\n",
              "\n",
              "    .colab-df-convert {\n",
              "      background-color: #E8F0FE;\n",
              "      border: none;\n",
              "      border-radius: 50%;\n",
              "      cursor: pointer;\n",
              "      display: none;\n",
              "      fill: #1967D2;\n",
              "      height: 32px;\n",
              "      padding: 0 0 0 0;\n",
              "      width: 32px;\n",
              "    }\n",
              "\n",
              "    .colab-df-convert:hover {\n",
              "      background-color: #E2EBFA;\n",
              "      box-shadow: 0px 1px 2px rgba(60, 64, 67, 0.3), 0px 1px 3px 1px rgba(60, 64, 67, 0.15);\n",
              "      fill: #174EA6;\n",
              "    }\n",
              "\n",
              "    [theme=dark] .colab-df-convert {\n",
              "      background-color: #3B4455;\n",
              "      fill: #D2E3FC;\n",
              "    }\n",
              "\n",
              "    [theme=dark] .colab-df-convert:hover {\n",
              "      background-color: #434B5C;\n",
              "      box-shadow: 0px 1px 3px 1px rgba(0, 0, 0, 0.15);\n",
              "      filter: drop-shadow(0px 1px 2px rgba(0, 0, 0, 0.3));\n",
              "      fill: #FFFFFF;\n",
              "    }\n",
              "  </style>\n",
              "\n",
              "      <script>\n",
              "        const buttonEl =\n",
              "          document.querySelector('#df-077f1f10-cc68-423c-bd1b-baec1d7aff98 button.colab-df-convert');\n",
              "        buttonEl.style.display =\n",
              "          google.colab.kernel.accessAllowed ? 'block' : 'none';\n",
              "\n",
              "        async function convertToInteractive(key) {\n",
              "          const element = document.querySelector('#df-077f1f10-cc68-423c-bd1b-baec1d7aff98');\n",
              "          const dataTable =\n",
              "            await google.colab.kernel.invokeFunction('convertToInteractive',\n",
              "                                                     [key], {});\n",
              "          if (!dataTable) return;\n",
              "\n",
              "          const docLinkHtml = 'Like what you see? Visit the ' +\n",
              "            '<a target=\"_blank\" href=https://colab.research.google.com/notebooks/data_table.ipynb>data table notebook</a>'\n",
              "            + ' to learn more about interactive tables.';\n",
              "          element.innerHTML = '';\n",
              "          dataTable['output_type'] = 'display_data';\n",
              "          await google.colab.output.renderOutput(dataTable, element);\n",
              "          const docLink = document.createElement('div');\n",
              "          docLink.innerHTML = docLinkHtml;\n",
              "          element.appendChild(docLink);\n",
              "        }\n",
              "      </script>\n",
              "    </div>\n",
              "  </div>\n",
              "  "
            ]
          },
          "metadata": {},
          "execution_count": 13
        }
      ]
    },
    {
      "cell_type": "code",
      "source": [
        "df.info"
      ],
      "metadata": {
        "colab": {
          "base_uri": "https://localhost:8080/"
        },
        "id": "Cc-AF1rc1vZC",
        "outputId": "6785bb8e-4381-4e3d-9c67-83f39dbfe857"
      },
      "execution_count": null,
      "outputs": [
        {
          "output_type": "execute_result",
          "data": {
            "text/plain": [
              "<bound method DataFrame.info of      car_ID  symboling                   CarName fueltype aspiration  \\\n",
              "0         1          3        alfa-romero giulia      gas        std   \n",
              "1         2          3       alfa-romero stelvio      gas        std   \n",
              "2         3          1  alfa-romero Quadrifoglio      gas        std   \n",
              "3         4          2               audi 100 ls      gas        std   \n",
              "4         5          2                audi 100ls      gas        std   \n",
              "..      ...        ...                       ...      ...        ...   \n",
              "200     201         -1           volvo 145e (sw)      gas        std   \n",
              "201     202         -1               volvo 144ea      gas      turbo   \n",
              "202     203         -1               volvo 244dl      gas        std   \n",
              "203     204         -1                 volvo 246   diesel      turbo   \n",
              "204     205         -1               volvo 264gl      gas      turbo   \n",
              "\n",
              "    doornumber      carbody drivewheel enginelocation  wheelbase  ...  \\\n",
              "0          two  convertible        rwd          front       88.6  ...   \n",
              "1          two  convertible        rwd          front       88.6  ...   \n",
              "2          two    hatchback        rwd          front       94.5  ...   \n",
              "3         four        sedan        fwd          front       99.8  ...   \n",
              "4         four        sedan        4wd          front       99.4  ...   \n",
              "..         ...          ...        ...            ...        ...  ...   \n",
              "200       four        sedan        rwd          front      109.1  ...   \n",
              "201       four        sedan        rwd          front      109.1  ...   \n",
              "202       four        sedan        rwd          front      109.1  ...   \n",
              "203       four        sedan        rwd          front      109.1  ...   \n",
              "204       four        sedan        rwd          front      109.1  ...   \n",
              "\n",
              "     boreratio  stroke  compressionratio  horsepower peakrpm citympg  \\\n",
              "0         3.47    2.68               9.0         111    5000      21   \n",
              "1         3.47    2.68               9.0         111    5000      21   \n",
              "2         2.68    3.47               9.0         154    5000      19   \n",
              "3         3.19    3.40              10.0         102    5500      24   \n",
              "4         3.19    3.40               8.0         115    5500      18   \n",
              "..         ...     ...               ...         ...     ...     ...   \n",
              "200       3.78    3.15               9.5         114    5400      23   \n",
              "201       3.78    3.15               8.7         160    5300      19   \n",
              "202       3.58    2.87               8.8         134    5500      18   \n",
              "203       3.01    3.40              23.0         106    4800      26   \n",
              "204       3.78    3.15               9.5         114    5400      19   \n",
              "\n",
              "     highwaympg    price        Marca        Modelo  \n",
              "0            27  13495.0  alfa-romero        giulia  \n",
              "1            27  16500.0  alfa-romero       stelvio  \n",
              "2            26  16500.0  alfa-romero  Quadrifoglio  \n",
              "3            30  13950.0         audi        100 ls  \n",
              "4            22  17450.0         audi         100ls  \n",
              "..          ...      ...          ...           ...  \n",
              "200          28  16845.0        volvo     145e (sw)  \n",
              "201          25  19045.0        volvo         144ea  \n",
              "202          23  21485.0        volvo         244dl  \n",
              "203          27  22470.0        volvo           246  \n",
              "204          25  22625.0        volvo         264gl  \n",
              "\n",
              "[205 rows x 28 columns]>"
            ]
          },
          "metadata": {},
          "execution_count": 14
        }
      ]
    },
    {
      "cell_type": "code",
      "source": [
        "df.describe"
      ],
      "metadata": {
        "colab": {
          "base_uri": "https://localhost:8080/"
        },
        "id": "rJqEra7eGBId",
        "outputId": "e8310bc6-32e4-487d-ea2d-bffe44532bd8"
      },
      "execution_count": null,
      "outputs": [
        {
          "output_type": "execute_result",
          "data": {
            "text/plain": [
              "<bound method NDFrame.describe of      car_ID  symboling                   CarName fueltype aspiration  \\\n",
              "0         1          3        alfa-romero giulia      gas        std   \n",
              "1         2          3       alfa-romero stelvio      gas        std   \n",
              "2         3          1  alfa-romero Quadrifoglio      gas        std   \n",
              "3         4          2               audi 100 ls      gas        std   \n",
              "4         5          2                audi 100ls      gas        std   \n",
              "..      ...        ...                       ...      ...        ...   \n",
              "200     201         -1           volvo 145e (sw)      gas        std   \n",
              "201     202         -1               volvo 144ea      gas      turbo   \n",
              "202     203         -1               volvo 244dl      gas        std   \n",
              "203     204         -1                 volvo 246   diesel      turbo   \n",
              "204     205         -1               volvo 264gl      gas      turbo   \n",
              "\n",
              "    doornumber      carbody drivewheel enginelocation  wheelbase  ...  \\\n",
              "0          two  convertible        rwd          front       88.6  ...   \n",
              "1          two  convertible        rwd          front       88.6  ...   \n",
              "2          two    hatchback        rwd          front       94.5  ...   \n",
              "3         four        sedan        fwd          front       99.8  ...   \n",
              "4         four        sedan        4wd          front       99.4  ...   \n",
              "..         ...          ...        ...            ...        ...  ...   \n",
              "200       four        sedan        rwd          front      109.1  ...   \n",
              "201       four        sedan        rwd          front      109.1  ...   \n",
              "202       four        sedan        rwd          front      109.1  ...   \n",
              "203       four        sedan        rwd          front      109.1  ...   \n",
              "204       four        sedan        rwd          front      109.1  ...   \n",
              "\n",
              "     boreratio  stroke  compressionratio  horsepower peakrpm citympg  \\\n",
              "0         3.47    2.68               9.0         111    5000      21   \n",
              "1         3.47    2.68               9.0         111    5000      21   \n",
              "2         2.68    3.47               9.0         154    5000      19   \n",
              "3         3.19    3.40              10.0         102    5500      24   \n",
              "4         3.19    3.40               8.0         115    5500      18   \n",
              "..         ...     ...               ...         ...     ...     ...   \n",
              "200       3.78    3.15               9.5         114    5400      23   \n",
              "201       3.78    3.15               8.7         160    5300      19   \n",
              "202       3.58    2.87               8.8         134    5500      18   \n",
              "203       3.01    3.40              23.0         106    4800      26   \n",
              "204       3.78    3.15               9.5         114    5400      19   \n",
              "\n",
              "     highwaympg    price        Marca        Modelo  \n",
              "0            27  13495.0  alfa-romero        giulia  \n",
              "1            27  16500.0  alfa-romero       stelvio  \n",
              "2            26  16500.0  alfa-romero  Quadrifoglio  \n",
              "3            30  13950.0         audi        100 ls  \n",
              "4            22  17450.0         audi         100ls  \n",
              "..          ...      ...          ...           ...  \n",
              "200          28  16845.0        volvo     145e (sw)  \n",
              "201          25  19045.0        volvo         144ea  \n",
              "202          23  21485.0        volvo         244dl  \n",
              "203          27  22470.0        volvo           246  \n",
              "204          25  22625.0        volvo         264gl  \n",
              "\n",
              "[205 rows x 28 columns]>"
            ]
          },
          "metadata": {},
          "execution_count": 15
        }
      ]
    },
    {
      "cell_type": "code",
      "source": [
        "df.Marca.unique()\n",
        "\n"
      ],
      "metadata": {
        "colab": {
          "base_uri": "https://localhost:8080/"
        },
        "id": "9U8DGnZZyihO",
        "outputId": "a053ad4e-79da-431e-bae4-0c707eeb567f"
      },
      "execution_count": null,
      "outputs": [
        {
          "output_type": "execute_result",
          "data": {
            "text/plain": [
              "array(['alfa-romero', 'audi', 'bmw', 'chevrolet', 'dodge', 'honda',\n",
              "       'isuzu', 'jaguar', 'maxda', 'mazda', 'buick', 'mercury',\n",
              "       'mitsubishi', 'Nissan', 'nissan', 'peugeot', 'plymouth', 'porsche',\n",
              "       'porcshce', 'renault', 'saab', 'subaru', 'toyota', 'toyouta',\n",
              "       'vokswagen', 'volkswagen', 'vw', 'volvo'], dtype=object)"
            ]
          },
          "metadata": {},
          "execution_count": 16
        }
      ]
    },
    {
      "cell_type": "code",
      "source": [
        "df.Modelo.unique() #chequear si hay repetidos y volarlos"
      ],
      "metadata": {
        "id": "whQ_TwNmUf-G",
        "colab": {
          "base_uri": "https://localhost:8080/"
        },
        "outputId": "0b868793-5fdd-41b1-87d0-0baa5d0a3559"
      },
      "execution_count": null,
      "outputs": [
        {
          "output_type": "execute_result",
          "data": {
            "text/plain": [
              "array(['giulia', 'stelvio', 'Quadrifoglio', '100 ls', '100ls', 'fox',\n",
              "       '5000', '4000', '5000s (diesel)', '320i', 'x1', 'x3', 'z4', 'x4',\n",
              "       'x5', 'impala', 'monte carlo', 'vega 2300', 'rampage',\n",
              "       'challenger se', 'd200', 'monaco (sw)', 'colt hardtop',\n",
              "       'colt (sw)', 'coronet custom', 'dart custom',\n",
              "       'coronet custom (sw)', 'civic', 'civic cvcc', 'accord cvcc',\n",
              "       'accord lx', 'civic 1500 gl', 'accord', 'civic 1300', 'prelude',\n",
              "       'civic (auto)', 'MU-X', 'D-Max ', 'D-Max V-Cross', 'xj', 'xf',\n",
              "       'xk', 'rx3', 'glc deluxe', 'rx2 coupe', 'rx-4', '626', 'glc',\n",
              "       'rx-7 gs', 'glc 4', 'glc custom l', 'glc custom',\n",
              "       'electra 225 custom', 'century luxus (sw)', 'century', 'skyhawk',\n",
              "       'opel isuzu deluxe', 'skylark', 'century special',\n",
              "       'regal sport coupe (turbo)', 'cougar', 'mirage', 'lancer',\n",
              "       'outlander', 'g4', 'mirage g4', 'montero', 'pajero', 'versa',\n",
              "       'gt-r', 'rogue', 'latio', 'titan', 'leaf', 'juke', 'note',\n",
              "       'clipper', 'nv200', 'dayz', 'fuga', 'otti', 'teana', 'kicks',\n",
              "       '504', '304', '504 (sw)', '604sl', '505s turbo diesel', 'fury iii',\n",
              "       'cricket', 'satellite custom (sw)', 'fury gran sedan', 'valiant',\n",
              "       'duster', 'macan', 'panamera', 'cayenne', 'boxter', '12tl',\n",
              "       '5 gtl', '99e', '99le', '99gle', nan, 'dl', 'brz', 'baja', 'r1',\n",
              "       'r2', 'trezia', 'tribeca', 'corona mark ii', 'corona',\n",
              "       'corolla 1200', 'corona hardtop', 'corolla 1600 (sw)', 'carina',\n",
              "       'mark ii', 'corolla', 'corolla liftback', 'celica gt liftback',\n",
              "       'corolla tercel', 'corona liftback', 'starlet', 'tercel',\n",
              "       'cressida', 'celica gt', 'rabbit', '1131 deluxe sedan',\n",
              "       'model 111', 'type 3', '411 (sw)', 'super beetle', 'dasher',\n",
              "       'rabbit custom', '145e (sw)', '144ea', '244dl', '245', '264gl',\n",
              "       'diesel', '246'], dtype=object)"
            ]
          },
          "metadata": {},
          "execution_count": 17
        }
      ]
    },
    {
      "cell_type": "code",
      "source": [
        "df.loc[df['Marca'] == \"Nissan\", 'Marca'] = 'nissan'\n",
        "df.loc[df['Marca'] == \"maxda\", 'Marca'] = 'mazda'\n",
        "df.loc[df['Marca'] == \"vokswagen\", 'Marca'] = 'volkswagen'\n",
        "df.loc[df['Marca'] == \"vw\", 'Marca'] = 'volkswagen'\n",
        "df.loc[df['Marca'] == \"porcshce\", 'Marca'] = 'porsche'\n",
        "df.loc[df['Marca'] == \"toyouta\", 'Marca'] = 'toyota'\n"
      ],
      "metadata": {
        "id": "8N-XzpBY2jTd"
      },
      "execution_count": null,
      "outputs": []
    },
    {
      "cell_type": "code",
      "source": [
        "df.Marca.unique()\n"
      ],
      "metadata": {
        "colab": {
          "base_uri": "https://localhost:8080/"
        },
        "id": "uY3cJRb90m9-",
        "outputId": "bd56285a-45e0-43d9-dcf8-2013d2d2e613"
      },
      "execution_count": null,
      "outputs": [
        {
          "output_type": "execute_result",
          "data": {
            "text/plain": [
              "array(['alfa-romero', 'audi', 'bmw', 'chevrolet', 'dodge', 'honda',\n",
              "       'isuzu', 'jaguar', 'mazda', 'buick', 'mercury', 'mitsubishi',\n",
              "       'nissan', 'peugeot', 'plymouth', 'porsche', 'renault', 'saab',\n",
              "       'subaru', 'toyota', 'volkswagen', 'volvo'], dtype=object)"
            ]
          },
          "metadata": {},
          "execution_count": 19
        }
      ]
    },
    {
      "cell_type": "markdown",
      "source": [
        "#DISTRIBUCION DE VARIABLES\n",
        "\n"
      ],
      "metadata": {
        "id": "TNWSLmZyF2Yc"
      }
    },
    {
      "cell_type": "code",
      "source": [
        "fig, axs = plt.subplots(2,3, figsize=(22, 10))\n",
        "\n",
        "sns.histplot(data=df, x=\"price\", ax=axs[0,0],multiple=\"stack\")\n",
        "sns.histplot(data=df, x=\"carwidth\",  ax=axs[0,1],multiple=\"stack\")\n",
        "sns.histplot(data=df, x=\"curbweight\",  ax=axs[1,0],multiple=\"stack\")\n",
        "sns.histplot(data=df, x=\"enginesize\", ax=axs[1,1],multiple=\"stack\")\n",
        "sns.histplot(data=df, x=\"horsepower\", ax=axs[1,2],multiple=\"stack\")\n",
        "sns.histplot(data = df, x =\"carlength\" , ax = axs[0,2], multiple = \"stack\")\n",
        "plt.show()"
      ],
      "metadata": {
        "colab": {
          "base_uri": "https://localhost:8080/",
          "height": 606
        },
        "id": "LFSf2n16F18W",
        "outputId": "a171e558-9409-4fff-c2e8-70911114eaa2"
      },
      "execution_count": null,
      "outputs": [
        {
          "output_type": "display_data",
          "data": {
            "text/plain": [
              "<Figure size 1584x720 with 6 Axes>"
            ],
            "image/png": "[encoded data removed]"
          },
          "metadata": {
            "needs_background": "light"
          }
        }
      ]
    },
    {
      "cell_type": "markdown",
      "source": [
        "#TEST DE NORMALIDAD PARA VARIABLE RESPUESTA\n"
      ],
      "metadata": {
        "id": "OQ72ohTBIdjj"
      }
    },
    {
      "cell_type": "code",
      "source": [
        "sns.distplot(df.price) "
      ],
      "metadata": {
        "colab": {
          "base_uri": "https://localhost:8080/"
        },
        "id": "JKPOXa01IdR8",
        "outputId": "18655f3d-b0e4-48b0-a97a-26ac7107dfc7"
      },
      "execution_count": null,
      "outputs": [
        {
          "output_type": "stream",
          "name": "stderr",
          "text": [
            "/usr/local/lib/python3.7/dist-packages/seaborn/distributions.py:2619: FutureWarning: `distplot` is a deprecated function and will be removed in a future version. Please adapt your code to use either `displot` (a figure-level function with similar flexibility) or `histplot` (an axes-level function for histograms).\n",
            "  warnings.warn(msg, FutureWarning)\n"
          ]
        },
        {
          "output_type": "execute_result",
          "data": {
            "text/plain": [
              "<matplotlib.axes._subplots.AxesSubplot at 0x7f2f6d9846d0>"
            ]
          },
          "metadata": {},
          "execution_count": 22
        },
        {
          "output_type": "display_data",
          "data": {
            "text/plain": [
              "<Figure size 432x288 with 1 Axes>"
            ],
            "image/png": "[encoded data removed]"
          },
          "metadata": {
            "needs_background": "light"
          }
        }
      ]
    },
    {
      "cell_type": "code",
      "source": [
        "from scipy.stats import shapiro\n",
        "\n",
        "stat, p = shapiro(df.price)\n",
        "\n",
        "print('stat: ', stat)\n",
        "print('p value:', p)\n",
        "\n",
        "if p > 0.05:\n",
        "  print('probability gaussin')\n",
        "else:\n",
        "  print('probability not gaussian')  \n",
        "\n"
      ],
      "metadata": {
        "colab": {
          "base_uri": "https://localhost:8080/"
        },
        "id": "wtCf-o0OJccV",
        "outputId": "cb7fbc2a-44e1-4319-c7a1-7f2e088d838b"
      },
      "execution_count": null,
      "outputs": [
        {
          "output_type": "stream",
          "name": "stdout",
          "text": [
            "stat:  0.8006654381752014\n",
            "p value: 1.8491777441833604e-15\n",
            "probability not gaussian\n"
          ]
        }
      ]
    },
    {
      "cell_type": "markdown",
      "source": [
        "#CORRELACIONES\n",
        "\n",
        "\n"
      ],
      "metadata": {
        "id": "tYlkUNLi6n-0"
      }
    },
    {
      "cell_type": "code",
      "source": [
        "mask = np.triu(np.ones_like(df.corr(), dtype=bool))\n",
        "sns.heatmap(df.corr(), vmin = -1, vmax = +1, annot = False\n",
        "            , cmap = 'coolwarm', mask = mask)\n",
        "\n",
        "#se puede ver una posible relacioin entre el precio con el ancho del auto, el peso, el tamaño de motor y los caballos de fuerza"
      ],
      "metadata": {
        "colab": {
          "base_uri": "https://localhost:8080/",
          "height": 362
        },
        "id": "YmI13Yas5gWg",
        "outputId": "19b98eb9-c9c6-4b95-bd65-851146b5b8e5"
      },
      "execution_count": null,
      "outputs": [
        {
          "output_type": "execute_result",
          "data": {
            "text/plain": [
              "<matplotlib.axes._subplots.AxesSubplot at 0x7f934817ae10>"
            ]
          },
          "metadata": {},
          "execution_count": 16
        },
        {
          "output_type": "display_data",
          "data": {
            "text/plain": [
              "<Figure size 432x288 with 2 Axes>"
            ],
            "image/png": "[encoded data removed]"
          },
          "metadata": {
            "needs_background": "light"
          }
        }
      ]
    },
    {
      "cell_type": "code",
      "source": [
        "fig, axs = plt.subplots(2,3, figsize=(22, 10))\n",
        "\n",
        "\n",
        "sns.regplot(x = df.carwidth, y = df.price, ax=axs[0,0], )\n",
        "sns.regplot(x = df.curbweight, y = df.price, ax=axs[0,1])\n",
        "sns.regplot(x = df.enginesize, y = df.horsepower, ax=axs[0, 2])\n",
        "\n",
        "sns.regplot(x = df.enginesize, y = df.price, ax = axs[1,0])\n",
        "sns.regplot(x = df.horsepower, y = df.price, ax = axs[1,1])\n",
        "sns.regplot( x= df.citympg, y = df.price, ax = axs[1,2])\n",
        "plt.show()"
      ],
      "metadata": {
        "colab": {
          "base_uri": "https://localhost:8080/",
          "height": 609
        },
        "id": "OkTRKlMlNkGj",
        "outputId": "efe2397a-1589-4dbd-ecbf-f3094893a87b"
      },
      "execution_count": null,
      "outputs": [
        {
          "output_type": "display_data",
          "data": {
            "text/plain": [
              "<Figure size 1584x720 with 6 Axes>"
            ],
            "image/png": "[encoded data removed]"
          },
          "metadata": {
            "needs_background": "light"
          }
        }
      ]
    },
    {
      "cell_type": "code",
      "source": [
        "from sklearn.metrics import mean_squared_error\n",
        "\n",
        "#mse = mean_squared_error(y_true = y, y_pred = prediccion_entrenamiento)\n",
        "\n",
        "print(\"El coeficiente de correlacion para el carwidth vs precio es de \", np.corrcoef(x = df.carwidth, y = df.price)[0,1])\n",
        "print(\"El coeficiente de correlacion para el curbweight vs precio es de \",np.corrcoef(x = df.curbweight, y = df.price)[0,1] )\n",
        "print(\"El coeficiente de correlacion para el enginesize vs precio es de \", np.corrcoef(x = df.enginesize, y = df.price)[0,1])\n",
        "print(\"El coeficiente de correlacion para el horsepower vs precio  es de \", np.corrcoef(x = df.horsepower, y = df.price)[0,1])\n",
        "print(\"El coeficiente de correlacion para el citympg vs precio es de \",np.corrcoef(x = df.citympg, y = df.price)[0,1] )\n",
        "print(\"El coeficiente de correlacion para el enginesize vs horsepower es de \",np.corrcoef(x = df.enginesize, y = df.price)[0,1] )\n",
        "\n"
      ],
      "metadata": {
        "colab": {
          "base_uri": "https://localhost:8080/"
        },
        "id": "CumWDsqX9IFN",
        "outputId": "36001075-ffb5-409e-ffe6-32720ea3768d"
      },
      "execution_count": null,
      "outputs": [
        {
          "output_type": "stream",
          "name": "stdout",
          "text": [
            "El coeficiente de correlacion para el carwidth vs precio es de  0.7593252997415118\n",
            "El coeficiente de correlacion para el curbweight vs precio es de  0.8353048793372965\n",
            "El coeficiente de correlacion para el enginesize vs precio es de  0.8741448025245112\n",
            "El coeficiente de correlacion para el horsepower vs precio  es de  0.8081388225362212\n",
            "El coeficiente de correlacion para el citympg vs precio es de  -0.6857513360270401\n",
            "El coeficiente de correlacion para el enginesize vs horsepower es de  0.8741448025245112\n"
          ]
        }
      ]
    },
    {
      "cell_type": "markdown",
      "source": [
        "***SCATTER PLOTS PARA ENTENDER MEJOR EL TIPO DE CORR***"
      ],
      "metadata": {
        "id": "ZKFiABTL81Vw"
      }
    },
    {
      "cell_type": "code",
      "source": [
        "#ANALISIS OUTLIERS\n",
        "\n",
        "fig, axs = plt.subplots(2,3, figsize=(22, 10))\n",
        "\n",
        "\n",
        "\n",
        "sns.boxplot(x=df.price, ax=axs[0,0]) \n",
        "sns.boxplot(x=df.carwidth, ax=axs[0,2])\n",
        "sns.boxplot(x=df.curbweight, ax=axs[0,1])\n",
        "sns.boxplot(x=df.enginesize, ax = axs[1,0])\n",
        "sns.boxplot(x=df.horsepower, ax = axs[1,1])\n",
        "sns.boxplot(x=df.citympg, ax = axs[1,2])\n",
        "\n",
        "plt.show()\n",
        "\n",
        "\n"
      ],
      "metadata": {
        "colab": {
          "base_uri": "https://localhost:8080/",
          "height": 606
        },
        "id": "E6rUSYwr_Kc8",
        "outputId": "0c696aab-4c2f-402b-b63a-66659062a7ff"
      },
      "execution_count": null,
      "outputs": [
        {
          "output_type": "display_data",
          "data": {
            "text/plain": [
              "<Figure size 1584x720 with 6 Axes>"
            ],
            "image/png": "[encoded data removed]"
          },
          "metadata": {
            "needs_background": "light"
          }
        }
      ]
    },
    {
      "cell_type": "code",
      "source": [
        "np.percentile(df.price, 25)"
      ],
      "metadata": {
        "colab": {
          "base_uri": "https://localhost:8080/"
        },
        "id": "IDNgec26L3JB",
        "outputId": "0e929160-ab0b-43a6-e9c8-0a59526ec3e6"
      },
      "execution_count": null,
      "outputs": [
        {
          "output_type": "execute_result",
          "data": {
            "text/plain": [
              "7788.0"
            ]
          },
          "metadata": {},
          "execution_count": 17
        }
      ]
    },
    {
      "cell_type": "code",
      "source": [
        "print(\"En la variable precio el primer cuartil es \",np.percentile(df.price, 25),\", el tercer cuartil es \",np.percentile(df.price, 75),\" y la mediana es \", np.median(df.price))\n",
        "print(\"En la variable curbweight el primer cuartil es \", np.percentile(df.curbweight, 25),\", el tercer cuartil es \", np.percentile(df.curbweight, 75), \" la mediana es\", np.median(df.curbweight))\n",
        "print(\"En la variable carwidth el primer cuartil es \",np.percentile(df.carwidth, 25) ,\", el tercer cuartil es \",np.percentile(df.carwidth, 75) , \" y la mediana es\", np.median(df.carwidth))\n",
        "print(\"En la variable enginesize el primer cuartil es \", np.percentile(df.enginesize, 25),\", el tercer cuartil es \", np.percentile(df.enginesize, 75), \" y la mediana es\", np.median(df.enginesize))\n",
        "print(\"En la variable horsepower el primer cuartil es \", np.percentile(df.horsepower, 25),\", el tercer cuartil es \",np.percentile(df.horsepower, 75) , \" y la mediana es\", np.median(df.horsepower))\n",
        "print(\"En la variable citympg el primer cuartil es \",np.percentile(df.citympg, 25) ,\", el tercer cuartil es \",np.percentile(df.citympg, 75) , \" y la mediana es\", np.median(df.citympg))"
      ],
      "metadata": {
        "colab": {
          "base_uri": "https://localhost:8080/"
        },
        "id": "NLfbS6AkJ_Ev",
        "outputId": "f0a77886-628f-499d-a281-4239ca76b80b"
      },
      "execution_count": null,
      "outputs": [
        {
          "output_type": "stream",
          "name": "stdout",
          "text": [
            "En la variable precio el primer cuartil es  7788.0 , el tercer cuartil es  16503.0  y la mediana es  10295.0\n",
            "En la variable curbweight el primer cuartil es  2145.0 , el tercer cuartil es  2935.0  la mediana es 2414.0\n",
            "En la variable carwidth el primer cuartil es  64.1 , el tercer cuartil es  66.9  y la mediana es 65.5\n",
            "En la variable enginesize el primer cuartil es  97.0 , el tercer cuartil es  141.0  y la mediana es 120.0\n",
            "En la variable horsepower el primer cuartil es  70.0 , el tercer cuartil es  116.0  y la mediana es 95.0\n",
            "En la variable citympg el primer cuartil es  19.0 , el tercer cuartil es  30.0  y la mediana es 24.0\n"
          ]
        }
      ]
    },
    {
      "cell_type": "markdown",
      "source": [
        "CATEGORICAS VS PRECIO, H"
      ],
      "metadata": {
        "id": "R6-X7EtP_-mc"
      }
    },
    {
      "cell_type": "code",
      "source": [
        "plt.bar(df.fueltype, df.price, )\n",
        "\n",
        "#los autos que usan diesel valen un 25% menos"
      ],
      "metadata": {
        "colab": {
          "base_uri": "https://localhost:8080/",
          "height": 283
        },
        "id": "RVWFxDON_Kow",
        "outputId": "17b2fc66-52b2-42cd-dc4b-023c93a8ae59"
      },
      "execution_count": null,
      "outputs": [
        {
          "output_type": "execute_result",
          "data": {
            "text/plain": [
              "<BarContainer object of 205 artists>"
            ]
          },
          "metadata": {},
          "execution_count": 182
        },
        {
          "output_type": "display_data",
          "data": {
            "text/plain": [
              "<Figure size 432x288 with 1 Axes>"
            ],
            "image/png": "[encoded data removed]"
          },
          "metadata": {
            "needs_background": "light"
          }
        }
      ]
    },
    {
      "cell_type": "code",
      "source": [
        "plt.bar(df.cylindernumber, df.price)\n",
        "# no se ve una relacion constante"
      ],
      "metadata": {
        "colab": {
          "base_uri": "https://localhost:8080/",
          "height": 283
        },
        "id": "QqTBKKHsClE2",
        "outputId": "cdf10897-dc88-420c-dc9b-1302dff6e230"
      },
      "execution_count": null,
      "outputs": [
        {
          "output_type": "execute_result",
          "data": {
            "text/plain": [
              "<BarContainer object of 205 artists>"
            ]
          },
          "metadata": {},
          "execution_count": 183
        },
        {
          "output_type": "display_data",
          "data": {
            "text/plain": [
              "<Figure size 432x288 with 1 Axes>"
            ],
            "image/png": "[encoded data removed]"
          },
          "metadata": {
            "needs_background": "light"
          }
        }
      ]
    },
    {
      "cell_type": "markdown",
      "source": [
        "\n",
        "#Marca influencia en el precio\n",
        "\n"
      ],
      "metadata": {
        "id": "RyXHYOvLX5GT"
      }
    },
    {
      "cell_type": "code",
      "source": [
        "df2 = df.groupby('Marca', sort=True)['price'].agg(['count','mean'])\n",
        "\n",
        "print(df2)\n",
        "\n",
        "sns.scatterplot(x = df2['count'], y = df2['mean'])"
      ],
      "metadata": {
        "id": "RcDaoWLYX4Nb",
        "colab": {
          "base_uri": "https://localhost:8080/",
          "height": 713
        },
        "outputId": "0eb8ed9c-bf68-4713-d471-8314045427fd"
      },
      "execution_count": null,
      "outputs": [
        {
          "output_type": "stream",
          "name": "stdout",
          "text": [
            "             count          mean\n",
            "Marca                           \n",
            "alfa-romero      3  15498.333333\n",
            "audi             7  17859.166714\n",
            "bmw              8  26118.750000\n",
            "buick            8  33647.000000\n",
            "chevrolet        3   6007.000000\n",
            "dodge            9   7875.444444\n",
            "honda           13   8184.692308\n",
            "isuzu            4   8916.500000\n",
            "jaguar           3  34600.000000\n",
            "mazda           17  10652.882353\n",
            "mercury          1  16503.000000\n",
            "mitsubishi      13   9239.769231\n",
            "nissan          18  10415.666667\n",
            "peugeot         11  15489.090909\n",
            "plymouth         7   7963.428571\n",
            "porsche          5  31400.500000\n",
            "renault          2   9595.000000\n",
            "saab             6  15223.333333\n",
            "subaru          12   8541.250000\n",
            "toyota          32   9885.812500\n",
            "volkswagen      12  10077.500000\n",
            "volvo           11  18063.181818\n"
          ]
        },
        {
          "output_type": "execute_result",
          "data": {
            "text/plain": [
              "<matplotlib.axes._subplots.AxesSubplot at 0x7f9345176cd0>"
            ]
          },
          "metadata": {},
          "execution_count": 19
        },
        {
          "output_type": "display_data",
          "data": {
            "text/plain": [
              "<Figure size 432x288 with 1 Axes>"
            ],
            "image/png": "[encoded data removed]"
          },
          "metadata": {
            "needs_background": "light"
          }
        }
      ]
    },
    {
      "cell_type": "markdown",
      "source": [
        "#Dummisar variable"
      ],
      "metadata": {
        "id": "L4iN-bdqM76q"
      }
    },
    {
      "cell_type": "code",
      "source": [
        "import numpy as np\n",
        "import pandas as pd\n",
        "\n",
        "df['nissan'] = np.where(df['Marca']=='nissan', 1, 0)\n",
        "df['mazda'] = np.where(df['Marca']=='mazda', 1, 0)\n",
        "df['volkswagen'] = np.where(df['Marca']=='volkswagen', 1, 0)\n",
        "df['porsche'] = np.where(df['Marca']=='porsche', 1, 0)\n",
        "df['toyota'] = np.where(df['Marca']=='toyota', 1, 0)\n",
        "df['alfa-romeo'] = np.where(df['Marca']=='alfa-romero', 1, 0)\n",
        "df['audi'] = np.where(df['Marca']=='audi', 1, 0)\n",
        "df['bmw'] = np.where(df['Marca']=='bmw', 1, 0)\n",
        "df['chevrolet'] = np.where(df['Marca']=='chevrolet', 1, 0)\n",
        "df['dodge'] = np.where(df['Marca']=='dodge', 1, 0)\n",
        "df['honda'] = np.where(df['Marca']=='honda', 1, 0)\n",
        "df['isuzu'] = np.where(df['Marca']=='isuzu', 1, 0)\n",
        "df['jaguar'] = np.where(df['Marca']=='jaguar', 1, 0)\n",
        "df['buick'] = np.where(df['Marca']=='buick', 1, 0)\n",
        "df['mercury'] = np.where(df['Marca']=='mercury', 1, 0)\n",
        "df['mitsubishi'] = np.where(df['Marca']=='mitsubishi', 1, 0)\n",
        "df['peugot'] = np.where(df['Marca']=='peugot', 1, 0)\n",
        "df['plymouth'] = np.where(df['Marca']=='plymouth', 1, 0)\n",
        "df['renault'] = np.where(df['Marca']=='renault', 1, 0)\n",
        "df['saab'] = np.where(df['Marca']=='saab', 1, 0)\n",
        "df['subaru'] = np.where(df['Marca']=='subaru', 1, 0)\n",
        "df['volvo'] = np.where(df['Marca']=='volvo', 1, 0)\n",
        "\n",
        "\n",
        "df.drop(columns=['Marca'],axis=1,inplace=True)"
      ],
      "metadata": {
        "id": "NiIIH6cmE6yA"
      },
      "execution_count": null,
      "outputs": []
    },
    {
      "cell_type": "code",
      "source": [
        "df.carbody.unique()"
      ],
      "metadata": {
        "colab": {
          "base_uri": "https://localhost:8080/"
        },
        "id": "m8fjlWECL_Ns",
        "outputId": "81aa0b25-3315-4128-bb68-280a56c5e9d7"
      },
      "execution_count": null,
      "outputs": [
        {
          "output_type": "execute_result",
          "data": {
            "text/plain": [
              "array(['convertible', 'hatchback', 'sedan', 'wagon', 'hardtop'],\n",
              "      dtype=object)"
            ]
          },
          "metadata": {},
          "execution_count": 76
        }
      ]
    },
    {
      "cell_type": "code",
      "source": [
        "df['convertible'] = np.where(df['carbody']=='convertible', 1, 0)\n",
        "df['hatchback'] = np.where(df['carbody']=='hatchback', 1, 0)\n",
        "df['sedan'] = np.where(df['carbody']=='sedan', 1, 0)\n",
        "df['wagon'] = np.where(df['carbody']=='wagon', 1, 0)\n",
        "df['hardtop'] = np.where(df['carbody']=='hardtop', 1, 0)\n",
        "\n",
        "\n",
        "df.drop(columns=['carbody'],axis=1,inplace=True)"
      ],
      "metadata": {
        "id": "80UOKElzNKUR"
      },
      "execution_count": null,
      "outputs": []
    },
    {
      "cell_type": "code",
      "source": [
        "df.drivewheel.unique()"
      ],
      "metadata": {
        "colab": {
          "base_uri": "https://localhost:8080/"
        },
        "id": "LqsbVJb6MKL7",
        "outputId": "fe7df580-075f-4170-ed88-e182a030d7d8"
      },
      "execution_count": null,
      "outputs": [
        {
          "output_type": "execute_result",
          "data": {
            "text/plain": [
              "array(['rwd', 'fwd', '4wd'], dtype=object)"
            ]
          },
          "metadata": {},
          "execution_count": 78
        }
      ]
    },
    {
      "cell_type": "code",
      "source": [
        "df['rwd'] = np.where(df['drivewheel']=='rwd', 1, 0)\n",
        "df['fwd'] = np.where(df['drivewheel']=='fwd', 1, 0)\n",
        "df['4wd'] = np.where(df['drivewheel']=='4wd', 1, 0)\n",
        "\n",
        "\n",
        "df.drop(columns=['drivewheel'],axis=1,inplace=True)"
      ],
      "metadata": {
        "id": "iAn3k0M9NvTX"
      },
      "execution_count": null,
      "outputs": []
    },
    {
      "cell_type": "code",
      "source": [
        "df.doornumber.unique()"
      ],
      "metadata": {
        "colab": {
          "base_uri": "https://localhost:8080/"
        },
        "id": "JLC-PMqyMSSJ",
        "outputId": "b3285612-8248-4a6b-f546-8b34d7fee9f8"
      },
      "execution_count": null,
      "outputs": [
        {
          "output_type": "execute_result",
          "data": {
            "text/plain": [
              "array(['two', 'four'], dtype=object)"
            ]
          },
          "metadata": {},
          "execution_count": 80
        }
      ]
    },
    {
      "cell_type": "code",
      "source": [
        "df['two'] = np.where(df['doornumber']=='two', 1, 0)\n",
        "df['four'] = np.where(df['doornumber']=='four', 1, 0)\n",
        "\n",
        "df.drop(columns=['doornumber'],axis=1,inplace=True)"
      ],
      "metadata": {
        "id": "1Uj6pPUVN-yl"
      },
      "execution_count": null,
      "outputs": []
    },
    {
      "cell_type": "code",
      "source": [
        "df.enginelocation.unique()"
      ],
      "metadata": {
        "colab": {
          "base_uri": "https://localhost:8080/"
        },
        "id": "fS37PpdNMVGD",
        "outputId": "2dd5d7d4-6b77-42a4-e1fb-7db98905abce"
      },
      "execution_count": null,
      "outputs": [
        {
          "output_type": "execute_result",
          "data": {
            "text/plain": [
              "array(['front', 'rear'], dtype=object)"
            ]
          },
          "metadata": {},
          "execution_count": 82
        }
      ]
    },
    {
      "cell_type": "code",
      "source": [
        "df['front'] = np.where(df['enginelocation']=='front', 1, 0)\n",
        "df['rear'] = np.where(df['enginelocation']=='rear', 1, 0)\n",
        "\n",
        "df.drop(columns=['enginelocation'],axis=1,inplace=True)"
      ],
      "metadata": {
        "id": "uGUE0NvrOKrd"
      },
      "execution_count": null,
      "outputs": []
    },
    {
      "cell_type": "code",
      "source": [
        "df['gas'] = np.where(df['fueltype']=='front', 1, 0)\n",
        "df['diesel'] = np.where(df['fueltype']=='rear', 1, 0)\n",
        "\n",
        "df.drop(columns=['fueltype'],axis=1,inplace=True)"
      ],
      "metadata": {
        "id": "7piDqvWM8u0e"
      },
      "execution_count": null,
      "outputs": []
    },
    {
      "cell_type": "markdown",
      "source": [
        "#Regresion lineal\n",
        "\n",
        "- no es robusta a outliers\n"
      ],
      "metadata": {
        "id": "erEcFdcBiWqh"
      }
    },
    {
      "cell_type": "code",
      "source": [
        "df_regresion = df[[\n",
        "\"wheelbase\",\n",
        "\"carlength\",\n",
        "\"carwidth\",\n",
        "\"carheight\",\n",
        "\"curbweight\",\n",
        "\"enginesize\",\n",
        "\"boreratio\",\n",
        "\"stroke\",\n",
        "\"compressionratio\",\n",
        "\"horsepower\",\n",
        "\"peakrpm\",\n",
        "\"citympg\",\n",
        "\"highwaympg\",\n",
        "'alfa-romeo', 'audi', 'bmw', 'chevrolet', 'dodge', 'honda',\n",
        "       'isuzu', 'jaguar', 'mazda', 'buick', 'mercury', 'mitsubishi',\n",
        "       'nissan', 'peugot', 'plymouth', 'porsche', 'renault', 'saab',\n",
        "       'subaru', 'toyota', 'volkswagen', 'volvo', 'convertible', 'hatchback', 'sedan', 'wagon', 'hardtop','rwd', 'fwd', '4wd','two', 'four', 'front', 'rear', 'gas', 'diesel',\n",
        "\"price\"]]"
      ],
      "metadata": {
        "id": "baV5cNLdkn7E"
      },
      "execution_count": null,
      "outputs": []
    },
    {
      "cell_type": "code",
      "source": [
        "from sklearn.model_selection import train_test_split\n",
        "\n",
        "x = df_regresion.drop(columns = ['price']).copy()\n",
        "y = df_regresion['price']\n",
        "\n",
        "x_train, x_test, y_train, y_test = train_test_split(x,y, test_size=0.20 )\n",
        "\n",
        "print(x_train.shape), print(y_train.shape)\n",
        "print(x_test.shape), print(y_test.shape)\n",
        "\n",
        "\n"
      ],
      "metadata": {
        "id": "19-7cOjviWJb",
        "colab": {
          "base_uri": "https://localhost:8080/"
        },
        "outputId": "768a1eb9-282a-46cc-beac-439de3654fdb"
      },
      "execution_count": null,
      "outputs": [
        {
          "output_type": "stream",
          "name": "stdout",
          "text": [
            "(164, 49)\n",
            "(164,)\n",
            "(41, 49)\n",
            "(41,)\n"
          ]
        },
        {
          "output_type": "execute_result",
          "data": {
            "text/plain": [
              "(None, None)"
            ]
          },
          "metadata": {},
          "execution_count": 94
        }
      ]
    },
    {
      "cell_type": "code",
      "source": [
        "from sklearn import linear_model\n",
        "\n",
        "regresion = linear_model.LinearRegression()\n",
        "\n",
        "regresion.fit(x_train, y_train)"
      ],
      "metadata": {
        "colab": {
          "base_uri": "https://localhost:8080/"
        },
        "id": "SlwId2Knj8BM",
        "outputId": "71ce5fc2-6be1-4936-87a1-b93e5feca824"
      },
      "execution_count": null,
      "outputs": [
        {
          "output_type": "execute_result",
          "data": {
            "text/plain": [
              "LinearRegression()"
            ]
          },
          "metadata": {},
          "execution_count": 95
        }
      ]
    },
    {
      "cell_type": "code",
      "source": [
        "pred = regresion.predict(x_test)"
      ],
      "metadata": {
        "id": "fqVa3JZikxhc"
      },
      "execution_count": null,
      "outputs": []
    },
    {
      "cell_type": "code",
      "source": [
        "print(\"Datos del modelo lineal simple \")\n",
        "\n",
        "print(\"Valor de la pendiente o del coef 'a': \", regresion.coef_)\n",
        "\n",
        "print(\"Valor de la interseccion o del coef 'b':\", regresion.intercept_)\n",
        "\n",
        "print(\"Presicion del modelo: \", regresion.score(x_train, y_train))\n",
        "\n",
        "print(\"El score es: \", regresion.score(x_test, y_test))"
      ],
      "metadata": {
        "colab": {
          "base_uri": "https://localhost:8080/"
        },
        "id": "GbUcIPXNy2yI",
        "outputId": "58632fa4-835e-44c5-e4eb-44714659a931"
      },
      "execution_count": null,
      "outputs": [
        {
          "output_type": "stream",
          "name": "stdout",
          "text": [
            "Datos del modelo lineal simple \n",
            "Valor de la pendiente o del coef 'a':  [ 2.63018925e+02 -1.12272685e+02  3.21495288e+02 -3.96639727e+02\n",
            "  5.01718126e+00  4.44341275e+01 -2.28427477e+03  3.15210227e+02\n",
            "  4.52587567e+01  3.87509131e+01  9.52017657e-01 -1.01782167e+01\n",
            "  7.75489167e+01  8.22727911e+02  1.64624186e+03  1.04824581e+04\n",
            " -2.66855284e+02 -1.87923323e+03 -9.52894489e+02  1.52183932e+02\n",
            "  4.71119430e+03  2.10914182e+03  7.72321053e+03  1.21582272e+03\n",
            " -2.45090521e+03 -8.15169113e+02  3.63797881e-12 -1.88079929e+03\n",
            "  5.41556577e+03 -1.08136491e+03  4.03051954e+03  3.69000059e+02\n",
            " -5.00113176e+02  2.17100395e+02  1.82337599e+03  3.09596589e+03\n",
            " -9.51989585e+02 -7.66695146e+00  2.18065410e+02 -2.35437476e+03\n",
            " -4.48802194e+02 -1.57595528e+02  6.06397722e+02 -7.28893368e+01\n",
            "  7.28893368e+01 -5.41556577e+03  5.41556577e+03  0.00000000e+00\n",
            "  0.00000000e+00]\n",
            "Valor de la interseccion o del coef 'b': -11673.023604277876\n",
            "Presicion del modelo:  0.9498566584557729\n",
            "El score es:  0.9251428979436535\n"
          ]
        }
      ]
    },
    {
      "cell_type": "code",
      "source": [
        "sns.regplot(x = y_test, y = pred).set(title = \"y_test vs y_pred\")"
      ],
      "metadata": {
        "colab": {
          "base_uri": "https://localhost:8080/",
          "height": 312
        },
        "id": "U7HOMHlqI2Ia",
        "outputId": "05866181-16d4-44e0-d997-626fcc2cabee"
      },
      "execution_count": null,
      "outputs": [
        {
          "output_type": "execute_result",
          "data": {
            "text/plain": [
              "[Text(0.5, 1.0, 'y_test vs y_pred')]"
            ]
          },
          "metadata": {},
          "execution_count": 98
        },
        {
          "output_type": "display_data",
          "data": {
            "text/plain": [
              "<Figure size 432x288 with 1 Axes>"
            ],
            "image/png": "[encoded data removed]"
          },
          "metadata": {
            "needs_background": "light"
          }
        }
      ]
    },
    {
      "cell_type": "markdown",
      "source": [
        "#Arbol regresion\n",
        "\n",
        "https://scikit-learn.org/stable/modules/generated/sklearn.tree.DecisionTreeRegressor.html\n",
        "\n"
      ],
      "metadata": {
        "id": "Co9fDeA2j3Rc"
      }
    },
    {
      "cell_type": "code",
      "source": [
        "!pip install sklearn"
      ],
      "metadata": {
        "colab": {
          "base_uri": "https://localhost:8080/"
        },
        "id": "_TiaP7nEgrqe",
        "outputId": "6bfedb01-4921-43e3-d180-a1c62c0e8734"
      },
      "execution_count": null,
      "outputs": [
        {
          "output_type": "stream",
          "name": "stdout",
          "text": [
            "Looking in indexes: https://pypi.org/simple, https://us-python.pkg.dev/colab-wheels/public/simple/\n",
            "Collecting sklearn\n",
            "  Downloading sklearn-0.0.tar.gz (1.1 kB)\n",
            "Requirement already satisfied: scikit-learn in /usr/local/lib/python3.7/dist-packages (from sklearn) (1.0.2)\n",
            "Requirement already satisfied: threadpoolctl>=2.0.0 in /usr/local/lib/python3.7/dist-packages (from scikit-learn->sklearn) (3.1.0)\n",
            "Requirement already satisfied: numpy>=1.14.6 in /usr/local/lib/python3.7/dist-packages (from scikit-learn->sklearn) (1.21.6)\n",
            "Requirement already satisfied: scipy>=1.1.0 in /usr/local/lib/python3.7/dist-packages (from scikit-learn->sklearn) (1.7.3)\n",
            "Requirement already satisfied: joblib>=0.11 in /usr/local/lib/python3.7/dist-packages (from scikit-learn->sklearn) (1.1.0)\n",
            "Building wheels for collected packages: sklearn\n",
            "  Building wheel for sklearn (setup.py) ... \u001b[?25l\u001b[?25hdone\n",
            "  Created wheel for sklearn: filename=sklearn-0.0-py2.py3-none-any.whl size=1310 sha256=b448bbc1ed2e5c333d355d2f0e3e405999e49066e79cc6d5d1f7f2fe81a6fdd4\n",
            "  Stored in directory: /root/.cache/pip/wheels/46/ef/c3/157e41f5ee1372d1be90b09f74f82b10e391eaacca8f22d33e\n",
            "Successfully built sklearn\n",
            "Installing collected packages: sklearn\n",
            "Successfully installed sklearn-0.0\n"
          ]
        }
      ]
    },
    {
      "cell_type": "code",
      "source": [
        "base_arbol = df[[\n",
        "\"wheelbase\", #esto\n",
        "\"carlength\",\n",
        "\"carwidth\",\n",
        "\"carheight\", #esto\n",
        "\"curbweight\", #esto\n",
        "\"enginesize\",\n",
        "\"boreratio\",\n",
        "\"stroke\", #esto\n",
        "\"compressionratio\",\n",
        "\"horsepower\",\n",
        "\"peakrpm\",\n",
        "\"citympg\", #esto\n",
        "\"highwaympg\",\n",
        "'alfa-romeo', \n",
        "'audi', #esto\n",
        "'bmw', 'chevrolet', 'dodge', 'honda',\n",
        "       'isuzu', 'jaguar', 'mazda', 'buick', 'mercury', 'mitsubishi',\n",
        "       'nissan', 'peugot', 'plymouth', 'porsche', 'renault', 'saab',\n",
        "       'subaru', 'toyota', 'volkswagen', 'volvo', 'convertible', 'hatchback', 'sedan', 'wagon', 'hardtop','rwd', 'fwd', '4wd','two', 'four', 'front', 'rear', 'gas', 'diesel',\n",
        "\"price\"]]"
      ],
      "metadata": {
        "id": "T_ERocughBeR"
      },
      "execution_count": null,
      "outputs": []
    },
    {
      "cell_type": "code",
      "source": [
        "from sklearn.model_selection import train_test_split\n",
        "\n",
        "x1 = base_arbol.drop(columns = ['price']).copy()\n",
        "y1 = base_arbol['price']\n",
        "\n",
        "x_train1, x_test1, y_train1, y_test1 = train_test_split(x1,y1, test_size=0.20 )\n",
        "\n",
        "print(x_train1.shape), print(y_train1.shape)\n",
        "print(x_test1.shape), print(y_test1.shape)"
      ],
      "metadata": {
        "colab": {
          "base_uri": "https://localhost:8080/"
        },
        "id": "rbgCd6MUiSSv",
        "outputId": "ab466c28-72e9-42fb-f5df-786d350046df"
      },
      "execution_count": null,
      "outputs": [
        {
          "output_type": "stream",
          "name": "stdout",
          "text": [
            "(164, 49)\n",
            "(164,)\n",
            "(41, 49)\n",
            "(41,)\n"
          ]
        },
        {
          "output_type": "execute_result",
          "data": {
            "text/plain": [
              "(None, None)"
            ]
          },
          "metadata": {},
          "execution_count": 101
        }
      ]
    },
    {
      "cell_type": "code",
      "source": [],
      "metadata": {
        "id": "J3ly7I4693_U"
      },
      "execution_count": null,
      "outputs": []
    },
    {
      "cell_type": "code",
      "source": [
        "x_train1.dtypes"
      ],
      "metadata": {
        "colab": {
          "base_uri": "https://localhost:8080/"
        },
        "id": "ENYKQPpxjER7",
        "outputId": "85e774fe-1d5f-4103-9773-a6328c8cccc8"
      },
      "execution_count": null,
      "outputs": [
        {
          "output_type": "execute_result",
          "data": {
            "text/plain": [
              "wheelbase           float64\n",
              "carlength           float64\n",
              "carwidth            float64\n",
              "carheight           float64\n",
              "curbweight            int64\n",
              "enginesize            int64\n",
              "boreratio           float64\n",
              "stroke              float64\n",
              "compressionratio    float64\n",
              "horsepower            int64\n",
              "peakrpm               int64\n",
              "citympg               int64\n",
              "highwaympg            int64\n",
              "alfa-romeo            int64\n",
              "audi                  int64\n",
              "bmw                   int64\n",
              "chevrolet             int64\n",
              "dodge                 int64\n",
              "honda                 int64\n",
              "isuzu                 int64\n",
              "jaguar                int64\n",
              "mazda                 int64\n",
              "buick                 int64\n",
              "mercury               int64\n",
              "mitsubishi            int64\n",
              "nissan                int64\n",
              "peugot                int64\n",
              "plymouth              int64\n",
              "porsche               int64\n",
              "renault               int64\n",
              "saab                  int64\n",
              "subaru                int64\n",
              "toyota                int64\n",
              "volkswagen            int64\n",
              "volvo                 int64\n",
              "convertible           int64\n",
              "hatchback             int64\n",
              "sedan                 int64\n",
              "wagon                 int64\n",
              "hardtop               int64\n",
              "rwd                   int64\n",
              "fwd                   int64\n",
              "4wd                   int64\n",
              "two                   int64\n",
              "four                  int64\n",
              "front                 int64\n",
              "rear                  int64\n",
              "gas                   int64\n",
              "diesel                int64\n",
              "dtype: object"
            ]
          },
          "metadata": {},
          "execution_count": 102
        }
      ]
    },
    {
      "cell_type": "code",
      "source": [
        "from sklearn.tree import DecisionTreeRegressor\n",
        "from sklearn import tree\n",
        "\n",
        "\n",
        "arbol = DecisionTreeRegressor(\n",
        "    max_depth= 3\n",
        ")\n",
        "arbol.fit(x_train1, y_train1)\n",
        "\n",
        "tree.plot_tree(decision_tree = arbol,   \n",
        "            filled        = True,\n",
        "            impurity      = False,\n",
        "            fontsize      = 7)"
      ],
      "metadata": {
        "colab": {
          "base_uri": "https://localhost:8080/",
          "height": 508
        },
        "id": "ssUkDBQcgDPR",
        "outputId": "7a6f68e0-e1bf-4eb2-93d6-d29bcabd0472"
      },
      "execution_count": null,
      "outputs": [
        {
          "output_type": "execute_result",
          "data": {
            "text/plain": [
              "[Text(0.5, 0.875, 'X[5] <= 182.0\\nsamples = 164\\nvalue = 13740.998'),\n",
              " Text(0.25, 0.625, 'X[4] <= 2620.0\\nsamples = 148\\nvalue = 11479.515'),\n",
              " Text(0.125, 0.375, 'X[4] <= 2291.5\\nsamples = 97\\nvalue = 8774.258'),\n",
              " Text(0.0625, 0.125, 'samples = 58\\nvalue = 7417.793'),\n",
              " Text(0.1875, 0.125, 'samples = 39\\nvalue = 10791.564'),\n",
              " Text(0.375, 0.375, 'X[2] <= 68.6\\nsamples = 51\\nvalue = 16624.807'),\n",
              " Text(0.3125, 0.125, 'samples = 43\\nvalue = 15927.678'),\n",
              " Text(0.4375, 0.125, 'samples = 8\\nvalue = 20371.875'),\n",
              " Text(0.75, 0.625, 'X[12] <= 16.5\\nsamples = 16\\nvalue = 34659.719'),\n",
              " Text(0.625, 0.375, 'X[37] <= 0.5\\nsamples = 2\\nvalue = 43180.0'),\n",
              " Text(0.5625, 0.125, 'samples = 1\\nvalue = 45400.0'),\n",
              " Text(0.6875, 0.125, 'samples = 1\\nvalue = 40960.0'),\n",
              " Text(0.875, 0.375, 'X[3] <= 56.4\\nsamples = 14\\nvalue = 33442.536'),\n",
              " Text(0.8125, 0.125, 'samples = 12\\nvalue = 34532.958'),\n",
              " Text(0.9375, 0.125, 'samples = 2\\nvalue = 26900.0')]"
            ]
          },
          "metadata": {},
          "execution_count": 103
        },
        {
          "output_type": "display_data",
          "data": {
            "text/plain": [
              "<Figure size 432x288 with 1 Axes>"
            ],
            "image/png": "[encoded data removed]"
          },
          "metadata": {
            "needs_background": "light"
          }
        }
      ]
    },
    {
      "cell_type": "code",
      "source": [
        "#Prediccion y score\n",
        "pred_arbol = arbol.predict(x_test1)"
      ],
      "metadata": {
        "id": "ppGdCGqtj7iS"
      },
      "execution_count": null,
      "outputs": []
    },
    {
      "cell_type": "code",
      "source": [
        "print(x_train1.shape)\n",
        "print(y_train1.shape)"
      ],
      "metadata": {
        "colab": {
          "base_uri": "https://localhost:8080/"
        },
        "id": "Lnz7sgK3m9a6",
        "outputId": "8a458766-6590-4455-f8f9-f6d03d55e52a"
      },
      "execution_count": null,
      "outputs": [
        {
          "output_type": "stream",
          "name": "stdout",
          "text": [
            "(164, 47)\n",
            "(164,)\n"
          ]
        }
      ]
    },
    {
      "cell_type": "code",
      "source": [
        "from sklearn import metrics\n",
        "R2_arbol = metrics.r2_score(y_test1, pred_arbol)\n",
        "MSE_arbol = metrics.mean_squared_error(y_test1, pred_arbol)\n",
        "\n",
        "\n",
        "print(\"R2: \", R2_arbol)\n",
        "print(\"MSE: \", MSE_arbol) \n"
      ],
      "metadata": {
        "colab": {
          "base_uri": "https://localhost:8080/"
        },
        "id": "mpApLoojlS66",
        "outputId": "a20c9643-0cb9-4319-efef-51d51dac47db"
      },
      "execution_count": null,
      "outputs": [
        {
          "output_type": "stream",
          "name": "stdout",
          "text": [
            "R2:  0.8476177439018051\n",
            "MSE:  7992859.038016996\n"
          ]
        }
      ]
    },
    {
      "cell_type": "code",
      "source": [
        "sns.regplot(x = y_test1, y = pred_arbol).set(title = \"y_test vs y_pred\")"
      ],
      "metadata": {
        "colab": {
          "base_uri": "https://localhost:8080/",
          "height": 313
        },
        "id": "oN2wy4WPpcEo",
        "outputId": "dcd9ed37-80d0-40da-9f1d-9e8bd9f11881"
      },
      "execution_count": null,
      "outputs": [
        {
          "output_type": "execute_result",
          "data": {
            "text/plain": [
              "[Text(0.5, 1.0, 'y_test vs y_pred')]"
            ]
          },
          "metadata": {},
          "execution_count": 46
        },
        {
          "output_type": "display_data",
          "data": {
            "text/plain": [
              "<Figure size 432x288 with 1 Axes>"
            ],
            "image/png": "[encoded data removed]"
          },
          "metadata": {
            "needs_background": "light"
          }
        }
      ]
    }
  ]
}